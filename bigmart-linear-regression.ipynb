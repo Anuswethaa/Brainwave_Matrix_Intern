{
 "cells": [
  {
   "cell_type": "markdown",
   "id": "7d9bcb66",
   "metadata": {
    "papermill": {
     "duration": 0.033179,
     "end_time": "2022-08-13T17:44:20.840299",
     "exception": false,
     "start_time": "2022-08-13T17:44:20.807120",
     "status": "completed"
    },
    "tags": []
   },
   "source": [
    "# BigMart Sales Data"
   ]
  },
  {
   "cell_type": "markdown",
   "id": "b8e7081a",
   "metadata": {
    "papermill": {
     "duration": 0.030626,
     "end_time": "2022-08-13T17:44:20.901973",
     "exception": false,
     "start_time": "2022-08-13T17:44:20.871347",
     "status": "completed"
    },
    "tags": []
   },
   "source": [
    "### 1. Importing Required Packages"
   ]
  },
  {
   "cell_type": "code",
   "execution_count": 1,
   "id": "0fb7b41a",
   "metadata": {
    "execution": {
     "iopub.execute_input": "2022-08-13T17:44:20.966108Z",
     "iopub.status.busy": "2022-08-13T17:44:20.965328Z",
     "iopub.status.idle": "2022-08-13T17:44:22.514599Z",
     "shell.execute_reply": "2022-08-13T17:44:22.513057Z"
    },
    "papermill": {
     "duration": 1.584778,
     "end_time": "2022-08-13T17:44:22.517794",
     "exception": false,
     "start_time": "2022-08-13T17:44:20.933016",
     "status": "completed"
    },
    "tags": []
   },
   "outputs": [],
   "source": [
    "import numpy as np\n",
    "import pandas as pd \n",
    "import matplotlib.pyplot as plt\n",
    "import seaborn as sns\n",
    "\n",
    "from sklearn.preprocessing import LabelEncoder\n",
    "from sklearn.model_selection import train_test_split\n",
    "from sklearn import metrics\n",
    "from sklearn.linear_model import LinearRegression\n",
    "\n",
    "%matplotlib inline \n",
    "import warnings\n",
    "warnings.filterwarnings(\"always\")\n",
    "warnings.filterwarnings(\"ignore\")\n",
    "\n",
    "from sklearn.model_selection  import cross_val_score as CVS"
   ]
  },
  {
   "cell_type": "markdown",
   "id": "485140f1",
   "metadata": {
    "papermill": {
     "duration": 0.029638,
     "end_time": "2022-08-13T17:44:22.578682",
     "exception": false,
     "start_time": "2022-08-13T17:44:22.549044",
     "status": "completed"
    },
    "tags": []
   },
   "source": [
    "## 2. Loading the Data and Data Analysis"
   ]
  },
  {
   "cell_type": "code",
   "execution_count": 2,
   "id": "47dd6c42",
   "metadata": {
    "execution": {
     "iopub.execute_input": "2022-08-13T17:44:22.640117Z",
     "iopub.status.busy": "2022-08-13T17:44:22.639625Z",
     "iopub.status.idle": "2022-08-13T17:44:22.652318Z",
     "shell.execute_reply": "2022-08-13T17:44:22.651356Z"
    },
    "papermill": {
     "duration": 0.047206,
     "end_time": "2022-08-13T17:44:22.655529",
     "exception": false,
     "start_time": "2022-08-13T17:44:22.608323",
     "status": "completed"
    },
    "tags": []
   },
   "outputs": [
    {
     "name": "stdout",
     "output_type": "stream",
     "text": [
      "/kaggle/input/bigmart-sales-linear-regression/BigMartTrain.csv\n",
      "/kaggle/input/bigmart-sales-linear-regression/BigMartTest.csv\n"
     ]
    }
   ],
   "source": [
    "import os\n",
    "for dirname, _, filenames in os.walk('/kaggle/input'):\n",
    "    for filename in filenames:\n",
    "        print(os.path.join(dirname, filename))"
   ]
  },
  {
   "cell_type": "code",
   "execution_count": 3,
   "id": "5315ffea",
   "metadata": {
    "execution": {
     "iopub.execute_input": "2022-08-13T17:44:22.719074Z",
     "iopub.status.busy": "2022-08-13T17:44:22.718200Z",
     "iopub.status.idle": "2022-08-13T17:44:22.722938Z",
     "shell.execute_reply": "2022-08-13T17:44:22.721946Z"
    },
    "papermill": {
     "duration": 0.039447,
     "end_time": "2022-08-13T17:44:22.725464",
     "exception": false,
     "start_time": "2022-08-13T17:44:22.686017",
     "status": "completed"
    },
    "tags": []
   },
   "outputs": [],
   "source": [
    "path_tr='/kaggle/input/bigmart-sales-linear-regression/BigMartTrain.csv'\n",
    "path_te='/kaggle/input/bigmart-sales-linear-regression/BigMartTest.csv'"
   ]
  },
  {
   "cell_type": "code",
   "execution_count": 4,
   "id": "89c79263",
   "metadata": {
    "execution": {
     "iopub.execute_input": "2022-08-13T17:44:22.787622Z",
     "iopub.status.busy": "2022-08-13T17:44:22.786863Z",
     "iopub.status.idle": "2022-08-13T17:44:22.858631Z",
     "shell.execute_reply": "2022-08-13T17:44:22.857358Z"
    },
    "papermill": {
     "duration": 0.106438,
     "end_time": "2022-08-13T17:44:22.862102",
     "exception": false,
     "start_time": "2022-08-13T17:44:22.755664",
     "status": "completed"
    },
    "tags": []
   },
   "outputs": [],
   "source": [
    "train_df = pd.read_csv(path_tr)\n",
    "test_df = pd.read_csv(path_te)"
   ]
  },
  {
   "cell_type": "code",
   "execution_count": 5,
   "id": "8d58b99e",
   "metadata": {
    "execution": {
     "iopub.execute_input": "2022-08-13T17:44:22.925200Z",
     "iopub.status.busy": "2022-08-13T17:44:22.924830Z",
     "iopub.status.idle": "2022-08-13T17:44:22.934473Z",
     "shell.execute_reply": "2022-08-13T17:44:22.933293Z"
    },
    "papermill": {
     "duration": 0.04403,
     "end_time": "2022-08-13T17:44:22.936931",
     "exception": false,
     "start_time": "2022-08-13T17:44:22.892901",
     "status": "completed"
    },
    "tags": []
   },
   "outputs": [
    {
     "data": {
      "text/plain": [
       "((8523, 12), (5681, 11))"
      ]
     },
     "execution_count": 5,
     "metadata": {},
     "output_type": "execute_result"
    }
   ],
   "source": [
    "train_df.shape, test_df.shape"
   ]
  },
  {
   "cell_type": "markdown",
   "id": "03767551",
   "metadata": {
    "papermill": {
     "duration": 0.029541,
     "end_time": "2022-08-13T17:44:22.996397",
     "exception": false,
     "start_time": "2022-08-13T17:44:22.966856",
     "status": "completed"
    },
    "tags": []
   },
   "source": [
    "> 8523 rows X 12 columns in BigMart Train"
   ]
  },
  {
   "cell_type": "code",
   "execution_count": 6,
   "id": "e93784ea",
   "metadata": {
    "execution": {
     "iopub.execute_input": "2022-08-13T17:44:23.059276Z",
     "iopub.status.busy": "2022-08-13T17:44:23.058411Z",
     "iopub.status.idle": "2022-08-13T17:44:23.084527Z",
     "shell.execute_reply": "2022-08-13T17:44:23.083318Z"
    },
    "papermill": {
     "duration": 0.06086,
     "end_time": "2022-08-13T17:44:23.086980",
     "exception": false,
     "start_time": "2022-08-13T17:44:23.026120",
     "status": "completed"
    },
    "tags": []
   },
   "outputs": [
    {
     "data": {
      "text/html": [
       "<div>\n",
       "<style scoped>\n",
       "    .dataframe tbody tr th:only-of-type {\n",
       "        vertical-align: middle;\n",
       "    }\n",
       "\n",
       "    .dataframe tbody tr th {\n",
       "        vertical-align: top;\n",
       "    }\n",
       "\n",
       "    .dataframe thead th {\n",
       "        text-align: right;\n",
       "    }\n",
       "</style>\n",
       "<table border=\"1\" class=\"dataframe\">\n",
       "  <thead>\n",
       "    <tr style=\"text-align: right;\">\n",
       "      <th></th>\n",
       "      <th>Item_Identifier</th>\n",
       "      <th>Item_Weight</th>\n",
       "      <th>Item_Fat_Content</th>\n",
       "      <th>Item_Visibility</th>\n",
       "      <th>Item_Type</th>\n",
       "      <th>Item_MRP</th>\n",
       "      <th>Outlet_Identifier</th>\n",
       "      <th>Outlet_Establishment_Year</th>\n",
       "      <th>Outlet_Size</th>\n",
       "      <th>Outlet_Location_Type</th>\n",
       "      <th>Outlet_Type</th>\n",
       "      <th>Item_Outlet_Sales</th>\n",
       "    </tr>\n",
       "  </thead>\n",
       "  <tbody>\n",
       "    <tr>\n",
       "      <th>0</th>\n",
       "      <td>FDA15</td>\n",
       "      <td>9.30</td>\n",
       "      <td>Low Fat</td>\n",
       "      <td>0.016047</td>\n",
       "      <td>Dairy</td>\n",
       "      <td>249.8092</td>\n",
       "      <td>OUT049</td>\n",
       "      <td>1999</td>\n",
       "      <td>Medium</td>\n",
       "      <td>Tier 1</td>\n",
       "      <td>Supermarket Type1</td>\n",
       "      <td>3735.1380</td>\n",
       "    </tr>\n",
       "    <tr>\n",
       "      <th>1</th>\n",
       "      <td>DRC01</td>\n",
       "      <td>5.92</td>\n",
       "      <td>Regular</td>\n",
       "      <td>0.019278</td>\n",
       "      <td>Soft Drinks</td>\n",
       "      <td>48.2692</td>\n",
       "      <td>OUT018</td>\n",
       "      <td>2009</td>\n",
       "      <td>Medium</td>\n",
       "      <td>Tier 3</td>\n",
       "      <td>Supermarket Type2</td>\n",
       "      <td>443.4228</td>\n",
       "    </tr>\n",
       "    <tr>\n",
       "      <th>2</th>\n",
       "      <td>FDN15</td>\n",
       "      <td>17.50</td>\n",
       "      <td>Low Fat</td>\n",
       "      <td>0.016760</td>\n",
       "      <td>Meat</td>\n",
       "      <td>141.6180</td>\n",
       "      <td>OUT049</td>\n",
       "      <td>1999</td>\n",
       "      <td>Medium</td>\n",
       "      <td>Tier 1</td>\n",
       "      <td>Supermarket Type1</td>\n",
       "      <td>2097.2700</td>\n",
       "    </tr>\n",
       "    <tr>\n",
       "      <th>3</th>\n",
       "      <td>FDX07</td>\n",
       "      <td>19.20</td>\n",
       "      <td>Regular</td>\n",
       "      <td>0.000000</td>\n",
       "      <td>Fruits and Vegetables</td>\n",
       "      <td>182.0950</td>\n",
       "      <td>OUT010</td>\n",
       "      <td>1998</td>\n",
       "      <td>NaN</td>\n",
       "      <td>Tier 3</td>\n",
       "      <td>Grocery Store</td>\n",
       "      <td>732.3800</td>\n",
       "    </tr>\n",
       "    <tr>\n",
       "      <th>4</th>\n",
       "      <td>NCD19</td>\n",
       "      <td>8.93</td>\n",
       "      <td>Low Fat</td>\n",
       "      <td>0.000000</td>\n",
       "      <td>Household</td>\n",
       "      <td>53.8614</td>\n",
       "      <td>OUT013</td>\n",
       "      <td>1987</td>\n",
       "      <td>High</td>\n",
       "      <td>Tier 3</td>\n",
       "      <td>Supermarket Type1</td>\n",
       "      <td>994.7052</td>\n",
       "    </tr>\n",
       "  </tbody>\n",
       "</table>\n",
       "</div>"
      ],
      "text/plain": [
       "  Item_Identifier  Item_Weight Item_Fat_Content  Item_Visibility  \\\n",
       "0           FDA15         9.30          Low Fat         0.016047   \n",
       "1           DRC01         5.92          Regular         0.019278   \n",
       "2           FDN15        17.50          Low Fat         0.016760   \n",
       "3           FDX07        19.20          Regular         0.000000   \n",
       "4           NCD19         8.93          Low Fat         0.000000   \n",
       "\n",
       "               Item_Type  Item_MRP Outlet_Identifier  \\\n",
       "0                  Dairy  249.8092            OUT049   \n",
       "1            Soft Drinks   48.2692            OUT018   \n",
       "2                   Meat  141.6180            OUT049   \n",
       "3  Fruits and Vegetables  182.0950            OUT010   \n",
       "4              Household   53.8614            OUT013   \n",
       "\n",
       "   Outlet_Establishment_Year Outlet_Size Outlet_Location_Type  \\\n",
       "0                       1999      Medium               Tier 1   \n",
       "1                       2009      Medium               Tier 3   \n",
       "2                       1999      Medium               Tier 1   \n",
       "3                       1998         NaN               Tier 3   \n",
       "4                       1987        High               Tier 3   \n",
       "\n",
       "         Outlet_Type  Item_Outlet_Sales  \n",
       "0  Supermarket Type1          3735.1380  \n",
       "1  Supermarket Type2           443.4228  \n",
       "2  Supermarket Type1          2097.2700  \n",
       "3      Grocery Store           732.3800  \n",
       "4  Supermarket Type1           994.7052  "
      ]
     },
     "execution_count": 6,
     "metadata": {},
     "output_type": "execute_result"
    }
   ],
   "source": [
    "train_df.head()"
   ]
  },
  {
   "cell_type": "code",
   "execution_count": 7,
   "id": "4eb1b4a2",
   "metadata": {
    "execution": {
     "iopub.execute_input": "2022-08-13T17:44:23.149496Z",
     "iopub.status.busy": "2022-08-13T17:44:23.148694Z",
     "iopub.status.idle": "2022-08-13T17:44:23.166032Z",
     "shell.execute_reply": "2022-08-13T17:44:23.164838Z"
    },
    "papermill": {
     "duration": 0.051383,
     "end_time": "2022-08-13T17:44:23.168340",
     "exception": false,
     "start_time": "2022-08-13T17:44:23.116957",
     "status": "completed"
    },
    "tags": []
   },
   "outputs": [
    {
     "data": {
      "text/html": [
       "<div>\n",
       "<style scoped>\n",
       "    .dataframe tbody tr th:only-of-type {\n",
       "        vertical-align: middle;\n",
       "    }\n",
       "\n",
       "    .dataframe tbody tr th {\n",
       "        vertical-align: top;\n",
       "    }\n",
       "\n",
       "    .dataframe thead th {\n",
       "        text-align: right;\n",
       "    }\n",
       "</style>\n",
       "<table border=\"1\" class=\"dataframe\">\n",
       "  <thead>\n",
       "    <tr style=\"text-align: right;\">\n",
       "      <th></th>\n",
       "      <th>Item_Identifier</th>\n",
       "      <th>Item_Weight</th>\n",
       "      <th>Item_Fat_Content</th>\n",
       "      <th>Item_Visibility</th>\n",
       "      <th>Item_Type</th>\n",
       "      <th>Item_MRP</th>\n",
       "      <th>Outlet_Identifier</th>\n",
       "      <th>Outlet_Establishment_Year</th>\n",
       "      <th>Outlet_Size</th>\n",
       "      <th>Outlet_Location_Type</th>\n",
       "      <th>Outlet_Type</th>\n",
       "    </tr>\n",
       "  </thead>\n",
       "  <tbody>\n",
       "    <tr>\n",
       "      <th>0</th>\n",
       "      <td>FDW58</td>\n",
       "      <td>20.750</td>\n",
       "      <td>Low Fat</td>\n",
       "      <td>0.007565</td>\n",
       "      <td>Snack Foods</td>\n",
       "      <td>107.8622</td>\n",
       "      <td>OUT049</td>\n",
       "      <td>1999</td>\n",
       "      <td>Medium</td>\n",
       "      <td>Tier 1</td>\n",
       "      <td>Supermarket Type1</td>\n",
       "    </tr>\n",
       "    <tr>\n",
       "      <th>1</th>\n",
       "      <td>FDW14</td>\n",
       "      <td>8.300</td>\n",
       "      <td>reg</td>\n",
       "      <td>0.038428</td>\n",
       "      <td>Dairy</td>\n",
       "      <td>87.3198</td>\n",
       "      <td>OUT017</td>\n",
       "      <td>2007</td>\n",
       "      <td>NaN</td>\n",
       "      <td>Tier 2</td>\n",
       "      <td>Supermarket Type1</td>\n",
       "    </tr>\n",
       "    <tr>\n",
       "      <th>2</th>\n",
       "      <td>NCN55</td>\n",
       "      <td>14.600</td>\n",
       "      <td>Low Fat</td>\n",
       "      <td>0.099575</td>\n",
       "      <td>Others</td>\n",
       "      <td>241.7538</td>\n",
       "      <td>OUT010</td>\n",
       "      <td>1998</td>\n",
       "      <td>NaN</td>\n",
       "      <td>Tier 3</td>\n",
       "      <td>Grocery Store</td>\n",
       "    </tr>\n",
       "    <tr>\n",
       "      <th>3</th>\n",
       "      <td>FDQ58</td>\n",
       "      <td>7.315</td>\n",
       "      <td>Low Fat</td>\n",
       "      <td>0.015388</td>\n",
       "      <td>Snack Foods</td>\n",
       "      <td>155.0340</td>\n",
       "      <td>OUT017</td>\n",
       "      <td>2007</td>\n",
       "      <td>NaN</td>\n",
       "      <td>Tier 2</td>\n",
       "      <td>Supermarket Type1</td>\n",
       "    </tr>\n",
       "    <tr>\n",
       "      <th>4</th>\n",
       "      <td>FDY38</td>\n",
       "      <td>NaN</td>\n",
       "      <td>Regular</td>\n",
       "      <td>0.118599</td>\n",
       "      <td>Dairy</td>\n",
       "      <td>234.2300</td>\n",
       "      <td>OUT027</td>\n",
       "      <td>1985</td>\n",
       "      <td>Medium</td>\n",
       "      <td>Tier 3</td>\n",
       "      <td>Supermarket Type3</td>\n",
       "    </tr>\n",
       "  </tbody>\n",
       "</table>\n",
       "</div>"
      ],
      "text/plain": [
       "  Item_Identifier  Item_Weight Item_Fat_Content  Item_Visibility    Item_Type  \\\n",
       "0           FDW58       20.750          Low Fat         0.007565  Snack Foods   \n",
       "1           FDW14        8.300              reg         0.038428        Dairy   \n",
       "2           NCN55       14.600          Low Fat         0.099575       Others   \n",
       "3           FDQ58        7.315          Low Fat         0.015388  Snack Foods   \n",
       "4           FDY38          NaN          Regular         0.118599        Dairy   \n",
       "\n",
       "   Item_MRP Outlet_Identifier  Outlet_Establishment_Year Outlet_Size  \\\n",
       "0  107.8622            OUT049                       1999      Medium   \n",
       "1   87.3198            OUT017                       2007         NaN   \n",
       "2  241.7538            OUT010                       1998         NaN   \n",
       "3  155.0340            OUT017                       2007         NaN   \n",
       "4  234.2300            OUT027                       1985      Medium   \n",
       "\n",
       "  Outlet_Location_Type        Outlet_Type  \n",
       "0               Tier 1  Supermarket Type1  \n",
       "1               Tier 2  Supermarket Type1  \n",
       "2               Tier 3      Grocery Store  \n",
       "3               Tier 2  Supermarket Type1  \n",
       "4               Tier 3  Supermarket Type3  "
      ]
     },
     "execution_count": 7,
     "metadata": {},
     "output_type": "execute_result"
    }
   ],
   "source": [
    "test_df.head()"
   ]
  },
  {
   "cell_type": "code",
   "execution_count": 8,
   "id": "bdbfe438",
   "metadata": {
    "execution": {
     "iopub.execute_input": "2022-08-13T17:44:23.233936Z",
     "iopub.status.busy": "2022-08-13T17:44:23.232892Z",
     "iopub.status.idle": "2022-08-13T17:44:23.239421Z",
     "shell.execute_reply": "2022-08-13T17:44:23.238615Z"
    },
    "papermill": {
     "duration": 0.041699,
     "end_time": "2022-08-13T17:44:23.241613",
     "exception": false,
     "start_time": "2022-08-13T17:44:23.199914",
     "status": "completed"
    },
    "tags": []
   },
   "outputs": [
    {
     "data": {
      "text/plain": [
       "Index(['Item_Identifier', 'Item_Weight', 'Item_Fat_Content', 'Item_Visibility',\n",
       "       'Item_Type', 'Item_MRP', 'Outlet_Identifier',\n",
       "       'Outlet_Establishment_Year', 'Outlet_Size', 'Outlet_Location_Type',\n",
       "       'Outlet_Type', 'Item_Outlet_Sales'],\n",
       "      dtype='object')"
      ]
     },
     "execution_count": 8,
     "metadata": {},
     "output_type": "execute_result"
    }
   ],
   "source": [
    "train_df.columns"
   ]
  },
  {
   "cell_type": "code",
   "execution_count": 9,
   "id": "a8f55537",
   "metadata": {
    "execution": {
     "iopub.execute_input": "2022-08-13T17:44:23.305162Z",
     "iopub.status.busy": "2022-08-13T17:44:23.304051Z",
     "iopub.status.idle": "2022-08-13T17:44:23.310733Z",
     "shell.execute_reply": "2022-08-13T17:44:23.309885Z"
    },
    "papermill": {
     "duration": 0.040562,
     "end_time": "2022-08-13T17:44:23.312902",
     "exception": false,
     "start_time": "2022-08-13T17:44:23.272340",
     "status": "completed"
    },
    "tags": []
   },
   "outputs": [
    {
     "data": {
      "text/plain": [
       "Index(['Item_Identifier', 'Item_Weight', 'Item_Fat_Content', 'Item_Visibility',\n",
       "       'Item_Type', 'Item_MRP', 'Outlet_Identifier',\n",
       "       'Outlet_Establishment_Year', 'Outlet_Size', 'Outlet_Location_Type',\n",
       "       'Outlet_Type'],\n",
       "      dtype='object')"
      ]
     },
     "execution_count": 9,
     "metadata": {},
     "output_type": "execute_result"
    }
   ],
   "source": [
    "test_df.columns"
   ]
  },
  {
   "cell_type": "code",
   "execution_count": 10,
   "id": "0bb2f3c5",
   "metadata": {
    "execution": {
     "iopub.execute_input": "2022-08-13T17:44:23.378414Z",
     "iopub.status.busy": "2022-08-13T17:44:23.377974Z",
     "iopub.status.idle": "2022-08-13T17:44:23.406789Z",
     "shell.execute_reply": "2022-08-13T17:44:23.405543Z"
    },
    "papermill": {
     "duration": 0.064235,
     "end_time": "2022-08-13T17:44:23.409752",
     "exception": false,
     "start_time": "2022-08-13T17:44:23.345517",
     "status": "completed"
    },
    "tags": []
   },
   "outputs": [
    {
     "name": "stdout",
     "output_type": "stream",
     "text": [
      "<class 'pandas.core.frame.DataFrame'>\n",
      "RangeIndex: 8523 entries, 0 to 8522\n",
      "Data columns (total 12 columns):\n",
      " #   Column                     Non-Null Count  Dtype  \n",
      "---  ------                     --------------  -----  \n",
      " 0   Item_Identifier            8523 non-null   object \n",
      " 1   Item_Weight                7060 non-null   float64\n",
      " 2   Item_Fat_Content           8523 non-null   object \n",
      " 3   Item_Visibility            8523 non-null   float64\n",
      " 4   Item_Type                  8523 non-null   object \n",
      " 5   Item_MRP                   8523 non-null   float64\n",
      " 6   Outlet_Identifier          8523 non-null   object \n",
      " 7   Outlet_Establishment_Year  8523 non-null   int64  \n",
      " 8   Outlet_Size                6113 non-null   object \n",
      " 9   Outlet_Location_Type       8523 non-null   object \n",
      " 10  Outlet_Type                8523 non-null   object \n",
      " 11  Item_Outlet_Sales          8523 non-null   float64\n",
      "dtypes: float64(4), int64(1), object(7)\n",
      "memory usage: 799.2+ KB\n"
     ]
    }
   ],
   "source": [
    "train_df.info()"
   ]
  },
  {
   "cell_type": "markdown",
   "id": "75857423",
   "metadata": {
    "papermill": {
     "duration": 0.030613,
     "end_time": "2022-08-13T17:44:23.472261",
     "exception": false,
     "start_time": "2022-08-13T17:44:23.441648",
     "status": "completed"
    },
    "tags": []
   },
   "source": [
    "> Columns Item_Weight, Outlet_Size have null values"
   ]
  },
  {
   "cell_type": "code",
   "execution_count": 11,
   "id": "5052ec32",
   "metadata": {
    "execution": {
     "iopub.execute_input": "2022-08-13T17:44:23.535521Z",
     "iopub.status.busy": "2022-08-13T17:44:23.534772Z",
     "iopub.status.idle": "2022-08-13T17:44:23.546224Z",
     "shell.execute_reply": "2022-08-13T17:44:23.545315Z"
    },
    "papermill": {
     "duration": 0.045791,
     "end_time": "2022-08-13T17:44:23.548464",
     "exception": false,
     "start_time": "2022-08-13T17:44:23.502673",
     "status": "completed"
    },
    "tags": []
   },
   "outputs": [
    {
     "data": {
      "text/plain": [
       "Item_Identifier                 0\n",
       "Item_Weight                  1463\n",
       "Item_Fat_Content                0\n",
       "Item_Visibility                 0\n",
       "Item_Type                       0\n",
       "Item_MRP                        0\n",
       "Outlet_Identifier               0\n",
       "Outlet_Establishment_Year       0\n",
       "Outlet_Size                  2410\n",
       "Outlet_Location_Type            0\n",
       "Outlet_Type                     0\n",
       "Item_Outlet_Sales               0\n",
       "dtype: int64"
      ]
     },
     "execution_count": 11,
     "metadata": {},
     "output_type": "execute_result"
    }
   ],
   "source": [
    "# No. of missing/null values in train data\n",
    "# train_df.isnull().sum().sort_values(ascending=False)\n",
    "train_df.isnull().sum()"
   ]
  },
  {
   "cell_type": "code",
   "execution_count": 12,
   "id": "00024f26",
   "metadata": {
    "execution": {
     "iopub.execute_input": "2022-08-13T17:44:23.613427Z",
     "iopub.status.busy": "2022-08-13T17:44:23.612966Z",
     "iopub.status.idle": "2022-08-13T17:44:23.625794Z",
     "shell.execute_reply": "2022-08-13T17:44:23.624784Z"
    },
    "papermill": {
     "duration": 0.048419,
     "end_time": "2022-08-13T17:44:23.628108",
     "exception": false,
     "start_time": "2022-08-13T17:44:23.579689",
     "status": "completed"
    },
    "tags": []
   },
   "outputs": [
    {
     "data": {
      "text/plain": [
       "Item_Identifier               0.000000\n",
       "Item_Weight                  17.165317\n",
       "Item_Fat_Content              0.000000\n",
       "Item_Visibility               0.000000\n",
       "Item_Type                     0.000000\n",
       "Item_MRP                      0.000000\n",
       "Outlet_Identifier             0.000000\n",
       "Outlet_Establishment_Year     0.000000\n",
       "Outlet_Size                  28.276428\n",
       "Outlet_Location_Type          0.000000\n",
       "Outlet_Type                   0.000000\n",
       "Item_Outlet_Sales             0.000000\n",
       "dtype: float64"
      ]
     },
     "execution_count": 12,
     "metadata": {},
     "output_type": "execute_result"
    }
   ],
   "source": [
    "# % of missing/null values in train data\n",
    "train_df.isnull().sum() / train_df.shape[0]*100"
   ]
  },
  {
   "cell_type": "code",
   "execution_count": 13,
   "id": "fbc97a8c",
   "metadata": {
    "execution": {
     "iopub.execute_input": "2022-08-13T17:44:23.692815Z",
     "iopub.status.busy": "2022-08-13T17:44:23.692092Z",
     "iopub.status.idle": "2022-08-13T17:44:23.702677Z",
     "shell.execute_reply": "2022-08-13T17:44:23.701651Z"
    },
    "papermill": {
     "duration": 0.045958,
     "end_time": "2022-08-13T17:44:23.704959",
     "exception": false,
     "start_time": "2022-08-13T17:44:23.659001",
     "status": "completed"
    },
    "tags": []
   },
   "outputs": [
    {
     "data": {
      "text/plain": [
       "Outlet_Size                  1606\n",
       "Item_Weight                   976\n",
       "Item_Identifier                 0\n",
       "Item_Fat_Content                0\n",
       "Item_Visibility                 0\n",
       "Item_Type                       0\n",
       "Item_MRP                        0\n",
       "Outlet_Identifier               0\n",
       "Outlet_Establishment_Year       0\n",
       "Outlet_Location_Type            0\n",
       "Outlet_Type                     0\n",
       "dtype: int64"
      ]
     },
     "execution_count": 13,
     "metadata": {},
     "output_type": "execute_result"
    }
   ],
   "source": [
    "# No. of missing/null values in test data\n",
    "test_df.isnull().sum().sort_values(ascending=False)"
   ]
  },
  {
   "cell_type": "code",
   "execution_count": 14,
   "id": "90bff793",
   "metadata": {
    "execution": {
     "iopub.execute_input": "2022-08-13T17:44:23.770981Z",
     "iopub.status.busy": "2022-08-13T17:44:23.769509Z",
     "iopub.status.idle": "2022-08-13T17:44:23.782814Z",
     "shell.execute_reply": "2022-08-13T17:44:23.781653Z"
    },
    "papermill": {
     "duration": 0.04819,
     "end_time": "2022-08-13T17:44:23.785052",
     "exception": false,
     "start_time": "2022-08-13T17:44:23.736862",
     "status": "completed"
    },
    "tags": []
   },
   "outputs": [
    {
     "data": {
      "text/plain": [
       "Item_Identifier              0.000000\n",
       "Item_Weight                  0.171801\n",
       "Item_Fat_Content             0.000000\n",
       "Item_Visibility              0.000000\n",
       "Item_Type                    0.000000\n",
       "Item_MRP                     0.000000\n",
       "Outlet_Identifier            0.000000\n",
       "Outlet_Establishment_Year    0.000000\n",
       "Outlet_Size                  0.282697\n",
       "Outlet_Location_Type         0.000000\n",
       "Outlet_Type                  0.000000\n",
       "dtype: float64"
      ]
     },
     "execution_count": 14,
     "metadata": {},
     "output_type": "execute_result"
    }
   ],
   "source": [
    "# % of missing/null values in test data\n",
    "test_df.isnull().sum() / test_df.shape[0]"
   ]
  },
  {
   "cell_type": "markdown",
   "id": "2e3a9282",
   "metadata": {
    "papermill": {
     "duration": 0.03116,
     "end_time": "2022-08-13T17:44:23.847686",
     "exception": false,
     "start_time": "2022-08-13T17:44:23.816526",
     "status": "completed"
    },
    "tags": []
   },
   "source": [
    "__We have 17% and 28% of missing values in Item weight and Outlet_Size columns respectively.__"
   ]
  },
  {
   "cell_type": "code",
   "execution_count": 15,
   "id": "71a63a4d",
   "metadata": {
    "execution": {
     "iopub.execute_input": "2022-08-13T17:44:23.912492Z",
     "iopub.status.busy": "2022-08-13T17:44:23.911749Z",
     "iopub.status.idle": "2022-08-13T17:44:23.925081Z",
     "shell.execute_reply": "2022-08-13T17:44:23.923462Z"
    },
    "papermill": {
     "duration": 0.048654,
     "end_time": "2022-08-13T17:44:23.927981",
     "exception": false,
     "start_time": "2022-08-13T17:44:23.879327",
     "status": "completed"
    },
    "tags": []
   },
   "outputs": [
    {
     "name": "stdout",
     "output_type": "stream",
     "text": [
      "Train Data\n",
      "Categorical Features in Train Set: 7\n",
      "['Item_Identifier', 'Item_Fat_Content', 'Item_Type', 'Outlet_Identifier', 'Outlet_Size', 'Outlet_Location_Type', 'Outlet_Type']\n",
      "Numerical Features in Train Set: 5\n",
      "['Item_Weight', 'Item_Visibility', 'Item_MRP', 'Outlet_Establishment_Year', 'Item_Outlet_Sales']\n"
     ]
    }
   ],
   "source": [
    "#categorical features\n",
    "print('Train Data')\n",
    "categorical = train_df.select_dtypes(include =[np.object])\n",
    "print(\"Categorical Features in Train Set:\",categorical.shape[1])\n",
    "print(categorical.columns.to_list())\n",
    "#numerical features\n",
    "numerical= train_df.select_dtypes(include =[np.float64,np.int64])\n",
    "print(\"Numerical Features in Train Set:\",numerical.shape[1])\n",
    "print(numerical.columns.to_list())"
   ]
  },
  {
   "cell_type": "code",
   "execution_count": 16,
   "id": "f12368d0",
   "metadata": {
    "execution": {
     "iopub.execute_input": "2022-08-13T17:44:23.993178Z",
     "iopub.status.busy": "2022-08-13T17:44:23.992771Z",
     "iopub.status.idle": "2022-08-13T17:44:24.003110Z",
     "shell.execute_reply": "2022-08-13T17:44:24.002268Z"
    },
    "papermill": {
     "duration": 0.04583,
     "end_time": "2022-08-13T17:44:24.005619",
     "exception": false,
     "start_time": "2022-08-13T17:44:23.959789",
     "status": "completed"
    },
    "tags": []
   },
   "outputs": [
    {
     "name": "stdout",
     "output_type": "stream",
     "text": [
      "Test Data\n",
      "Categorical Features in Test set:  7\n",
      "['Item_Identifier', 'Item_Fat_Content', 'Item_Type', 'Outlet_Identifier', 'Outlet_Size', 'Outlet_Location_Type', 'Outlet_Type']\n",
      "Numerical Features in Test set:  4\n",
      "['Item_Weight', 'Item_Visibility', 'Item_MRP', 'Outlet_Establishment_Year']\n"
     ]
    }
   ],
   "source": [
    "print('Test Data')\n",
    "# Categorical\n",
    "cat_test = test_df.select_dtypes(include=[np.object])\n",
    "print(\"Categorical Features in Test set: \", cat_test.shape[1])\n",
    "print(cat_test.columns.to_list())\n",
    "\n",
    "# Numerical\n",
    "num_test = test_df.select_dtypes(include=[np.float64, np.int64])\n",
    "print(\"Numerical Features in Test set: \", num_test.shape[1])\n",
    "print(num_test.columns.to_list())"
   ]
  },
  {
   "cell_type": "markdown",
   "id": "a97a3a9e",
   "metadata": {
    "papermill": {
     "duration": 0.030921,
     "end_time": "2022-08-13T17:44:24.068668",
     "exception": false,
     "start_time": "2022-08-13T17:44:24.037747",
     "status": "completed"
    },
    "tags": []
   },
   "source": [
    "## 3. Data Cleaning"
   ]
  },
  {
   "cell_type": "code",
   "execution_count": 17,
   "id": "c309ebe4",
   "metadata": {
    "execution": {
     "iopub.execute_input": "2022-08-13T17:44:24.135263Z",
     "iopub.status.busy": "2022-08-13T17:44:24.134526Z",
     "iopub.status.idle": "2022-08-13T17:44:24.146712Z",
     "shell.execute_reply": "2022-08-13T17:44:24.145476Z"
    },
    "papermill": {
     "duration": 0.048299,
     "end_time": "2022-08-13T17:44:24.148981",
     "exception": false,
     "start_time": "2022-08-13T17:44:24.100682",
     "status": "completed"
    },
    "tags": []
   },
   "outputs": [
    {
     "data": {
      "text/plain": [
       "Outlet_Size                  2410\n",
       "Item_Weight                  1463\n",
       "Item_Identifier                 0\n",
       "Item_Fat_Content                0\n",
       "Item_Visibility                 0\n",
       "Item_Type                       0\n",
       "Item_MRP                        0\n",
       "Outlet_Identifier               0\n",
       "Outlet_Establishment_Year       0\n",
       "Outlet_Location_Type            0\n",
       "Outlet_Type                     0\n",
       "Item_Outlet_Sales               0\n",
       "dtype: int64"
      ]
     },
     "execution_count": 17,
     "metadata": {},
     "output_type": "execute_result"
    }
   ],
   "source": [
    "train_df.isnull().sum().sort_values(ascending=False)"
   ]
  },
  {
   "cell_type": "code",
   "execution_count": 18,
   "id": "61ee37b6",
   "metadata": {
    "execution": {
     "iopub.execute_input": "2022-08-13T17:44:24.214312Z",
     "iopub.status.busy": "2022-08-13T17:44:24.213582Z",
     "iopub.status.idle": "2022-08-13T17:44:24.226684Z",
     "shell.execute_reply": "2022-08-13T17:44:24.225492Z"
    },
    "papermill": {
     "duration": 0.048532,
     "end_time": "2022-08-13T17:44:24.229016",
     "exception": false,
     "start_time": "2022-08-13T17:44:24.180484",
     "status": "completed"
    },
    "tags": []
   },
   "outputs": [
    {
     "data": {
      "text/plain": [
       "Outlet_Size                  1606\n",
       "Item_Weight                   976\n",
       "Item_Identifier                 0\n",
       "Item_Fat_Content                0\n",
       "Item_Visibility                 0\n",
       "Item_Type                       0\n",
       "Item_MRP                        0\n",
       "Outlet_Identifier               0\n",
       "Outlet_Establishment_Year       0\n",
       "Outlet_Location_Type            0\n",
       "Outlet_Type                     0\n",
       "dtype: int64"
      ]
     },
     "execution_count": 18,
     "metadata": {},
     "output_type": "execute_result"
    }
   ],
   "source": [
    "test_df.isnull().sum().sort_values(ascending=False)"
   ]
  },
  {
   "cell_type": "markdown",
   "id": "d7966e8f",
   "metadata": {
    "papermill": {
     "duration": 0.031598,
     "end_time": "2022-08-13T17:44:24.292922",
     "exception": false,
     "start_time": "2022-08-13T17:44:24.261324",
     "status": "completed"
    },
    "tags": []
   },
   "source": [
    "* Item_Weight is a numerical variable, __Mean__ is chosen as Data Imputing Technique\n",
    "* Outlet_Size is a categorical variable, __Mode__ is chosen as Data Imputing Technique"
   ]
  },
  {
   "cell_type": "markdown",
   "id": "8b587634",
   "metadata": {
    "papermill": {
     "duration": 0.03161,
     "end_time": "2022-08-13T17:44:24.356433",
     "exception": false,
     "start_time": "2022-08-13T17:44:24.324823",
     "status": "completed"
    },
    "tags": []
   },
   "source": [
    "### 3.1 Item_Weight Data Imputation"
   ]
  },
  {
   "cell_type": "markdown",
   "id": "3d7e31ea",
   "metadata": {
    "papermill": {
     "duration": 0.031761,
     "end_time": "2022-08-13T17:44:24.420134",
     "exception": false,
     "start_time": "2022-08-13T17:44:24.388373",
     "status": "completed"
    },
    "tags": []
   },
   "source": [
    "Training"
   ]
  },
  {
   "cell_type": "code",
   "execution_count": 19,
   "id": "05d6c88d",
   "metadata": {
    "execution": {
     "iopub.execute_input": "2022-08-13T17:44:24.486427Z",
     "iopub.status.busy": "2022-08-13T17:44:24.486009Z",
     "iopub.status.idle": "2022-08-13T17:44:24.499995Z",
     "shell.execute_reply": "2022-08-13T17:44:24.498208Z"
    },
    "papermill": {
     "duration": 0.050568,
     "end_time": "2022-08-13T17:44:24.502936",
     "exception": false,
     "start_time": "2022-08-13T17:44:24.452368",
     "status": "completed"
    },
    "tags": []
   },
   "outputs": [
    {
     "name": "stdout",
     "output_type": "stream",
     "text": [
      "Item_Weight\n",
      "12.150         86\n",
      "17.600         82\n",
      "13.650         77\n",
      "11.800         76\n",
      "15.100         68\n",
      "               ..\n",
      "5.735           2\n",
      "6.520           1\n",
      "5.400           1\n",
      "7.685           1\n",
      "9.420           1\n",
      "Length: 415, dtype: int64\n"
     ]
    }
   ],
   "source": [
    "print(train_df[['Item_Weight']].value_counts())\n",
    "# print(\"Item_Weight : \\n\", train_df.Item_Weight.value_counts())"
   ]
  },
  {
   "cell_type": "code",
   "execution_count": 20,
   "id": "31ad84b1",
   "metadata": {
    "execution": {
     "iopub.execute_input": "2022-08-13T17:44:24.568704Z",
     "iopub.status.busy": "2022-08-13T17:44:24.568307Z",
     "iopub.status.idle": "2022-08-13T17:44:24.739746Z",
     "shell.execute_reply": "2022-08-13T17:44:24.738840Z"
    },
    "papermill": {
     "duration": 0.206997,
     "end_time": "2022-08-13T17:44:24.742013",
     "exception": false,
     "start_time": "2022-08-13T17:44:24.535016",
     "status": "completed"
    },
    "tags": []
   },
   "outputs": [
    {
     "data": {
      "text/plain": [
       "<AxesSubplot:xlabel='Item_Weight'>"
      ]
     },
     "execution_count": 20,
     "metadata": {},
     "output_type": "execute_result"
    },
    {
     "data": {
      "image/png": "[encoded data removed]",
      "text/plain": [
       "<Figure size 576x360 with 1 Axes>"
      ]
     },
     "metadata": {
      "needs_background": "light"
     },
     "output_type": "display_data"
    }
   ],
   "source": [
    "plt.figure(figsize=(8,5))\n",
    "sns.boxplot('Item_Weight',data=train_df)"
   ]
  },
  {
   "cell_type": "markdown",
   "id": "459c0e55",
   "metadata": {
    "papermill": {
     "duration": 0.031701,
     "end_time": "2022-08-13T17:44:24.805967",
     "exception": false,
     "start_time": "2022-08-13T17:44:24.774266",
     "status": "completed"
    },
    "tags": []
   },
   "source": [
    "No outliers present for Item_Weight. So we can impute the missing values with Mean"
   ]
  },
  {
   "cell_type": "code",
   "execution_count": 21,
   "id": "67d31604",
   "metadata": {
    "execution": {
     "iopub.execute_input": "2022-08-13T17:44:24.873565Z",
     "iopub.status.busy": "2022-08-13T17:44:24.872771Z",
     "iopub.status.idle": "2022-08-13T17:44:24.878566Z",
     "shell.execute_reply": "2022-08-13T17:44:24.877630Z"
    },
    "papermill": {
     "duration": 0.042547,
     "end_time": "2022-08-13T17:44:24.881128",
     "exception": false,
     "start_time": "2022-08-13T17:44:24.838581",
     "status": "completed"
    },
    "tags": []
   },
   "outputs": [],
   "source": [
    "# Imputing Item_Weight (numerical) null values to mean values\n",
    "train_df['Item_Weight'] = train_df['Item_Weight'].fillna(train_df['Item_Weight'].mean())"
   ]
  },
  {
   "cell_type": "code",
   "execution_count": 22,
   "id": "56e9eb34",
   "metadata": {
    "execution": {
     "iopub.execute_input": "2022-08-13T17:44:24.948123Z",
     "iopub.status.busy": "2022-08-13T17:44:24.947383Z",
     "iopub.status.idle": "2022-08-13T17:44:24.955459Z",
     "shell.execute_reply": "2022-08-13T17:44:24.954488Z"
    },
    "papermill": {
     "duration": 0.044126,
     "end_time": "2022-08-13T17:44:24.957653",
     "exception": false,
     "start_time": "2022-08-13T17:44:24.913527",
     "status": "completed"
    },
    "tags": []
   },
   "outputs": [
    {
     "data": {
      "text/plain": [
       "0"
      ]
     },
     "execution_count": 22,
     "metadata": {},
     "output_type": "execute_result"
    }
   ],
   "source": [
    "train_df['Item_Weight'].isnull().sum()"
   ]
  },
  {
   "cell_type": "markdown",
   "id": "10059b04",
   "metadata": {
    "papermill": {
     "duration": 0.031835,
     "end_time": "2022-08-13T17:44:25.021491",
     "exception": false,
     "start_time": "2022-08-13T17:44:24.989656",
     "status": "completed"
    },
    "tags": []
   },
   "source": [
    "Test Data"
   ]
  },
  {
   "cell_type": "code",
   "execution_count": 23,
   "id": "d4933ca1",
   "metadata": {
    "execution": {
     "iopub.execute_input": "2022-08-13T17:44:25.089462Z",
     "iopub.status.busy": "2022-08-13T17:44:25.088772Z",
     "iopub.status.idle": "2022-08-13T17:44:25.101621Z",
     "shell.execute_reply": "2022-08-13T17:44:25.099477Z"
    },
    "papermill": {
     "duration": 0.049277,
     "end_time": "2022-08-13T17:44:25.104317",
     "exception": false,
     "start_time": "2022-08-13T17:44:25.055040",
     "status": "completed"
    },
    "tags": []
   },
   "outputs": [
    {
     "name": "stdout",
     "output_type": "stream",
     "text": [
      "Item_Weight\n",
      "10.50          57\n",
      "17.60          53\n",
      "15.60          48\n",
      "20.25          47\n",
      "19.35          46\n",
      "               ..\n",
      "6.96            1\n",
      "8.75            1\n",
      "7.67            1\n",
      "4.61            1\n",
      "5.15            1\n",
      "Length: 410, dtype: int64\n"
     ]
    }
   ],
   "source": [
    "print(test_df[['Item_Weight']].value_counts())"
   ]
  },
  {
   "cell_type": "code",
   "execution_count": 24,
   "id": "59300ef9",
   "metadata": {
    "execution": {
     "iopub.execute_input": "2022-08-13T17:44:25.170981Z",
     "iopub.status.busy": "2022-08-13T17:44:25.170538Z",
     "iopub.status.idle": "2022-08-13T17:44:25.350196Z",
     "shell.execute_reply": "2022-08-13T17:44:25.349294Z"
    },
    "papermill": {
     "duration": 0.216088,
     "end_time": "2022-08-13T17:44:25.352628",
     "exception": false,
     "start_time": "2022-08-13T17:44:25.136540",
     "status": "completed"
    },
    "tags": []
   },
   "outputs": [
    {
     "data": {
      "text/plain": [
       "<AxesSubplot:xlabel='Item_Weight'>"
      ]
     },
     "execution_count": 24,
     "metadata": {},
     "output_type": "execute_result"
    },
    {
     "data": {
      "image/png": "[encoded data removed]",
      "text/plain": [
       "<Figure size 576x360 with 1 Axes>"
      ]
     },
     "metadata": {
      "needs_background": "light"
     },
     "output_type": "display_data"
    }
   ],
   "source": [
    "plt.figure(figsize=(8,5))\n",
    "sns.boxplot(x='Item_Weight', data=test_df)"
   ]
  },
  {
   "cell_type": "markdown",
   "id": "d7ce6a8f",
   "metadata": {
    "papermill": {
     "duration": 0.032294,
     "end_time": "2022-08-13T17:44:25.417399",
     "exception": false,
     "start_time": "2022-08-13T17:44:25.385105",
     "status": "completed"
    },
    "tags": []
   },
   "source": [
    "* No outliers found. So no need to drop outliers. We can continue with imputing if null values are present"
   ]
  },
  {
   "cell_type": "code",
   "execution_count": 25,
   "id": "76fae28a",
   "metadata": {
    "execution": {
     "iopub.execute_input": "2022-08-13T17:44:25.484188Z",
     "iopub.status.busy": "2022-08-13T17:44:25.483354Z",
     "iopub.status.idle": "2022-08-13T17:44:25.490439Z",
     "shell.execute_reply": "2022-08-13T17:44:25.489276Z"
    },
    "papermill": {
     "duration": 0.043494,
     "end_time": "2022-08-13T17:44:25.493043",
     "exception": false,
     "start_time": "2022-08-13T17:44:25.449549",
     "status": "completed"
    },
    "tags": []
   },
   "outputs": [],
   "source": [
    "# Imputing Item_Weight (numerical) null values to mean values\n",
    "test_df['Item_Weight'] = test_df['Item_Weight'].fillna(test_df['Item_Weight'].dropna().mean())"
   ]
  },
  {
   "cell_type": "code",
   "execution_count": 26,
   "id": "d4a9b340",
   "metadata": {
    "execution": {
     "iopub.execute_input": "2022-08-13T17:44:25.560332Z",
     "iopub.status.busy": "2022-08-13T17:44:25.559671Z",
     "iopub.status.idle": "2022-08-13T17:44:25.568424Z",
     "shell.execute_reply": "2022-08-13T17:44:25.567070Z"
    },
    "papermill": {
     "duration": 0.044993,
     "end_time": "2022-08-13T17:44:25.570660",
     "exception": false,
     "start_time": "2022-08-13T17:44:25.525667",
     "status": "completed"
    },
    "tags": []
   },
   "outputs": [
    {
     "data": {
      "text/plain": [
       "0"
      ]
     },
     "execution_count": 26,
     "metadata": {},
     "output_type": "execute_result"
    }
   ],
   "source": [
    "test_df['Item_Weight'].isnull().sum()"
   ]
  },
  {
   "cell_type": "markdown",
   "id": "fb4aebd0",
   "metadata": {
    "papermill": {
     "duration": 0.032194,
     "end_time": "2022-08-13T17:44:25.635382",
     "exception": false,
     "start_time": "2022-08-13T17:44:25.603188",
     "status": "completed"
    },
    "tags": []
   },
   "source": [
    "### 3.2 Outlet_Size Data Imputation Technique"
   ]
  },
  {
   "cell_type": "markdown",
   "id": "3fc8014c",
   "metadata": {
    "papermill": {
     "duration": 0.032277,
     "end_time": "2022-08-13T17:44:25.699796",
     "exception": false,
     "start_time": "2022-08-13T17:44:25.667519",
     "status": "completed"
    },
    "tags": []
   },
   "source": [
    "Training Data"
   ]
  },
  {
   "cell_type": "code",
   "execution_count": 27,
   "id": "e346a8e8",
   "metadata": {
    "execution": {
     "iopub.execute_input": "2022-08-13T17:44:25.768043Z",
     "iopub.status.busy": "2022-08-13T17:44:25.767611Z",
     "iopub.status.idle": "2022-08-13T17:44:25.775705Z",
     "shell.execute_reply": "2022-08-13T17:44:25.774795Z"
    },
    "papermill": {
     "duration": 0.044259,
     "end_time": "2022-08-13T17:44:25.778002",
     "exception": false,
     "start_time": "2022-08-13T17:44:25.733743",
     "status": "completed"
    },
    "tags": []
   },
   "outputs": [
    {
     "data": {
      "text/plain": [
       "2410"
      ]
     },
     "execution_count": 27,
     "metadata": {},
     "output_type": "execute_result"
    }
   ],
   "source": [
    "train_df['Outlet_Size'].isnull().sum()"
   ]
  },
  {
   "cell_type": "code",
   "execution_count": 28,
   "id": "6474321e",
   "metadata": {
    "execution": {
     "iopub.execute_input": "2022-08-13T17:44:25.845732Z",
     "iopub.status.busy": "2022-08-13T17:44:25.845343Z",
     "iopub.status.idle": "2022-08-13T17:44:25.855727Z",
     "shell.execute_reply": "2022-08-13T17:44:25.853974Z"
    },
    "papermill": {
     "duration": 0.048136,
     "end_time": "2022-08-13T17:44:25.858778",
     "exception": false,
     "start_time": "2022-08-13T17:44:25.810642",
     "status": "completed"
    },
    "tags": []
   },
   "outputs": [
    {
     "name": "stdout",
     "output_type": "stream",
     "text": [
      "Outlet_Size\n",
      "Medium         2793\n",
      "Small          2388\n",
      "High            932\n",
      "dtype: int64\n"
     ]
    }
   ],
   "source": [
    "# print(\"Outlet_Size:\\n\",train_df.Outlet_Size.value_counts())\n",
    "print(train_df[['Outlet_Size']].value_counts())"
   ]
  },
  {
   "cell_type": "code",
   "execution_count": 29,
   "id": "caef5d5d",
   "metadata": {
    "execution": {
     "iopub.execute_input": "2022-08-13T17:44:25.928852Z",
     "iopub.status.busy": "2022-08-13T17:44:25.927643Z",
     "iopub.status.idle": "2022-08-13T17:44:26.117578Z",
     "shell.execute_reply": "2022-08-13T17:44:26.116661Z"
    },
    "papermill": {
     "duration": 0.22668,
     "end_time": "2022-08-13T17:44:26.119836",
     "exception": false,
     "start_time": "2022-08-13T17:44:25.893156",
     "status": "completed"
    },
    "tags": []
   },
   "outputs": [
    {
     "data": {
      "text/plain": [
       "<AxesSubplot:xlabel='Outlet_Size', ylabel='count'>"
      ]
     },
     "execution_count": 29,
     "metadata": {},
     "output_type": "execute_result"
    },
    {
     "data": {
      "image/png": "[encoded data removed]",
      "text/plain": [
       "<Figure size 576x360 with 1 Axes>"
      ]
     },
     "metadata": {
      "needs_background": "light"
     },
     "output_type": "display_data"
    }
   ],
   "source": [
    "plt.figure(figsize=(8,5))\n",
    "sns.countplot('Outlet_Size',data=train_df)"
   ]
  },
  {
   "cell_type": "markdown",
   "id": "f4ea6f8e",
   "metadata": {
    "papermill": {
     "duration": 0.033273,
     "end_time": "2022-08-13T17:44:26.186156",
     "exception": false,
     "start_time": "2022-08-13T17:44:26.152883",
     "status": "completed"
    },
    "tags": []
   },
   "source": [
    "Medium is the highest frequency category for Outlet_Size"
   ]
  },
  {
   "cell_type": "code",
   "execution_count": 30,
   "id": "a20a308f",
   "metadata": {
    "execution": {
     "iopub.execute_input": "2022-08-13T17:44:26.256951Z",
     "iopub.status.busy": "2022-08-13T17:44:26.256211Z",
     "iopub.status.idle": "2022-08-13T17:44:26.262915Z",
     "shell.execute_reply": "2022-08-13T17:44:26.262070Z"
    },
    "papermill": {
     "duration": 0.046032,
     "end_time": "2022-08-13T17:44:26.265200",
     "exception": false,
     "start_time": "2022-08-13T17:44:26.219168",
     "status": "completed"
    },
    "tags": []
   },
   "outputs": [],
   "source": [
    "# Imputing Outlet_Size (categorical) null values to mode values\n",
    "train_df['Outlet_Size'] = train_df['Outlet_Size'].fillna(train_df['Outlet_Size'].mode()[0])\n",
    "# train_df['Outlet_Size'].mode()[0]"
   ]
  },
  {
   "cell_type": "code",
   "execution_count": 31,
   "id": "9429e5c0",
   "metadata": {
    "execution": {
     "iopub.execute_input": "2022-08-13T17:44:26.333475Z",
     "iopub.status.busy": "2022-08-13T17:44:26.332638Z",
     "iopub.status.idle": "2022-08-13T17:44:26.340075Z",
     "shell.execute_reply": "2022-08-13T17:44:26.339132Z"
    },
    "papermill": {
     "duration": 0.044097,
     "end_time": "2022-08-13T17:44:26.342268",
     "exception": false,
     "start_time": "2022-08-13T17:44:26.298171",
     "status": "completed"
    },
    "tags": []
   },
   "outputs": [
    {
     "data": {
      "text/plain": [
       "0"
      ]
     },
     "execution_count": 31,
     "metadata": {},
     "output_type": "execute_result"
    }
   ],
   "source": [
    "# % of missing/null values in train data\n",
    "train_df['Outlet_Size'].isnull().sum() "
   ]
  },
  {
   "cell_type": "markdown",
   "id": "6aa7f242",
   "metadata": {
    "papermill": {
     "duration": 0.03269,
     "end_time": "2022-08-13T17:44:26.408202",
     "exception": false,
     "start_time": "2022-08-13T17:44:26.375512",
     "status": "completed"
    },
    "tags": []
   },
   "source": [
    "Test Data"
   ]
  },
  {
   "cell_type": "code",
   "execution_count": 32,
   "id": "6b42381f",
   "metadata": {
    "execution": {
     "iopub.execute_input": "2022-08-13T17:44:26.478103Z",
     "iopub.status.busy": "2022-08-13T17:44:26.477695Z",
     "iopub.status.idle": "2022-08-13T17:44:26.486814Z",
     "shell.execute_reply": "2022-08-13T17:44:26.485613Z"
    },
    "papermill": {
     "duration": 0.047174,
     "end_time": "2022-08-13T17:44:26.489360",
     "exception": false,
     "start_time": "2022-08-13T17:44:26.442186",
     "status": "completed"
    },
    "tags": []
   },
   "outputs": [
    {
     "data": {
      "text/plain": [
       "1606"
      ]
     },
     "execution_count": 32,
     "metadata": {},
     "output_type": "execute_result"
    }
   ],
   "source": [
    "test_df['Outlet_Size'].isnull().sum()"
   ]
  },
  {
   "cell_type": "code",
   "execution_count": 33,
   "id": "327811b4",
   "metadata": {
    "execution": {
     "iopub.execute_input": "2022-08-13T17:44:26.559677Z",
     "iopub.status.busy": "2022-08-13T17:44:26.558363Z",
     "iopub.status.idle": "2022-08-13T17:44:26.567992Z",
     "shell.execute_reply": "2022-08-13T17:44:26.566986Z"
    },
    "papermill": {
     "duration": 0.047888,
     "end_time": "2022-08-13T17:44:26.570644",
     "exception": false,
     "start_time": "2022-08-13T17:44:26.522756",
     "status": "completed"
    },
    "tags": []
   },
   "outputs": [
    {
     "name": "stdout",
     "output_type": "stream",
     "text": [
      "Outlet_Size\n",
      "Medium         1862\n",
      "Small          1592\n",
      "High            621\n",
      "dtype: int64\n"
     ]
    }
   ],
   "source": [
    "print(test_df[['Outlet_Size']].value_counts())"
   ]
  },
  {
   "cell_type": "code",
   "execution_count": 34,
   "id": "03458397",
   "metadata": {
    "execution": {
     "iopub.execute_input": "2022-08-13T17:44:26.639839Z",
     "iopub.status.busy": "2022-08-13T17:44:26.639440Z",
     "iopub.status.idle": "2022-08-13T17:44:26.780057Z",
     "shell.execute_reply": "2022-08-13T17:44:26.777997Z"
    },
    "papermill": {
     "duration": 0.178338,
     "end_time": "2022-08-13T17:44:26.782697",
     "exception": false,
     "start_time": "2022-08-13T17:44:26.604359",
     "status": "completed"
    },
    "tags": []
   },
   "outputs": [
    {
     "data": {
      "text/plain": [
       "<AxesSubplot:xlabel='Outlet_Size', ylabel='count'>"
      ]
     },
     "execution_count": 34,
     "metadata": {},
     "output_type": "execute_result"
    },
    {
     "data": {
      "image/png": "[encoded data removed]",
      "text/plain": [
       "<Figure size 432x288 with 1 Axes>"
      ]
     },
     "metadata": {
      "needs_background": "light"
     },
     "output_type": "display_data"
    }
   ],
   "source": [
    "sns.countplot(x='Outlet_Size', data=test_df)"
   ]
  },
  {
   "cell_type": "code",
   "execution_count": 35,
   "id": "601afa80",
   "metadata": {
    "execution": {
     "iopub.execute_input": "2022-08-13T17:44:26.853938Z",
     "iopub.status.busy": "2022-08-13T17:44:26.853451Z",
     "iopub.status.idle": "2022-08-13T17:44:26.861811Z",
     "shell.execute_reply": "2022-08-13T17:44:26.860612Z"
    },
    "papermill": {
     "duration": 0.04644,
     "end_time": "2022-08-13T17:44:26.864311",
     "exception": false,
     "start_time": "2022-08-13T17:44:26.817871",
     "status": "completed"
    },
    "tags": []
   },
   "outputs": [],
   "source": [
    "# Medium is the highest frequency category for Outlet_Size\n",
    "test_df['Outlet_Size'] = test_df['Outlet_Size'].fillna(test_df['Outlet_Size'].dropna().mode()[0])"
   ]
  },
  {
   "cell_type": "code",
   "execution_count": 36,
   "id": "dc649980",
   "metadata": {
    "execution": {
     "iopub.execute_input": "2022-08-13T17:44:26.935737Z",
     "iopub.status.busy": "2022-08-13T17:44:26.935306Z",
     "iopub.status.idle": "2022-08-13T17:44:26.942495Z",
     "shell.execute_reply": "2022-08-13T17:44:26.941519Z"
    },
    "papermill": {
     "duration": 0.045583,
     "end_time": "2022-08-13T17:44:26.944565",
     "exception": false,
     "start_time": "2022-08-13T17:44:26.898982",
     "status": "completed"
    },
    "tags": []
   },
   "outputs": [
    {
     "data": {
      "text/plain": [
       "0"
      ]
     },
     "execution_count": 36,
     "metadata": {},
     "output_type": "execute_result"
    }
   ],
   "source": [
    "test_df['Outlet_Size'].isnull().sum()"
   ]
  },
  {
   "cell_type": "markdown",
   "id": "e6eb3c37",
   "metadata": {
    "papermill": {
     "duration": 0.033661,
     "end_time": "2022-08-13T17:44:27.012080",
     "exception": false,
     "start_time": "2022-08-13T17:44:26.978419",
     "status": "completed"
    },
    "tags": []
   },
   "source": [
    "## 4. Exploratory Data Analysis (EDA)"
   ]
  },
  {
   "cell_type": "code",
   "execution_count": 37,
   "id": "3df4b350",
   "metadata": {
    "execution": {
     "iopub.execute_input": "2022-08-13T17:44:27.081613Z",
     "iopub.status.busy": "2022-08-13T17:44:27.080893Z",
     "iopub.status.idle": "2022-08-13T17:44:27.098106Z",
     "shell.execute_reply": "2022-08-13T17:44:27.096769Z"
    },
    "papermill": {
     "duration": 0.055153,
     "end_time": "2022-08-13T17:44:27.100744",
     "exception": false,
     "start_time": "2022-08-13T17:44:27.045591",
     "status": "completed"
    },
    "tags": []
   },
   "outputs": [
    {
     "data": {
      "text/plain": [
       "[12.857645    1463\n",
       " 12.150000      86\n",
       " 17.600000      82\n",
       " 13.650000      77\n",
       " 11.800000      76\n",
       " Name: Item_Weight, dtype: int64,\n",
       " 0.000000    526\n",
       " 0.076975      3\n",
       " 0.162462      2\n",
       " 0.076841      2\n",
       " 0.073562      2\n",
       " Name: Item_Visibility, dtype: int64,\n",
       " 172.0422    7\n",
       " 170.5422    6\n",
       " 196.5084    6\n",
       " 188.1872    6\n",
       " 142.0154    6\n",
       " Name: Item_MRP, dtype: int64,\n",
       " 1985    1463\n",
       " 1987     932\n",
       " 1999     930\n",
       " 1997     930\n",
       " 2004     930\n",
       " Name: Outlet_Establishment_Year, dtype: int64,\n",
       " 958.7520     17\n",
       " 1342.2528    16\n",
       " 703.0848     15\n",
       " 1845.5976    15\n",
       " 1278.3360    14\n",
       " Name: Item_Outlet_Sales, dtype: int64]"
      ]
     },
     "execution_count": 37,
     "metadata": {},
     "output_type": "execute_result"
    }
   ],
   "source": [
    "[train_df[num].value_counts().head() for num in numerical[1:]]"
   ]
  },
  {
   "cell_type": "code",
   "execution_count": 38,
   "id": "8ba47a9f",
   "metadata": {
    "execution": {
     "iopub.execute_input": "2022-08-13T17:44:27.171076Z",
     "iopub.status.busy": "2022-08-13T17:44:27.170402Z",
     "iopub.status.idle": "2022-08-13T17:44:27.186752Z",
     "shell.execute_reply": "2022-08-13T17:44:27.185836Z"
    },
    "papermill": {
     "duration": 0.054126,
     "end_time": "2022-08-13T17:44:27.188958",
     "exception": false,
     "start_time": "2022-08-13T17:44:27.134832",
     "status": "completed"
    },
    "tags": []
   },
   "outputs": [
    {
     "data": {
      "text/plain": [
       "[FDW13    10\n",
       " FDG33    10\n",
       " NCY18     9\n",
       " FDD38     9\n",
       " DRE49     9\n",
       " Name: Item_Identifier, dtype: int64,\n",
       " Low Fat    5089\n",
       " Regular    2889\n",
       " LF          316\n",
       " reg         117\n",
       " low fat     112\n",
       " Name: Item_Fat_Content, dtype: int64,\n",
       " Fruits and Vegetables    1232\n",
       " Snack Foods              1200\n",
       " Household                 910\n",
       " Frozen Foods              856\n",
       " Dairy                     682\n",
       " Name: Item_Type, dtype: int64,\n",
       " OUT027    935\n",
       " OUT013    932\n",
       " OUT049    930\n",
       " OUT046    930\n",
       " OUT035    930\n",
       " Name: Outlet_Identifier, dtype: int64,\n",
       " Medium    5203\n",
       " Small     2388\n",
       " High       932\n",
       " Name: Outlet_Size, dtype: int64,\n",
       " Tier 3    3350\n",
       " Tier 2    2785\n",
       " Tier 1    2388\n",
       " Name: Outlet_Location_Type, dtype: int64,\n",
       " Supermarket Type1    5577\n",
       " Grocery Store        1083\n",
       " Supermarket Type3     935\n",
       " Supermarket Type2     928\n",
       " Name: Outlet_Type, dtype: int64]"
      ]
     },
     "execution_count": 38,
     "metadata": {},
     "output_type": "execute_result"
    }
   ],
   "source": [
    "[train_df[cat].value_counts().head() for cat in categorical[1:]]"
   ]
  },
  {
   "cell_type": "code",
   "execution_count": 39,
   "id": "0a2fb991",
   "metadata": {
    "execution": {
     "iopub.execute_input": "2022-08-13T17:44:27.269385Z",
     "iopub.status.busy": "2022-08-13T17:44:27.268604Z",
     "iopub.status.idle": "2022-08-13T17:44:27.285778Z",
     "shell.execute_reply": "2022-08-13T17:44:27.284960Z"
    },
    "papermill": {
     "duration": 0.056793,
     "end_time": "2022-08-13T17:44:27.287897",
     "exception": false,
     "start_time": "2022-08-13T17:44:27.231104",
     "status": "completed"
    },
    "tags": []
   },
   "outputs": [
    {
     "data": {
      "text/html": [
       "<div>\n",
       "<style scoped>\n",
       "    .dataframe tbody tr th:only-of-type {\n",
       "        vertical-align: middle;\n",
       "    }\n",
       "\n",
       "    .dataframe tbody tr th {\n",
       "        vertical-align: top;\n",
       "    }\n",
       "\n",
       "    .dataframe thead th {\n",
       "        text-align: right;\n",
       "    }\n",
       "</style>\n",
       "<table border=\"1\" class=\"dataframe\">\n",
       "  <thead>\n",
       "    <tr style=\"text-align: right;\">\n",
       "      <th></th>\n",
       "      <th>Item_Identifier</th>\n",
       "      <th>Item_Weight</th>\n",
       "      <th>Item_Fat_Content</th>\n",
       "      <th>Item_Visibility</th>\n",
       "      <th>Item_Type</th>\n",
       "      <th>Item_MRP</th>\n",
       "      <th>Outlet_Identifier</th>\n",
       "      <th>Outlet_Establishment_Year</th>\n",
       "      <th>Outlet_Size</th>\n",
       "      <th>Outlet_Location_Type</th>\n",
       "      <th>Outlet_Type</th>\n",
       "      <th>Item_Outlet_Sales</th>\n",
       "    </tr>\n",
       "  </thead>\n",
       "  <tbody>\n",
       "    <tr>\n",
       "      <th>0</th>\n",
       "      <td>FDA15</td>\n",
       "      <td>9.30</td>\n",
       "      <td>Low Fat</td>\n",
       "      <td>0.016047</td>\n",
       "      <td>Dairy</td>\n",
       "      <td>249.8092</td>\n",
       "      <td>OUT049</td>\n",
       "      <td>1999</td>\n",
       "      <td>Medium</td>\n",
       "      <td>Tier 1</td>\n",
       "      <td>Supermarket Type1</td>\n",
       "      <td>3735.1380</td>\n",
       "    </tr>\n",
       "    <tr>\n",
       "      <th>1</th>\n",
       "      <td>DRC01</td>\n",
       "      <td>5.92</td>\n",
       "      <td>Regular</td>\n",
       "      <td>0.019278</td>\n",
       "      <td>Soft Drinks</td>\n",
       "      <td>48.2692</td>\n",
       "      <td>OUT018</td>\n",
       "      <td>2009</td>\n",
       "      <td>Medium</td>\n",
       "      <td>Tier 3</td>\n",
       "      <td>Supermarket Type2</td>\n",
       "      <td>443.4228</td>\n",
       "    </tr>\n",
       "    <tr>\n",
       "      <th>2</th>\n",
       "      <td>FDN15</td>\n",
       "      <td>17.50</td>\n",
       "      <td>Low Fat</td>\n",
       "      <td>0.016760</td>\n",
       "      <td>Meat</td>\n",
       "      <td>141.6180</td>\n",
       "      <td>OUT049</td>\n",
       "      <td>1999</td>\n",
       "      <td>Medium</td>\n",
       "      <td>Tier 1</td>\n",
       "      <td>Supermarket Type1</td>\n",
       "      <td>2097.2700</td>\n",
       "    </tr>\n",
       "    <tr>\n",
       "      <th>3</th>\n",
       "      <td>FDX07</td>\n",
       "      <td>19.20</td>\n",
       "      <td>Regular</td>\n",
       "      <td>0.000000</td>\n",
       "      <td>Fruits and Vegetables</td>\n",
       "      <td>182.0950</td>\n",
       "      <td>OUT010</td>\n",
       "      <td>1998</td>\n",
       "      <td>Medium</td>\n",
       "      <td>Tier 3</td>\n",
       "      <td>Grocery Store</td>\n",
       "      <td>732.3800</td>\n",
       "    </tr>\n",
       "    <tr>\n",
       "      <th>4</th>\n",
       "      <td>NCD19</td>\n",
       "      <td>8.93</td>\n",
       "      <td>Low Fat</td>\n",
       "      <td>0.000000</td>\n",
       "      <td>Household</td>\n",
       "      <td>53.8614</td>\n",
       "      <td>OUT013</td>\n",
       "      <td>1987</td>\n",
       "      <td>High</td>\n",
       "      <td>Tier 3</td>\n",
       "      <td>Supermarket Type1</td>\n",
       "      <td>994.7052</td>\n",
       "    </tr>\n",
       "  </tbody>\n",
       "</table>\n",
       "</div>"
      ],
      "text/plain": [
       "  Item_Identifier  Item_Weight Item_Fat_Content  Item_Visibility  \\\n",
       "0           FDA15         9.30          Low Fat         0.016047   \n",
       "1           DRC01         5.92          Regular         0.019278   \n",
       "2           FDN15        17.50          Low Fat         0.016760   \n",
       "3           FDX07        19.20          Regular         0.000000   \n",
       "4           NCD19         8.93          Low Fat         0.000000   \n",
       "\n",
       "               Item_Type  Item_MRP Outlet_Identifier  \\\n",
       "0                  Dairy  249.8092            OUT049   \n",
       "1            Soft Drinks   48.2692            OUT018   \n",
       "2                   Meat  141.6180            OUT049   \n",
       "3  Fruits and Vegetables  182.0950            OUT010   \n",
       "4              Household   53.8614            OUT013   \n",
       "\n",
       "   Outlet_Establishment_Year Outlet_Size Outlet_Location_Type  \\\n",
       "0                       1999      Medium               Tier 1   \n",
       "1                       2009      Medium               Tier 3   \n",
       "2                       1999      Medium               Tier 1   \n",
       "3                       1998      Medium               Tier 3   \n",
       "4                       1987        High               Tier 3   \n",
       "\n",
       "         Outlet_Type  Item_Outlet_Sales  \n",
       "0  Supermarket Type1          3735.1380  \n",
       "1  Supermarket Type2           443.4228  \n",
       "2  Supermarket Type1          2097.2700  \n",
       "3      Grocery Store           732.3800  \n",
       "4  Supermarket Type1           994.7052  "
      ]
     },
     "execution_count": 39,
     "metadata": {},
     "output_type": "execute_result"
    }
   ],
   "source": [
    "train_df.head()"
   ]
  },
  {
   "cell_type": "code",
   "execution_count": 40,
   "id": "bbad23af",
   "metadata": {
    "execution": {
     "iopub.execute_input": "2022-08-13T17:44:27.359875Z",
     "iopub.status.busy": "2022-08-13T17:44:27.359098Z",
     "iopub.status.idle": "2022-08-13T17:44:27.375153Z",
     "shell.execute_reply": "2022-08-13T17:44:27.374254Z"
    },
    "papermill": {
     "duration": 0.055197,
     "end_time": "2022-08-13T17:44:27.377470",
     "exception": false,
     "start_time": "2022-08-13T17:44:27.322273",
     "status": "completed"
    },
    "tags": []
   },
   "outputs": [
    {
     "data": {
      "text/html": [
       "<div>\n",
       "<style scoped>\n",
       "    .dataframe tbody tr th:only-of-type {\n",
       "        vertical-align: middle;\n",
       "    }\n",
       "\n",
       "    .dataframe tbody tr th {\n",
       "        vertical-align: top;\n",
       "    }\n",
       "\n",
       "    .dataframe thead th {\n",
       "        text-align: right;\n",
       "    }\n",
       "</style>\n",
       "<table border=\"1\" class=\"dataframe\">\n",
       "  <thead>\n",
       "    <tr style=\"text-align: right;\">\n",
       "      <th></th>\n",
       "      <th>Item_Identifier</th>\n",
       "      <th>Item_Weight</th>\n",
       "      <th>Item_Fat_Content</th>\n",
       "      <th>Item_Visibility</th>\n",
       "      <th>Item_Type</th>\n",
       "      <th>Item_MRP</th>\n",
       "      <th>Outlet_Identifier</th>\n",
       "      <th>Outlet_Establishment_Year</th>\n",
       "      <th>Outlet_Size</th>\n",
       "      <th>Outlet_Location_Type</th>\n",
       "      <th>Outlet_Type</th>\n",
       "    </tr>\n",
       "  </thead>\n",
       "  <tbody>\n",
       "    <tr>\n",
       "      <th>0</th>\n",
       "      <td>FDW58</td>\n",
       "      <td>20.750000</td>\n",
       "      <td>Low Fat</td>\n",
       "      <td>0.007565</td>\n",
       "      <td>Snack Foods</td>\n",
       "      <td>107.8622</td>\n",
       "      <td>OUT049</td>\n",
       "      <td>1999</td>\n",
       "      <td>Medium</td>\n",
       "      <td>Tier 1</td>\n",
       "      <td>Supermarket Type1</td>\n",
       "    </tr>\n",
       "    <tr>\n",
       "      <th>1</th>\n",
       "      <td>FDW14</td>\n",
       "      <td>8.300000</td>\n",
       "      <td>reg</td>\n",
       "      <td>0.038428</td>\n",
       "      <td>Dairy</td>\n",
       "      <td>87.3198</td>\n",
       "      <td>OUT017</td>\n",
       "      <td>2007</td>\n",
       "      <td>Medium</td>\n",
       "      <td>Tier 2</td>\n",
       "      <td>Supermarket Type1</td>\n",
       "    </tr>\n",
       "    <tr>\n",
       "      <th>2</th>\n",
       "      <td>NCN55</td>\n",
       "      <td>14.600000</td>\n",
       "      <td>Low Fat</td>\n",
       "      <td>0.099575</td>\n",
       "      <td>Others</td>\n",
       "      <td>241.7538</td>\n",
       "      <td>OUT010</td>\n",
       "      <td>1998</td>\n",
       "      <td>Medium</td>\n",
       "      <td>Tier 3</td>\n",
       "      <td>Grocery Store</td>\n",
       "    </tr>\n",
       "    <tr>\n",
       "      <th>3</th>\n",
       "      <td>FDQ58</td>\n",
       "      <td>7.315000</td>\n",
       "      <td>Low Fat</td>\n",
       "      <td>0.015388</td>\n",
       "      <td>Snack Foods</td>\n",
       "      <td>155.0340</td>\n",
       "      <td>OUT017</td>\n",
       "      <td>2007</td>\n",
       "      <td>Medium</td>\n",
       "      <td>Tier 2</td>\n",
       "      <td>Supermarket Type1</td>\n",
       "    </tr>\n",
       "    <tr>\n",
       "      <th>4</th>\n",
       "      <td>FDY38</td>\n",
       "      <td>12.695633</td>\n",
       "      <td>Regular</td>\n",
       "      <td>0.118599</td>\n",
       "      <td>Dairy</td>\n",
       "      <td>234.2300</td>\n",
       "      <td>OUT027</td>\n",
       "      <td>1985</td>\n",
       "      <td>Medium</td>\n",
       "      <td>Tier 3</td>\n",
       "      <td>Supermarket Type3</td>\n",
       "    </tr>\n",
       "  </tbody>\n",
       "</table>\n",
       "</div>"
      ],
      "text/plain": [
       "  Item_Identifier  Item_Weight Item_Fat_Content  Item_Visibility    Item_Type  \\\n",
       "0           FDW58    20.750000          Low Fat         0.007565  Snack Foods   \n",
       "1           FDW14     8.300000              reg         0.038428        Dairy   \n",
       "2           NCN55    14.600000          Low Fat         0.099575       Others   \n",
       "3           FDQ58     7.315000          Low Fat         0.015388  Snack Foods   \n",
       "4           FDY38    12.695633          Regular         0.118599        Dairy   \n",
       "\n",
       "   Item_MRP Outlet_Identifier  Outlet_Establishment_Year Outlet_Size  \\\n",
       "0  107.8622            OUT049                       1999      Medium   \n",
       "1   87.3198            OUT017                       2007      Medium   \n",
       "2  241.7538            OUT010                       1998      Medium   \n",
       "3  155.0340            OUT017                       2007      Medium   \n",
       "4  234.2300            OUT027                       1985      Medium   \n",
       "\n",
       "  Outlet_Location_Type        Outlet_Type  \n",
       "0               Tier 1  Supermarket Type1  \n",
       "1               Tier 2  Supermarket Type1  \n",
       "2               Tier 3      Grocery Store  \n",
       "3               Tier 2  Supermarket Type1  \n",
       "4               Tier 3  Supermarket Type3  "
      ]
     },
     "execution_count": 40,
     "metadata": {},
     "output_type": "execute_result"
    }
   ],
   "source": [
    "test_df.head()"
   ]
  },
  {
   "cell_type": "markdown",
   "id": "524c93f6",
   "metadata": {
    "papermill": {
     "duration": 0.03436,
     "end_time": "2022-08-13T17:44:27.446781",
     "exception": false,
     "start_time": "2022-08-13T17:44:27.412421",
     "status": "completed"
    },
    "tags": []
   },
   "source": [
    "#### Item_Fat_Content"
   ]
  },
  {
   "cell_type": "code",
   "execution_count": 41,
   "id": "553cd2a1",
   "metadata": {
    "execution": {
     "iopub.execute_input": "2022-08-13T17:44:27.517713Z",
     "iopub.status.busy": "2022-08-13T17:44:27.516999Z",
     "iopub.status.idle": "2022-08-13T17:44:27.525081Z",
     "shell.execute_reply": "2022-08-13T17:44:27.524300Z"
    },
    "papermill": {
     "duration": 0.046272,
     "end_time": "2022-08-13T17:44:27.527456",
     "exception": false,
     "start_time": "2022-08-13T17:44:27.481184",
     "status": "completed"
    },
    "tags": []
   },
   "outputs": [
    {
     "data": {
      "text/plain": [
       "Low Fat    5089\n",
       "Regular    2889\n",
       "LF          316\n",
       "reg         117\n",
       "low fat     112\n",
       "Name: Item_Fat_Content, dtype: int64"
      ]
     },
     "execution_count": 41,
     "metadata": {},
     "output_type": "execute_result"
    }
   ],
   "source": [
    "train_df['Item_Fat_Content'].value_counts()"
   ]
  },
  {
   "cell_type": "code",
   "execution_count": 42,
   "id": "244b3d35",
   "metadata": {
    "execution": {
     "iopub.execute_input": "2022-08-13T17:44:27.600463Z",
     "iopub.status.busy": "2022-08-13T17:44:27.600007Z",
     "iopub.status.idle": "2022-08-13T17:44:27.611186Z",
     "shell.execute_reply": "2022-08-13T17:44:27.610295Z"
    },
    "papermill": {
     "duration": 0.050487,
     "end_time": "2022-08-13T17:44:27.613525",
     "exception": false,
     "start_time": "2022-08-13T17:44:27.563038",
     "status": "completed"
    },
    "tags": []
   },
   "outputs": [
    {
     "data": {
      "text/plain": [
       "Item_Fat_Content\n",
       "Low Fat             3396\n",
       "Regular             1935\n",
       "LF                   206\n",
       "reg                   78\n",
       "low fat               66\n",
       "dtype: int64"
      ]
     },
     "execution_count": 42,
     "metadata": {},
     "output_type": "execute_result"
    }
   ],
   "source": [
    "test_df[['Item_Fat_Content']].value_counts()"
   ]
  },
  {
   "cell_type": "markdown",
   "id": "e571de82",
   "metadata": {
    "papermill": {
     "duration": 0.034432,
     "end_time": "2022-08-13T17:44:27.683866",
     "exception": false,
     "start_time": "2022-08-13T17:44:27.649434",
     "status": "completed"
    },
    "tags": []
   },
   "source": [
    "Some entries of Low Fat marked as LF, low fat.\n",
    "Similarly Regular is marked as reg. We need to fix this."
   ]
  },
  {
   "cell_type": "code",
   "execution_count": 43,
   "id": "3edb5c00",
   "metadata": {
    "execution": {
     "iopub.execute_input": "2022-08-13T17:44:27.757234Z",
     "iopub.status.busy": "2022-08-13T17:44:27.756019Z",
     "iopub.status.idle": "2022-08-13T17:44:27.765207Z",
     "shell.execute_reply": "2022-08-13T17:44:27.763934Z"
    },
    "papermill": {
     "duration": 0.048641,
     "end_time": "2022-08-13T17:44:27.767729",
     "exception": false,
     "start_time": "2022-08-13T17:44:27.719088",
     "status": "completed"
    },
    "tags": []
   },
   "outputs": [
    {
     "data": {
      "text/plain": [
       "['Low Fat', 'reg', 'Regular', 'LF', 'low fat']"
      ]
     },
     "execution_count": 43,
     "metadata": {},
     "output_type": "execute_result"
    }
   ],
   "source": [
    "test_df['Item_Fat_Content'].unique().tolist()"
   ]
  },
  {
   "cell_type": "code",
   "execution_count": 44,
   "id": "6d089375",
   "metadata": {
    "execution": {
     "iopub.execute_input": "2022-08-13T17:44:27.840555Z",
     "iopub.status.busy": "2022-08-13T17:44:27.840129Z",
     "iopub.status.idle": "2022-08-13T17:44:27.848066Z",
     "shell.execute_reply": "2022-08-13T17:44:27.847129Z"
    },
    "papermill": {
     "duration": 0.046968,
     "end_time": "2022-08-13T17:44:27.850572",
     "exception": false,
     "start_time": "2022-08-13T17:44:27.803604",
     "status": "completed"
    },
    "tags": []
   },
   "outputs": [],
   "source": [
    "train_df['Item_Fat_Content'].replace(['LF', 'low fat', 'reg'], ['Low Fat', 'Low Fat', 'Regular'], inplace=True)\n",
    "train_df['Item_Fat_Content']=train_df['Item_Fat_Content'].astype(str)"
   ]
  },
  {
   "cell_type": "code",
   "execution_count": 45,
   "id": "cc351a06",
   "metadata": {
    "execution": {
     "iopub.execute_input": "2022-08-13T17:44:27.923772Z",
     "iopub.status.busy": "2022-08-13T17:44:27.923336Z",
     "iopub.status.idle": "2022-08-13T17:44:27.932284Z",
     "shell.execute_reply": "2022-08-13T17:44:27.931511Z"
    },
    "papermill": {
     "duration": 0.04835,
     "end_time": "2022-08-13T17:44:27.934386",
     "exception": false,
     "start_time": "2022-08-13T17:44:27.886036",
     "status": "completed"
    },
    "tags": []
   },
   "outputs": [
    {
     "data": {
      "text/plain": [
       "Low Fat    5517\n",
       "Regular    3006\n",
       "Name: Item_Fat_Content, dtype: int64"
      ]
     },
     "execution_count": 45,
     "metadata": {},
     "output_type": "execute_result"
    }
   ],
   "source": [
    "train_df['Item_Fat_Content'].value_counts()"
   ]
  },
  {
   "cell_type": "code",
   "execution_count": 46,
   "id": "563ed057",
   "metadata": {
    "execution": {
     "iopub.execute_input": "2022-08-13T17:44:28.006802Z",
     "iopub.status.busy": "2022-08-13T17:44:28.005786Z",
     "iopub.status.idle": "2022-08-13T17:44:28.125748Z",
     "shell.execute_reply": "2022-08-13T17:44:28.124571Z"
    },
    "papermill": {
     "duration": 0.158763,
     "end_time": "2022-08-13T17:44:28.128251",
     "exception": false,
     "start_time": "2022-08-13T17:44:27.969488",
     "status": "completed"
    },
    "tags": []
   },
   "outputs": [
    {
     "data": {
      "text/plain": [
       "<AxesSubplot:xlabel='Item_Fat_Content', ylabel='count'>"
      ]
     },
     "execution_count": 46,
     "metadata": {},
     "output_type": "execute_result"
    },
    {
     "data": {
      "image/png": "[encoded data removed]",
      "text/plain": [
       "<Figure size 576x360 with 1 Axes>"
      ]
     },
     "metadata": {
      "needs_background": "light"
     },
     "output_type": "display_data"
    }
   ],
   "source": [
    "plt.figure(figsize=(8,5))\n",
    "sns.countplot(x='Item_Fat_Content', data=train_df, palette='ocean')"
   ]
  },
  {
   "cell_type": "code",
   "execution_count": 47,
   "id": "ec41ebbc",
   "metadata": {
    "execution": {
     "iopub.execute_input": "2022-08-13T17:44:28.201900Z",
     "iopub.status.busy": "2022-08-13T17:44:28.200909Z",
     "iopub.status.idle": "2022-08-13T17:44:28.210764Z",
     "shell.execute_reply": "2022-08-13T17:44:28.209738Z"
    },
    "papermill": {
     "duration": 0.049321,
     "end_time": "2022-08-13T17:44:28.213281",
     "exception": false,
     "start_time": "2022-08-13T17:44:28.163960",
     "status": "completed"
    },
    "tags": []
   },
   "outputs": [],
   "source": [
    "test_df['Item_Fat_Content'].replace(['LF','low fat','reg'], ['Low Fat', 'Low Fat', 'Regular'], inplace=True)\n",
    "test_df['Item_Fat_Content'] = test_df['Item_Fat_Content'].astype(str)"
   ]
  },
  {
   "cell_type": "code",
   "execution_count": 48,
   "id": "0108511d",
   "metadata": {
    "execution": {
     "iopub.execute_input": "2022-08-13T17:44:28.286284Z",
     "iopub.status.busy": "2022-08-13T17:44:28.285649Z",
     "iopub.status.idle": "2022-08-13T17:44:28.298115Z",
     "shell.execute_reply": "2022-08-13T17:44:28.296976Z"
    },
    "papermill": {
     "duration": 0.051489,
     "end_time": "2022-08-13T17:44:28.300630",
     "exception": false,
     "start_time": "2022-08-13T17:44:28.249141",
     "status": "completed"
    },
    "tags": []
   },
   "outputs": [
    {
     "data": {
      "text/plain": [
       "Item_Fat_Content\n",
       "Low Fat             3668\n",
       "Regular             2013\n",
       "dtype: int64"
      ]
     },
     "execution_count": 48,
     "metadata": {},
     "output_type": "execute_result"
    }
   ],
   "source": [
    "test_df[['Item_Fat_Content']].value_counts()"
   ]
  },
  {
   "cell_type": "code",
   "execution_count": 49,
   "id": "27497ce4",
   "metadata": {
    "execution": {
     "iopub.execute_input": "2022-08-13T17:44:28.373749Z",
     "iopub.status.busy": "2022-08-13T17:44:28.373010Z",
     "iopub.status.idle": "2022-08-13T17:44:28.552890Z",
     "shell.execute_reply": "2022-08-13T17:44:28.551919Z"
    },
    "papermill": {
     "duration": 0.218836,
     "end_time": "2022-08-13T17:44:28.555040",
     "exception": false,
     "start_time": "2022-08-13T17:44:28.336204",
     "status": "completed"
    },
    "tags": []
   },
   "outputs": [
    {
     "data": {
      "text/plain": [
       "<AxesSubplot:xlabel='Item_Fat_Content', ylabel='count'>"
      ]
     },
     "execution_count": 49,
     "metadata": {},
     "output_type": "execute_result"
    },
    {
     "data": {
      "image/png": "[encoded data removed]",
      "text/plain": [
       "<Figure size 576x360 with 1 Axes>"
      ]
     },
     "metadata": {
      "needs_background": "light"
     },
     "output_type": "display_data"
    }
   ],
   "source": [
    "plt.figure(figsize=(8,5))\n",
    "sns.countplot(x='Item_Fat_Content', data=test_df)"
   ]
  },
  {
   "cell_type": "markdown",
   "id": "535db0fa",
   "metadata": {
    "papermill": {
     "duration": 0.035358,
     "end_time": "2022-08-13T17:44:28.626364",
     "exception": false,
     "start_time": "2022-08-13T17:44:28.591006",
     "status": "completed"
    },
    "tags": []
   },
   "source": [
    "Low Fat items are bought more"
   ]
  },
  {
   "cell_type": "markdown",
   "id": "c0262642",
   "metadata": {
    "papermill": {
     "duration": 0.035494,
     "end_time": "2022-08-13T17:44:28.698085",
     "exception": false,
     "start_time": "2022-08-13T17:44:28.662591",
     "status": "completed"
    },
    "tags": []
   },
   "source": [
    "#### Item_Type"
   ]
  },
  {
   "cell_type": "code",
   "execution_count": 50,
   "id": "ddf5fbfb",
   "metadata": {
    "execution": {
     "iopub.execute_input": "2022-08-13T17:44:28.772251Z",
     "iopub.status.busy": "2022-08-13T17:44:28.771494Z",
     "iopub.status.idle": "2022-08-13T17:44:28.782716Z",
     "shell.execute_reply": "2022-08-13T17:44:28.781573Z"
    },
    "papermill": {
     "duration": 0.050464,
     "end_time": "2022-08-13T17:44:28.784959",
     "exception": false,
     "start_time": "2022-08-13T17:44:28.734495",
     "status": "completed"
    },
    "tags": []
   },
   "outputs": [
    {
     "data": {
      "text/plain": [
       "Item_Type            \n",
       "Fruits and Vegetables    1232\n",
       "Snack Foods              1200\n",
       "Household                 910\n",
       "Frozen Foods              856\n",
       "Dairy                     682\n",
       "Canned                    649\n",
       "Baking Goods              648\n",
       "Health and Hygiene        520\n",
       "Soft Drinks               445\n",
       "Meat                      425\n",
       "Breads                    251\n",
       "Hard Drinks               214\n",
       "Others                    169\n",
       "Starchy Foods             148\n",
       "Breakfast                 110\n",
       "Seafood                    64\n",
       "dtype: int64"
      ]
     },
     "execution_count": 50,
     "metadata": {},
     "output_type": "execute_result"
    }
   ],
   "source": [
    "train_df[['Item_Type']].value_counts()"
   ]
  },
  {
   "cell_type": "code",
   "execution_count": 51,
   "id": "950ed871",
   "metadata": {
    "execution": {
     "iopub.execute_input": "2022-08-13T17:44:28.859372Z",
     "iopub.status.busy": "2022-08-13T17:44:28.858932Z",
     "iopub.status.idle": "2022-08-13T17:44:29.176195Z",
     "shell.execute_reply": "2022-08-13T17:44:29.174728Z"
    },
    "papermill": {
     "duration": 0.358212,
     "end_time": "2022-08-13T17:44:29.178932",
     "exception": false,
     "start_time": "2022-08-13T17:44:28.820720",
     "status": "completed"
    },
    "tags": []
   },
   "outputs": [
    {
     "data": {
      "text/plain": [
       "<AxesSubplot:xlabel='Item_Type', ylabel='count'>"
      ]
     },
     "execution_count": 51,
     "metadata": {},
     "output_type": "execute_result"
    },
    {
     "data": {
      "image/png": "[encoded data removed]",
      "text/plain": [
       "<Figure size 1728x504 with 1 Axes>"
      ]
     },
     "metadata": {
      "needs_background": "light"
     },
     "output_type": "display_data"
    }
   ],
   "source": [
    "plt.figure(figsize=(24,7))\n",
    "sns.countplot(x='Item_Type', data=train_df, palette='spring')"
   ]
  },
  {
   "cell_type": "code",
   "execution_count": 52,
   "id": "d16f4ade",
   "metadata": {
    "execution": {
     "iopub.execute_input": "2022-08-13T17:44:29.257148Z",
     "iopub.status.busy": "2022-08-13T17:44:29.255908Z",
     "iopub.status.idle": "2022-08-13T17:44:29.265242Z",
     "shell.execute_reply": "2022-08-13T17:44:29.264098Z"
    },
    "papermill": {
     "duration": 0.049938,
     "end_time": "2022-08-13T17:44:29.267561",
     "exception": false,
     "start_time": "2022-08-13T17:44:29.217623",
     "status": "completed"
    },
    "tags": []
   },
   "outputs": [
    {
     "data": {
      "text/plain": [
       "Snack Foods              789\n",
       "Fruits and Vegetables    781\n",
       "Household                638\n",
       "Frozen Foods             570\n",
       "Dairy                    454\n",
       "Baking Goods             438\n",
       "Canned                   435\n",
       "Health and Hygiene       338\n",
       "Meat                     311\n",
       "Soft Drinks              281\n",
       "Breads                   165\n",
       "Hard Drinks              148\n",
       "Starchy Foods            121\n",
       "Others                   111\n",
       "Breakfast                 76\n",
       "Seafood                   25\n",
       "Name: Item_Type, dtype: int64"
      ]
     },
     "execution_count": 52,
     "metadata": {},
     "output_type": "execute_result"
    }
   ],
   "source": [
    "test_df['Item_Type'].value_counts()"
   ]
  },
  {
   "cell_type": "code",
   "execution_count": 53,
   "id": "87423251",
   "metadata": {
    "execution": {
     "iopub.execute_input": "2022-08-13T17:44:29.343017Z",
     "iopub.status.busy": "2022-08-13T17:44:29.342203Z",
     "iopub.status.idle": "2022-08-13T17:44:29.660573Z",
     "shell.execute_reply": "2022-08-13T17:44:29.659708Z"
    },
    "papermill": {
     "duration": 0.358884,
     "end_time": "2022-08-13T17:44:29.662774",
     "exception": false,
     "start_time": "2022-08-13T17:44:29.303890",
     "status": "completed"
    },
    "tags": []
   },
   "outputs": [
    {
     "data": {
      "text/plain": [
       "<AxesSubplot:xlabel='Item_Type', ylabel='count'>"
      ]
     },
     "execution_count": 53,
     "metadata": {},
     "output_type": "execute_result"
    },
    {
     "data": {
      "image/png": "[encoded data removed]",
      "text/plain": [
       "<Figure size 1944x504 with 1 Axes>"
      ]
     },
     "metadata": {
      "needs_background": "light"
     },
     "output_type": "display_data"
    }
   ],
   "source": [
    "plt.figure(figsize=(27,7))\n",
    "sns.countplot(x='Item_Type', data=test_df, palette='spring')"
   ]
  },
  {
   "cell_type": "markdown",
   "id": "98e54f95",
   "metadata": {
    "papermill": {
     "duration": 0.037121,
     "end_time": "2022-08-13T17:44:29.737632",
     "exception": false,
     "start_time": "2022-08-13T17:44:29.700511",
     "status": "completed"
    },
    "tags": []
   },
   "source": [
    "Train\n",
    "* Fruits and Vegetables are sold more as people buy this on daily basis\n",
    "* Snack Foods also have good sales"
   ]
  },
  {
   "cell_type": "markdown",
   "id": "cdb2b25f",
   "metadata": {
    "papermill": {
     "duration": 0.036952,
     "end_time": "2022-08-13T17:44:29.812525",
     "exception": false,
     "start_time": "2022-08-13T17:44:29.775573",
     "status": "completed"
    },
    "tags": []
   },
   "source": [
    "#### Outlet_Size"
   ]
  },
  {
   "cell_type": "code",
   "execution_count": 54,
   "id": "0f7633ce",
   "metadata": {
    "execution": {
     "iopub.execute_input": "2022-08-13T17:44:29.890825Z",
     "iopub.status.busy": "2022-08-13T17:44:29.889354Z",
     "iopub.status.idle": "2022-08-13T17:44:29.898817Z",
     "shell.execute_reply": "2022-08-13T17:44:29.897805Z"
    },
    "papermill": {
     "duration": 0.051048,
     "end_time": "2022-08-13T17:44:29.901245",
     "exception": false,
     "start_time": "2022-08-13T17:44:29.850197",
     "status": "completed"
    },
    "tags": []
   },
   "outputs": [
    {
     "data": {
      "text/plain": [
       "Medium    5203\n",
       "Small     2388\n",
       "High       932\n",
       "Name: Outlet_Size, dtype: int64"
      ]
     },
     "execution_count": 54,
     "metadata": {},
     "output_type": "execute_result"
    }
   ],
   "source": [
    "train_df['Outlet_Size'].value_counts()"
   ]
  },
  {
   "cell_type": "code",
   "execution_count": 55,
   "id": "718a042f",
   "metadata": {
    "execution": {
     "iopub.execute_input": "2022-08-13T17:44:29.979485Z",
     "iopub.status.busy": "2022-08-13T17:44:29.978680Z",
     "iopub.status.idle": "2022-08-13T17:44:30.105316Z",
     "shell.execute_reply": "2022-08-13T17:44:30.104316Z"
    },
    "papermill": {
     "duration": 0.168861,
     "end_time": "2022-08-13T17:44:30.107782",
     "exception": false,
     "start_time": "2022-08-13T17:44:29.938921",
     "status": "completed"
    },
    "tags": []
   },
   "outputs": [
    {
     "data": {
      "text/plain": [
       "<AxesSubplot:xlabel='Outlet_Size', ylabel='count'>"
      ]
     },
     "execution_count": 55,
     "metadata": {},
     "output_type": "execute_result"
    },
    {
     "data": {
      "image/png": "[encoded data removed]",
      "text/plain": [
       "<Figure size 576x360 with 1 Axes>"
      ]
     },
     "metadata": {
      "needs_background": "light"
     },
     "output_type": "display_data"
    }
   ],
   "source": [
    "plt.figure(figsize=(8,5))\n",
    "sns.countplot(x='Outlet_Size', data=train_df, palette='summer')"
   ]
  },
  {
   "cell_type": "code",
   "execution_count": 56,
   "id": "f0d30d25",
   "metadata": {
    "execution": {
     "iopub.execute_input": "2022-08-13T17:44:30.185363Z",
     "iopub.status.busy": "2022-08-13T17:44:30.184905Z",
     "iopub.status.idle": "2022-08-13T17:44:30.193380Z",
     "shell.execute_reply": "2022-08-13T17:44:30.192517Z"
    },
    "papermill": {
     "duration": 0.049667,
     "end_time": "2022-08-13T17:44:30.195440",
     "exception": false,
     "start_time": "2022-08-13T17:44:30.145773",
     "status": "completed"
    },
    "tags": []
   },
   "outputs": [
    {
     "data": {
      "text/plain": [
       "Medium    3468\n",
       "Small     1592\n",
       "High       621\n",
       "Name: Outlet_Size, dtype: int64"
      ]
     },
     "execution_count": 56,
     "metadata": {},
     "output_type": "execute_result"
    }
   ],
   "source": [
    "test_df['Outlet_Size'].value_counts()"
   ]
  },
  {
   "cell_type": "code",
   "execution_count": 57,
   "id": "abe584c2",
   "metadata": {
    "execution": {
     "iopub.execute_input": "2022-08-13T17:44:30.287813Z",
     "iopub.status.busy": "2022-08-13T17:44:30.287380Z",
     "iopub.status.idle": "2022-08-13T17:44:30.487368Z",
     "shell.execute_reply": "2022-08-13T17:44:30.486142Z"
    },
    "papermill": {
     "duration": 0.252514,
     "end_time": "2022-08-13T17:44:30.489946",
     "exception": false,
     "start_time": "2022-08-13T17:44:30.237432",
     "status": "completed"
    },
    "tags": []
   },
   "outputs": [
    {
     "data": {
      "text/plain": [
       "<AxesSubplot:xlabel='Outlet_Size', ylabel='count'>"
      ]
     },
     "execution_count": 57,
     "metadata": {},
     "output_type": "execute_result"
    },
    {
     "data": {
      "image/png": "[encoded data removed]",
      "text/plain": [
       "<Figure size 432x288 with 1 Axes>"
      ]
     },
     "metadata": {
      "needs_background": "light"
     },
     "output_type": "display_data"
    }
   ],
   "source": [
    "sns.countplot(x='Outlet_Size', data=test_df)"
   ]
  },
  {
   "cell_type": "markdown",
   "id": "7eb7c510",
   "metadata": {
    "papermill": {
     "duration": 0.037788,
     "end_time": "2022-08-13T17:44:30.565709",
     "exception": false,
     "start_time": "2022-08-13T17:44:30.527921",
     "status": "completed"
    },
    "tags": []
   },
   "source": [
    "The outlets are more of Medium Size"
   ]
  },
  {
   "cell_type": "markdown",
   "id": "389d9140",
   "metadata": {
    "papermill": {
     "duration": 0.037242,
     "end_time": "2022-08-13T17:44:30.640666",
     "exception": false,
     "start_time": "2022-08-13T17:44:30.603424",
     "status": "completed"
    },
    "tags": []
   },
   "source": [
    "#### Outlet_Location_Type"
   ]
  },
  {
   "cell_type": "code",
   "execution_count": 58,
   "id": "e3e503d8",
   "metadata": {
    "execution": {
     "iopub.execute_input": "2022-08-13T17:44:30.719829Z",
     "iopub.status.busy": "2022-08-13T17:44:30.718882Z",
     "iopub.status.idle": "2022-08-13T17:44:30.856885Z",
     "shell.execute_reply": "2022-08-13T17:44:30.855495Z"
    },
    "papermill": {
     "duration": 0.180912,
     "end_time": "2022-08-13T17:44:30.860276",
     "exception": false,
     "start_time": "2022-08-13T17:44:30.679364",
     "status": "completed"
    },
    "tags": []
   },
   "outputs": [
    {
     "data": {
      "text/plain": [
       "<AxesSubplot:xlabel='Outlet_Location_Type', ylabel='count'>"
      ]
     },
     "execution_count": 58,
     "metadata": {},
     "output_type": "execute_result"
    },
    {
     "data": {
      "image/png": "[encoded data removed]",
      "text/plain": [
       "<Figure size 576x360 with 1 Axes>"
      ]
     },
     "metadata": {
      "needs_background": "light"
     },
     "output_type": "display_data"
    }
   ],
   "source": [
    "plt.figure(figsize=(8,5))\n",
    "sns.countplot(x='Outlet_Location_Type', data=train_df, palette='autumn')"
   ]
  },
  {
   "cell_type": "code",
   "execution_count": 59,
   "id": "cb6358c2",
   "metadata": {
    "execution": {
     "iopub.execute_input": "2022-08-13T17:44:30.941506Z",
     "iopub.status.busy": "2022-08-13T17:44:30.940940Z",
     "iopub.status.idle": "2022-08-13T17:44:30.950235Z",
     "shell.execute_reply": "2022-08-13T17:44:30.949402Z"
    },
    "papermill": {
     "duration": 0.052841,
     "end_time": "2022-08-13T17:44:30.952524",
     "exception": false,
     "start_time": "2022-08-13T17:44:30.899683",
     "status": "completed"
    },
    "tags": []
   },
   "outputs": [
    {
     "data": {
      "text/plain": [
       "Tier 3    3350\n",
       "Tier 2    2785\n",
       "Tier 1    2388\n",
       "Name: Outlet_Location_Type, dtype: int64"
      ]
     },
     "execution_count": 59,
     "metadata": {},
     "output_type": "execute_result"
    }
   ],
   "source": [
    "train_df['Outlet_Location_Type'].value_counts()"
   ]
  },
  {
   "cell_type": "code",
   "execution_count": 60,
   "id": "b9fc96e7",
   "metadata": {
    "execution": {
     "iopub.execute_input": "2022-08-13T17:44:31.032266Z",
     "iopub.status.busy": "2022-08-13T17:44:31.031631Z",
     "iopub.status.idle": "2022-08-13T17:44:31.149889Z",
     "shell.execute_reply": "2022-08-13T17:44:31.148623Z"
    },
    "papermill": {
     "duration": 0.161233,
     "end_time": "2022-08-13T17:44:31.152763",
     "exception": false,
     "start_time": "2022-08-13T17:44:30.991530",
     "status": "completed"
    },
    "tags": []
   },
   "outputs": [
    {
     "data": {
      "text/plain": [
       "<AxesSubplot:xlabel='Outlet_Location_Type', ylabel='count'>"
      ]
     },
     "execution_count": 60,
     "metadata": {},
     "output_type": "execute_result"
    },
    {
     "data": {
      "image/png": "[encoded data removed]",
      "text/plain": [
       "<Figure size 576x360 with 1 Axes>"
      ]
     },
     "metadata": {
      "needs_background": "light"
     },
     "output_type": "display_data"
    }
   ],
   "source": [
    "plt.figure(figsize=(8,5))\n",
    "sns.countplot(x='Outlet_Location_Type', data=test_df, palette='autumn')"
   ]
  },
  {
   "cell_type": "code",
   "execution_count": 61,
   "id": "22930d7e",
   "metadata": {
    "execution": {
     "iopub.execute_input": "2022-08-13T17:44:31.234610Z",
     "iopub.status.busy": "2022-08-13T17:44:31.233404Z",
     "iopub.status.idle": "2022-08-13T17:44:31.242992Z",
     "shell.execute_reply": "2022-08-13T17:44:31.242013Z"
    },
    "papermill": {
     "duration": 0.052793,
     "end_time": "2022-08-13T17:44:31.245374",
     "exception": false,
     "start_time": "2022-08-13T17:44:31.192581",
     "status": "completed"
    },
    "tags": []
   },
   "outputs": [
    {
     "data": {
      "text/plain": [
       "Tier 3    2233\n",
       "Tier 2    1856\n",
       "Tier 1    1592\n",
       "Name: Outlet_Location_Type, dtype: int64"
      ]
     },
     "execution_count": 61,
     "metadata": {},
     "output_type": "execute_result"
    }
   ],
   "source": [
    "test_df['Outlet_Location_Type'].value_counts()"
   ]
  },
  {
   "cell_type": "markdown",
   "id": "0e1b1f9b",
   "metadata": {
    "papermill": {
     "duration": 0.03876,
     "end_time": "2022-08-13T17:44:31.323929",
     "exception": false,
     "start_time": "2022-08-13T17:44:31.285169",
     "status": "completed"
    },
    "tags": []
   },
   "source": [
    "Maximum outlets are present in Tier 3 Cities"
   ]
  },
  {
   "cell_type": "markdown",
   "id": "3e1bcf0b",
   "metadata": {
    "papermill": {
     "duration": 0.038375,
     "end_time": "2022-08-13T17:44:31.401003",
     "exception": false,
     "start_time": "2022-08-13T17:44:31.362628",
     "status": "completed"
    },
    "tags": []
   },
   "source": [
    "#### Outlet_Type"
   ]
  },
  {
   "cell_type": "code",
   "execution_count": 62,
   "id": "64a03fd5",
   "metadata": {
    "execution": {
     "iopub.execute_input": "2022-08-13T17:44:31.481506Z",
     "iopub.status.busy": "2022-08-13T17:44:31.480674Z",
     "iopub.status.idle": "2022-08-13T17:44:31.490969Z",
     "shell.execute_reply": "2022-08-13T17:44:31.489660Z"
    },
    "papermill": {
     "duration": 0.053658,
     "end_time": "2022-08-13T17:44:31.493367",
     "exception": false,
     "start_time": "2022-08-13T17:44:31.439709",
     "status": "completed"
    },
    "tags": []
   },
   "outputs": [
    {
     "data": {
      "text/plain": [
       "Supermarket Type1    5577\n",
       "Grocery Store        1083\n",
       "Supermarket Type3     935\n",
       "Supermarket Type2     928\n",
       "Name: Outlet_Type, dtype: int64"
      ]
     },
     "execution_count": 62,
     "metadata": {},
     "output_type": "execute_result"
    }
   ],
   "source": [
    "train_df['Outlet_Type'].value_counts()"
   ]
  },
  {
   "cell_type": "code",
   "execution_count": 63,
   "id": "f9670087",
   "metadata": {
    "execution": {
     "iopub.execute_input": "2022-08-13T17:44:31.575047Z",
     "iopub.status.busy": "2022-08-13T17:44:31.574069Z",
     "iopub.status.idle": "2022-08-13T17:44:31.709749Z",
     "shell.execute_reply": "2022-08-13T17:44:31.708796Z"
    },
    "papermill": {
     "duration": 0.178433,
     "end_time": "2022-08-13T17:44:31.711997",
     "exception": false,
     "start_time": "2022-08-13T17:44:31.533564",
     "status": "completed"
    },
    "tags": []
   },
   "outputs": [
    {
     "data": {
      "text/plain": [
       "<AxesSubplot:xlabel='Outlet_Type', ylabel='count'>"
      ]
     },
     "execution_count": 63,
     "metadata": {},
     "output_type": "execute_result"
    },
    {
     "data": {
      "image/png": "[encoded data removed]",
      "text/plain": [
       "<Figure size 504x360 with 1 Axes>"
      ]
     },
     "metadata": {
      "needs_background": "light"
     },
     "output_type": "display_data"
    }
   ],
   "source": [
    "plt.figure(figsize=(7,5))\n",
    "sns.countplot(x='Outlet_Type', data=train_df, palette='winter')"
   ]
  },
  {
   "cell_type": "code",
   "execution_count": 64,
   "id": "804b6453",
   "metadata": {
    "execution": {
     "iopub.execute_input": "2022-08-13T17:44:31.793236Z",
     "iopub.status.busy": "2022-08-13T17:44:31.791890Z",
     "iopub.status.idle": "2022-08-13T17:44:31.802203Z",
     "shell.execute_reply": "2022-08-13T17:44:31.800910Z"
    },
    "papermill": {
     "duration": 0.053186,
     "end_time": "2022-08-13T17:44:31.804955",
     "exception": false,
     "start_time": "2022-08-13T17:44:31.751769",
     "status": "completed"
    },
    "tags": []
   },
   "outputs": [
    {
     "data": {
      "text/plain": [
       "Supermarket Type1    3717\n",
       "Grocery Store         722\n",
       "Supermarket Type3     624\n",
       "Supermarket Type2     618\n",
       "Name: Outlet_Type, dtype: int64"
      ]
     },
     "execution_count": 64,
     "metadata": {},
     "output_type": "execute_result"
    }
   ],
   "source": [
    "test_df['Outlet_Type'].value_counts()"
   ]
  },
  {
   "cell_type": "code",
   "execution_count": 65,
   "id": "59e4764e",
   "metadata": {
    "execution": {
     "iopub.execute_input": "2022-08-13T17:44:31.886123Z",
     "iopub.status.busy": "2022-08-13T17:44:31.885731Z",
     "iopub.status.idle": "2022-08-13T17:44:32.029846Z",
     "shell.execute_reply": "2022-08-13T17:44:32.028379Z"
    },
    "papermill": {
     "duration": 0.188954,
     "end_time": "2022-08-13T17:44:32.033446",
     "exception": false,
     "start_time": "2022-08-13T17:44:31.844492",
     "status": "completed"
    },
    "tags": []
   },
   "outputs": [
    {
     "data": {
      "text/plain": [
       "<AxesSubplot:xlabel='Outlet_Type', ylabel='count'>"
      ]
     },
     "execution_count": 65,
     "metadata": {},
     "output_type": "execute_result"
    },
    {
     "data": {
      "image/png": "[encoded data removed]",
      "text/plain": [
       "<Figure size 504x360 with 1 Axes>"
      ]
     },
     "metadata": {
      "needs_background": "light"
     },
     "output_type": "display_data"
    }
   ],
   "source": [
    "plt.figure(figsize=(7,5))\n",
    "sns.countplot(x='Outlet_Type', data=test_df, palette='winter')"
   ]
  },
  {
   "cell_type": "markdown",
   "id": "47229d6b",
   "metadata": {
    "papermill": {
     "duration": 0.0424,
     "end_time": "2022-08-13T17:44:32.115529",
     "exception": false,
     "start_time": "2022-08-13T17:44:32.073129",
     "status": "completed"
    },
    "tags": []
   },
   "source": [
    "The Outlets are more of Supermarket Type1"
   ]
  },
  {
   "cell_type": "markdown",
   "id": "be918a20",
   "metadata": {
    "papermill": {
     "duration": 0.039496,
     "end_time": "2022-08-13T17:44:32.196585",
     "exception": false,
     "start_time": "2022-08-13T17:44:32.157089",
     "status": "completed"
    },
    "tags": []
   },
   "source": [
    " Item_Type vs Sales"
   ]
  },
  {
   "cell_type": "code",
   "execution_count": 66,
   "id": "a8cfeaed",
   "metadata": {
    "execution": {
     "iopub.execute_input": "2022-08-13T17:44:32.278329Z",
     "iopub.status.busy": "2022-08-13T17:44:32.277778Z",
     "iopub.status.idle": "2022-08-13T17:44:33.062101Z",
     "shell.execute_reply": "2022-08-13T17:44:33.060960Z"
    },
    "papermill": {
     "duration": 0.828436,
     "end_time": "2022-08-13T17:44:33.064822",
     "exception": false,
     "start_time": "2022-08-13T17:44:32.236386",
     "status": "completed"
    },
    "tags": []
   },
   "outputs": [
    {
     "data": {
      "text/plain": [
       "<AxesSubplot:xlabel='Item_Outlet_Sales', ylabel='Item_Type'>"
      ]
     },
     "execution_count": 66,
     "metadata": {},
     "output_type": "execute_result"
    },
    {
     "data": {
      "image/png": "[encoded data removed]",
      "text/plain": [
       "<Figure size 720x576 with 1 Axes>"
      ]
     },
     "metadata": {
      "needs_background": "light"
     },
     "output_type": "display_data"
    }
   ],
   "source": [
    "plt.figure(figsize=(10,8))\n",
    "sns.barplot(x='Item_Outlet_Sales', y='Item_Type', data=train_df,palette='flag')"
   ]
  },
  {
   "cell_type": "markdown",
   "id": "17338759",
   "metadata": {
    "papermill": {
     "duration": 0.041443,
     "end_time": "2022-08-13T17:44:33.147385",
     "exception": false,
     "start_time": "2022-08-13T17:44:33.105942",
     "status": "completed"
    },
    "tags": []
   },
   "source": [
    "The products available were Fruits-Veggies and Snack Foods but the sales of Seafood and Starchy Foods seems higher and hence the sales can be improved with having stock of products that are most bought by customers"
   ]
  },
  {
   "cell_type": "markdown",
   "id": "9ee149a4",
   "metadata": {
    "papermill": {
     "duration": 0.040974,
     "end_time": "2022-08-13T17:44:33.230022",
     "exception": false,
     "start_time": "2022-08-13T17:44:33.189048",
     "status": "completed"
    },
    "tags": []
   },
   "source": [
    "__MultiVariate Analysis__"
   ]
  },
  {
   "cell_type": "markdown",
   "id": "c694d326",
   "metadata": {
    "papermill": {
     "duration": 0.040865,
     "end_time": "2022-08-13T17:44:33.311833",
     "exception": false,
     "start_time": "2022-08-13T17:44:33.270968",
     "status": "completed"
    },
    "tags": []
   },
   "source": [
    "Item_Outlet_Sales`:\n",
    "* Sales per item type\n",
    "* Sales per outlet\n",
    "* Sales per outlet type\n",
    "* Sales per outlet size\n",
    "* Sales per location type"
   ]
  },
  {
   "cell_type": "code",
   "execution_count": 67,
   "id": "02852ea6",
   "metadata": {
    "execution": {
     "iopub.execute_input": "2022-08-13T17:44:33.393468Z",
     "iopub.status.busy": "2022-08-13T17:44:33.393006Z",
     "iopub.status.idle": "2022-08-13T17:44:33.399831Z",
     "shell.execute_reply": "2022-08-13T17:44:33.398965Z"
    },
    "papermill": {
     "duration": 0.049971,
     "end_time": "2022-08-13T17:44:33.401826",
     "exception": false,
     "start_time": "2022-08-13T17:44:33.351855",
     "status": "completed"
    },
    "tags": []
   },
   "outputs": [
    {
     "data": {
      "text/plain": [
       "['Item_Type',\n",
       " 'Outlet_Identifier',\n",
       " 'Outlet_Size',\n",
       " 'Outlet_Location_Type',\n",
       " 'Outlet_Type']"
      ]
     },
     "execution_count": 67,
     "metadata": {},
     "output_type": "execute_result"
    }
   ],
   "source": [
    "multi_plot_cat = categorical.columns.to_list()[2:]\n",
    "multi_plot_cat"
   ]
  },
  {
   "cell_type": "code",
   "execution_count": 68,
   "id": "03710e4b",
   "metadata": {
    "execution": {
     "iopub.execute_input": "2022-08-13T17:44:33.484754Z",
     "iopub.status.busy": "2022-08-13T17:44:33.484130Z",
     "iopub.status.idle": "2022-08-13T17:44:36.374646Z",
     "shell.execute_reply": "2022-08-13T17:44:36.373661Z"
    },
    "papermill": {
     "duration": 2.934772,
     "end_time": "2022-08-13T17:44:36.377397",
     "exception": false,
     "start_time": "2022-08-13T17:44:33.442625",
     "status": "completed"
    },
    "tags": []
   },
   "outputs": [
    {
     "data": {
      "image/png": "[encoded data removed]",
      "text/plain": [
       "<Figure size 1944x720 with 1 Axes>"
      ]
     },
     "metadata": {
      "needs_background": "light"
     },
     "output_type": "display_data"
    },
    {
     "data": {
      "image/png": "[encoded data removed]",
      "text/plain": [
       "<Figure size 1944x720 with 1 Axes>"
      ]
     },
     "metadata": {
      "needs_background": "light"
     },
     "output_type": "display_data"
    },
    {
     "data": {
      "image/png": "[encoded data removed]",
      "text/plain": [
       "<Figure size 1944x720 with 1 Axes>"
      ]
     },
     "metadata": {
      "needs_background": "light"
     },
     "output_type": "display_data"
    },
    {
     "data": {
      "image/png": "[encoded data removed]",
      "text/plain": [
       "<Figure size 1944x720 with 1 Axes>"
      ]
     },
     "metadata": {
      "needs_background": "light"
     },
     "output_type": "display_data"
    },
    {
     "data": {
      "image/png": "[encoded data removed]",
      "text/plain": [
       "<Figure size 1944x720 with 1 Axes>"
      ]
     },
     "metadata": {
      "needs_background": "light"
     },
     "output_type": "display_data"
    }
   ],
   "source": [
    "for i in multi_plot_cat:\n",
    "    plt.figure(figsize=(27,10))\n",
    "    sns.barplot(x=i, y='Item_Outlet_Sales', data=train_df)\n",
    "    plt.xlabel(i, fontsize=14)\n",
    "    plt.legend()\n",
    "    plt.show()"
   ]
  },
  {
   "cell_type": "code",
   "execution_count": 69,
   "id": "96f1f87c",
   "metadata": {
    "execution": {
     "iopub.execute_input": "2022-08-13T17:44:36.467322Z",
     "iopub.status.busy": "2022-08-13T17:44:36.466539Z",
     "iopub.status.idle": "2022-08-13T17:44:36.758571Z",
     "shell.execute_reply": "2022-08-13T17:44:36.757669Z"
    },
    "papermill": {
     "duration": 0.341138,
     "end_time": "2022-08-13T17:44:36.760950",
     "exception": false,
     "start_time": "2022-08-13T17:44:36.419812",
     "status": "completed"
    },
    "tags": []
   },
   "outputs": [
    {
     "data": {
      "text/html": [
       "<div>\n",
       "<style scoped>\n",
       "    .dataframe tbody tr th:only-of-type {\n",
       "        vertical-align: middle;\n",
       "    }\n",
       "\n",
       "    .dataframe tbody tr th {\n",
       "        vertical-align: top;\n",
       "    }\n",
       "\n",
       "    .dataframe thead th {\n",
       "        text-align: right;\n",
       "    }\n",
       "</style>\n",
       "<table border=\"1\" class=\"dataframe\">\n",
       "  <thead>\n",
       "    <tr style=\"text-align: right;\">\n",
       "      <th></th>\n",
       "      <th>Item_Weight</th>\n",
       "      <th>Item_Visibility</th>\n",
       "      <th>Item_MRP</th>\n",
       "      <th>Outlet_Establishment_Year</th>\n",
       "      <th>Item_Outlet_Sales</th>\n",
       "    </tr>\n",
       "  </thead>\n",
       "  <tbody>\n",
       "    <tr>\n",
       "      <th>Item_Weight</th>\n",
       "      <td>1.000000</td>\n",
       "      <td>-0.012049</td>\n",
       "      <td>0.024756</td>\n",
       "      <td>-0.008301</td>\n",
       "      <td>0.011550</td>\n",
       "    </tr>\n",
       "    <tr>\n",
       "      <th>Item_Visibility</th>\n",
       "      <td>-0.012049</td>\n",
       "      <td>1.000000</td>\n",
       "      <td>-0.001315</td>\n",
       "      <td>-0.074834</td>\n",
       "      <td>-0.128625</td>\n",
       "    </tr>\n",
       "    <tr>\n",
       "      <th>Item_MRP</th>\n",
       "      <td>0.024756</td>\n",
       "      <td>-0.001315</td>\n",
       "      <td>1.000000</td>\n",
       "      <td>0.005020</td>\n",
       "      <td>0.567574</td>\n",
       "    </tr>\n",
       "    <tr>\n",
       "      <th>Outlet_Establishment_Year</th>\n",
       "      <td>-0.008301</td>\n",
       "      <td>-0.074834</td>\n",
       "      <td>0.005020</td>\n",
       "      <td>1.000000</td>\n",
       "      <td>-0.049135</td>\n",
       "    </tr>\n",
       "    <tr>\n",
       "      <th>Item_Outlet_Sales</th>\n",
       "      <td>0.011550</td>\n",
       "      <td>-0.128625</td>\n",
       "      <td>0.567574</td>\n",
       "      <td>-0.049135</td>\n",
       "      <td>1.000000</td>\n",
       "    </tr>\n",
       "  </tbody>\n",
       "</table>\n",
       "</div>"
      ],
      "text/plain": [
       "                           Item_Weight  Item_Visibility  Item_MRP  \\\n",
       "Item_Weight                   1.000000        -0.012049  0.024756   \n",
       "Item_Visibility              -0.012049         1.000000 -0.001315   \n",
       "Item_MRP                      0.024756        -0.001315  1.000000   \n",
       "Outlet_Establishment_Year    -0.008301        -0.074834  0.005020   \n",
       "Item_Outlet_Sales             0.011550        -0.128625  0.567574   \n",
       "\n",
       "                           Outlet_Establishment_Year  Item_Outlet_Sales  \n",
       "Item_Weight                                -0.008301           0.011550  \n",
       "Item_Visibility                            -0.074834          -0.128625  \n",
       "Item_MRP                                    0.005020           0.567574  \n",
       "Outlet_Establishment_Year                   1.000000          -0.049135  \n",
       "Item_Outlet_Sales                          -0.049135           1.000000  "
      ]
     },
     "execution_count": 69,
     "metadata": {},
     "output_type": "execute_result"
    },
    {
     "data": {
      "image/png": "[encoded data removed]",
      "text/plain": [
       "<Figure size 432x288 with 2 Axes>"
      ]
     },
     "metadata": {
      "needs_background": "light"
     },
     "output_type": "display_data"
    }
   ],
   "source": [
    "sns.heatmap(train_df.corr(), cmap='rocket')\n",
    "train_df.corr()"
   ]
  },
  {
   "cell_type": "code",
   "execution_count": 70,
   "id": "12ec94fd",
   "metadata": {
    "execution": {
     "iopub.execute_input": "2022-08-13T17:44:36.848118Z",
     "iopub.status.busy": "2022-08-13T17:44:36.847362Z",
     "iopub.status.idle": "2022-08-13T17:44:37.124528Z",
     "shell.execute_reply": "2022-08-13T17:44:37.123684Z"
    },
    "papermill": {
     "duration": 0.323497,
     "end_time": "2022-08-13T17:44:37.126843",
     "exception": false,
     "start_time": "2022-08-13T17:44:36.803346",
     "status": "completed"
    },
    "tags": []
   },
   "outputs": [
    {
     "data": {
      "text/html": [
       "<div>\n",
       "<style scoped>\n",
       "    .dataframe tbody tr th:only-of-type {\n",
       "        vertical-align: middle;\n",
       "    }\n",
       "\n",
       "    .dataframe tbody tr th {\n",
       "        vertical-align: top;\n",
       "    }\n",
       "\n",
       "    .dataframe thead th {\n",
       "        text-align: right;\n",
       "    }\n",
       "</style>\n",
       "<table border=\"1\" class=\"dataframe\">\n",
       "  <thead>\n",
       "    <tr style=\"text-align: right;\">\n",
       "      <th></th>\n",
       "      <th>Item_Weight</th>\n",
       "      <th>Item_Visibility</th>\n",
       "      <th>Item_MRP</th>\n",
       "      <th>Outlet_Establishment_Year</th>\n",
       "    </tr>\n",
       "  </thead>\n",
       "  <tbody>\n",
       "    <tr>\n",
       "      <th>Item_Weight</th>\n",
       "      <td>1.000000</td>\n",
       "      <td>-0.016380</td>\n",
       "      <td>0.045257</td>\n",
       "      <td>0.013548</td>\n",
       "    </tr>\n",
       "    <tr>\n",
       "      <th>Item_Visibility</th>\n",
       "      <td>-0.016380</td>\n",
       "      <td>1.000000</td>\n",
       "      <td>-0.014013</td>\n",
       "      <td>-0.097040</td>\n",
       "    </tr>\n",
       "    <tr>\n",
       "      <th>Item_MRP</th>\n",
       "      <td>0.045257</td>\n",
       "      <td>-0.014013</td>\n",
       "      <td>1.000000</td>\n",
       "      <td>-0.007233</td>\n",
       "    </tr>\n",
       "    <tr>\n",
       "      <th>Outlet_Establishment_Year</th>\n",
       "      <td>0.013548</td>\n",
       "      <td>-0.097040</td>\n",
       "      <td>-0.007233</td>\n",
       "      <td>1.000000</td>\n",
       "    </tr>\n",
       "  </tbody>\n",
       "</table>\n",
       "</div>"
      ],
      "text/plain": [
       "                           Item_Weight  Item_Visibility  Item_MRP  \\\n",
       "Item_Weight                   1.000000        -0.016380  0.045257   \n",
       "Item_Visibility              -0.016380         1.000000 -0.014013   \n",
       "Item_MRP                      0.045257        -0.014013  1.000000   \n",
       "Outlet_Establishment_Year     0.013548        -0.097040 -0.007233   \n",
       "\n",
       "                           Outlet_Establishment_Year  \n",
       "Item_Weight                                 0.013548  \n",
       "Item_Visibility                            -0.097040  \n",
       "Item_MRP                                   -0.007233  \n",
       "Outlet_Establishment_Year                   1.000000  "
      ]
     },
     "execution_count": 70,
     "metadata": {},
     "output_type": "execute_result"
    },
    {
     "data": {
      "image/png": "[encoded data removed]",
      "text/plain": [
       "<Figure size 432x288 with 2 Axes>"
      ]
     },
     "metadata": {
      "needs_background": "light"
     },
     "output_type": "display_data"
    }
   ],
   "source": [
    "sns.heatmap(test_df.corr(), cmap='rocket')\n",
    "test_df.corr()"
   ]
  },
  {
   "cell_type": "markdown",
   "id": "4e51f8f4",
   "metadata": {
    "papermill": {
     "duration": 0.044846,
     "end_time": "2022-08-13T17:44:37.214850",
     "exception": false,
     "start_time": "2022-08-13T17:44:37.170004",
     "status": "completed"
    },
    "tags": []
   },
   "source": [
    "## 5. Feature Engineering"
   ]
  },
  {
   "cell_type": "markdown",
   "id": "f848ce34",
   "metadata": {
    "papermill": {
     "duration": 0.043885,
     "end_time": "2022-08-13T17:44:37.302464",
     "exception": false,
     "start_time": "2022-08-13T17:44:37.258579",
     "status": "completed"
    },
    "tags": []
   },
   "source": [
    "### Numerical Values"
   ]
  },
  {
   "cell_type": "markdown",
   "id": "8e5ad19c",
   "metadata": {
    "papermill": {
     "duration": 0.042624,
     "end_time": "2022-08-13T17:44:37.387969",
     "exception": false,
     "start_time": "2022-08-13T17:44:37.345345",
     "status": "completed"
    },
    "tags": []
   },
   "source": [
    "#### Outlet_Establishment_Year"
   ]
  },
  {
   "cell_type": "code",
   "execution_count": 71,
   "id": "29fd6aae",
   "metadata": {
    "execution": {
     "iopub.execute_input": "2022-08-13T17:44:37.476231Z",
     "iopub.status.busy": "2022-08-13T17:44:37.475467Z",
     "iopub.status.idle": "2022-08-13T17:44:37.484178Z",
     "shell.execute_reply": "2022-08-13T17:44:37.483330Z"
    },
    "papermill": {
     "duration": 0.055569,
     "end_time": "2022-08-13T17:44:37.486609",
     "exception": false,
     "start_time": "2022-08-13T17:44:37.431040",
     "status": "completed"
    },
    "tags": []
   },
   "outputs": [
    {
     "data": {
      "text/plain": [
       "1985    1463\n",
       "1987     932\n",
       "1999     930\n",
       "1997     930\n",
       "2004     930\n",
       "2002     929\n",
       "2009     928\n",
       "2007     926\n",
       "1998     555\n",
       "Name: Outlet_Establishment_Year, dtype: int64"
      ]
     },
     "execution_count": 71,
     "metadata": {},
     "output_type": "execute_result"
    }
   ],
   "source": [
    "train_df['Outlet_Establishment_Year'].value_counts()"
   ]
  },
  {
   "cell_type": "code",
   "execution_count": 72,
   "id": "8b39e164",
   "metadata": {
    "execution": {
     "iopub.execute_input": "2022-08-13T17:44:37.576713Z",
     "iopub.status.busy": "2022-08-13T17:44:37.575948Z",
     "iopub.status.idle": "2022-08-13T17:44:37.596291Z",
     "shell.execute_reply": "2022-08-13T17:44:37.595103Z"
    },
    "papermill": {
     "duration": 0.068855,
     "end_time": "2022-08-13T17:44:37.598744",
     "exception": false,
     "start_time": "2022-08-13T17:44:37.529889",
     "status": "completed"
    },
    "tags": []
   },
   "outputs": [
    {
     "data": {
      "text/html": [
       "<div>\n",
       "<style scoped>\n",
       "    .dataframe tbody tr th:only-of-type {\n",
       "        vertical-align: middle;\n",
       "    }\n",
       "\n",
       "    .dataframe tbody tr th {\n",
       "        vertical-align: top;\n",
       "    }\n",
       "\n",
       "    .dataframe thead th {\n",
       "        text-align: right;\n",
       "    }\n",
       "</style>\n",
       "<table border=\"1\" class=\"dataframe\">\n",
       "  <thead>\n",
       "    <tr style=\"text-align: right;\">\n",
       "      <th></th>\n",
       "      <th>Item_Identifier</th>\n",
       "      <th>Item_Weight</th>\n",
       "      <th>Item_Fat_Content</th>\n",
       "      <th>Item_Visibility</th>\n",
       "      <th>Item_Type</th>\n",
       "      <th>Item_MRP</th>\n",
       "      <th>Outlet_Identifier</th>\n",
       "      <th>Outlet_Establishment_Year</th>\n",
       "      <th>Outlet_Size</th>\n",
       "      <th>Outlet_Location_Type</th>\n",
       "      <th>Outlet_Type</th>\n",
       "      <th>Item_Outlet_Sales</th>\n",
       "      <th>Outlet_Years</th>\n",
       "    </tr>\n",
       "  </thead>\n",
       "  <tbody>\n",
       "    <tr>\n",
       "      <th>0</th>\n",
       "      <td>FDA15</td>\n",
       "      <td>9.30</td>\n",
       "      <td>Low Fat</td>\n",
       "      <td>0.016047</td>\n",
       "      <td>Dairy</td>\n",
       "      <td>249.8092</td>\n",
       "      <td>OUT049</td>\n",
       "      <td>1999</td>\n",
       "      <td>Medium</td>\n",
       "      <td>Tier 1</td>\n",
       "      <td>Supermarket Type1</td>\n",
       "      <td>3735.1380</td>\n",
       "      <td>23</td>\n",
       "    </tr>\n",
       "    <tr>\n",
       "      <th>1</th>\n",
       "      <td>DRC01</td>\n",
       "      <td>5.92</td>\n",
       "      <td>Regular</td>\n",
       "      <td>0.019278</td>\n",
       "      <td>Soft Drinks</td>\n",
       "      <td>48.2692</td>\n",
       "      <td>OUT018</td>\n",
       "      <td>2009</td>\n",
       "      <td>Medium</td>\n",
       "      <td>Tier 3</td>\n",
       "      <td>Supermarket Type2</td>\n",
       "      <td>443.4228</td>\n",
       "      <td>13</td>\n",
       "    </tr>\n",
       "    <tr>\n",
       "      <th>2</th>\n",
       "      <td>FDN15</td>\n",
       "      <td>17.50</td>\n",
       "      <td>Low Fat</td>\n",
       "      <td>0.016760</td>\n",
       "      <td>Meat</td>\n",
       "      <td>141.6180</td>\n",
       "      <td>OUT049</td>\n",
       "      <td>1999</td>\n",
       "      <td>Medium</td>\n",
       "      <td>Tier 1</td>\n",
       "      <td>Supermarket Type1</td>\n",
       "      <td>2097.2700</td>\n",
       "      <td>23</td>\n",
       "    </tr>\n",
       "    <tr>\n",
       "      <th>3</th>\n",
       "      <td>FDX07</td>\n",
       "      <td>19.20</td>\n",
       "      <td>Regular</td>\n",
       "      <td>0.000000</td>\n",
       "      <td>Fruits and Vegetables</td>\n",
       "      <td>182.0950</td>\n",
       "      <td>OUT010</td>\n",
       "      <td>1998</td>\n",
       "      <td>Medium</td>\n",
       "      <td>Tier 3</td>\n",
       "      <td>Grocery Store</td>\n",
       "      <td>732.3800</td>\n",
       "      <td>24</td>\n",
       "    </tr>\n",
       "    <tr>\n",
       "      <th>4</th>\n",
       "      <td>NCD19</td>\n",
       "      <td>8.93</td>\n",
       "      <td>Low Fat</td>\n",
       "      <td>0.000000</td>\n",
       "      <td>Household</td>\n",
       "      <td>53.8614</td>\n",
       "      <td>OUT013</td>\n",
       "      <td>1987</td>\n",
       "      <td>High</td>\n",
       "      <td>Tier 3</td>\n",
       "      <td>Supermarket Type1</td>\n",
       "      <td>994.7052</td>\n",
       "      <td>35</td>\n",
       "    </tr>\n",
       "  </tbody>\n",
       "</table>\n",
       "</div>"
      ],
      "text/plain": [
       "  Item_Identifier  Item_Weight Item_Fat_Content  Item_Visibility  \\\n",
       "0           FDA15         9.30          Low Fat         0.016047   \n",
       "1           DRC01         5.92          Regular         0.019278   \n",
       "2           FDN15        17.50          Low Fat         0.016760   \n",
       "3           FDX07        19.20          Regular         0.000000   \n",
       "4           NCD19         8.93          Low Fat         0.000000   \n",
       "\n",
       "               Item_Type  Item_MRP Outlet_Identifier  \\\n",
       "0                  Dairy  249.8092            OUT049   \n",
       "1            Soft Drinks   48.2692            OUT018   \n",
       "2                   Meat  141.6180            OUT049   \n",
       "3  Fruits and Vegetables  182.0950            OUT010   \n",
       "4              Household   53.8614            OUT013   \n",
       "\n",
       "   Outlet_Establishment_Year Outlet_Size Outlet_Location_Type  \\\n",
       "0                       1999      Medium               Tier 1   \n",
       "1                       2009      Medium               Tier 3   \n",
       "2                       1999      Medium               Tier 1   \n",
       "3                       1998      Medium               Tier 3   \n",
       "4                       1987        High               Tier 3   \n",
       "\n",
       "         Outlet_Type  Item_Outlet_Sales  Outlet_Years  \n",
       "0  Supermarket Type1          3735.1380            23  \n",
       "1  Supermarket Type2           443.4228            13  \n",
       "2  Supermarket Type1          2097.2700            23  \n",
       "3      Grocery Store           732.3800            24  \n",
       "4  Supermarket Type1           994.7052            35  "
      ]
     },
     "execution_count": 72,
     "metadata": {},
     "output_type": "execute_result"
    }
   ],
   "source": [
    "train_df['Outlet_Years'] = 2022-train_df['Outlet_Establishment_Year']\n",
    "train_df.head()"
   ]
  },
  {
   "cell_type": "code",
   "execution_count": 73,
   "id": "a7f62670",
   "metadata": {
    "execution": {
     "iopub.execute_input": "2022-08-13T17:44:37.689262Z",
     "iopub.status.busy": "2022-08-13T17:44:37.688378Z",
     "iopub.status.idle": "2022-08-13T17:44:37.708709Z",
     "shell.execute_reply": "2022-08-13T17:44:37.707385Z"
    },
    "papermill": {
     "duration": 0.069206,
     "end_time": "2022-08-13T17:44:37.711316",
     "exception": false,
     "start_time": "2022-08-13T17:44:37.642110",
     "status": "completed"
    },
    "tags": []
   },
   "outputs": [
    {
     "data": {
      "text/html": [
       "<div>\n",
       "<style scoped>\n",
       "    .dataframe tbody tr th:only-of-type {\n",
       "        vertical-align: middle;\n",
       "    }\n",
       "\n",
       "    .dataframe tbody tr th {\n",
       "        vertical-align: top;\n",
       "    }\n",
       "\n",
       "    .dataframe thead th {\n",
       "        text-align: right;\n",
       "    }\n",
       "</style>\n",
       "<table border=\"1\" class=\"dataframe\">\n",
       "  <thead>\n",
       "    <tr style=\"text-align: right;\">\n",
       "      <th></th>\n",
       "      <th>Item_Identifier</th>\n",
       "      <th>Item_Weight</th>\n",
       "      <th>Item_Fat_Content</th>\n",
       "      <th>Item_Visibility</th>\n",
       "      <th>Item_Type</th>\n",
       "      <th>Item_MRP</th>\n",
       "      <th>Outlet_Identifier</th>\n",
       "      <th>Outlet_Establishment_Year</th>\n",
       "      <th>Outlet_Size</th>\n",
       "      <th>Outlet_Location_Type</th>\n",
       "      <th>Outlet_Type</th>\n",
       "      <th>Outlet_Years</th>\n",
       "    </tr>\n",
       "  </thead>\n",
       "  <tbody>\n",
       "    <tr>\n",
       "      <th>0</th>\n",
       "      <td>FDW58</td>\n",
       "      <td>20.750000</td>\n",
       "      <td>Low Fat</td>\n",
       "      <td>0.007565</td>\n",
       "      <td>Snack Foods</td>\n",
       "      <td>107.8622</td>\n",
       "      <td>OUT049</td>\n",
       "      <td>1999</td>\n",
       "      <td>Medium</td>\n",
       "      <td>Tier 1</td>\n",
       "      <td>Supermarket Type1</td>\n",
       "      <td>23</td>\n",
       "    </tr>\n",
       "    <tr>\n",
       "      <th>1</th>\n",
       "      <td>FDW14</td>\n",
       "      <td>8.300000</td>\n",
       "      <td>Regular</td>\n",
       "      <td>0.038428</td>\n",
       "      <td>Dairy</td>\n",
       "      <td>87.3198</td>\n",
       "      <td>OUT017</td>\n",
       "      <td>2007</td>\n",
       "      <td>Medium</td>\n",
       "      <td>Tier 2</td>\n",
       "      <td>Supermarket Type1</td>\n",
       "      <td>13</td>\n",
       "    </tr>\n",
       "    <tr>\n",
       "      <th>2</th>\n",
       "      <td>NCN55</td>\n",
       "      <td>14.600000</td>\n",
       "      <td>Low Fat</td>\n",
       "      <td>0.099575</td>\n",
       "      <td>Others</td>\n",
       "      <td>241.7538</td>\n",
       "      <td>OUT010</td>\n",
       "      <td>1998</td>\n",
       "      <td>Medium</td>\n",
       "      <td>Tier 3</td>\n",
       "      <td>Grocery Store</td>\n",
       "      <td>23</td>\n",
       "    </tr>\n",
       "    <tr>\n",
       "      <th>3</th>\n",
       "      <td>FDQ58</td>\n",
       "      <td>7.315000</td>\n",
       "      <td>Low Fat</td>\n",
       "      <td>0.015388</td>\n",
       "      <td>Snack Foods</td>\n",
       "      <td>155.0340</td>\n",
       "      <td>OUT017</td>\n",
       "      <td>2007</td>\n",
       "      <td>Medium</td>\n",
       "      <td>Tier 2</td>\n",
       "      <td>Supermarket Type1</td>\n",
       "      <td>24</td>\n",
       "    </tr>\n",
       "    <tr>\n",
       "      <th>4</th>\n",
       "      <td>FDY38</td>\n",
       "      <td>12.695633</td>\n",
       "      <td>Regular</td>\n",
       "      <td>0.118599</td>\n",
       "      <td>Dairy</td>\n",
       "      <td>234.2300</td>\n",
       "      <td>OUT027</td>\n",
       "      <td>1985</td>\n",
       "      <td>Medium</td>\n",
       "      <td>Tier 3</td>\n",
       "      <td>Supermarket Type3</td>\n",
       "      <td>35</td>\n",
       "    </tr>\n",
       "  </tbody>\n",
       "</table>\n",
       "</div>"
      ],
      "text/plain": [
       "  Item_Identifier  Item_Weight Item_Fat_Content  Item_Visibility    Item_Type  \\\n",
       "0           FDW58    20.750000          Low Fat         0.007565  Snack Foods   \n",
       "1           FDW14     8.300000          Regular         0.038428        Dairy   \n",
       "2           NCN55    14.600000          Low Fat         0.099575       Others   \n",
       "3           FDQ58     7.315000          Low Fat         0.015388  Snack Foods   \n",
       "4           FDY38    12.695633          Regular         0.118599        Dairy   \n",
       "\n",
       "   Item_MRP Outlet_Identifier  Outlet_Establishment_Year Outlet_Size  \\\n",
       "0  107.8622            OUT049                       1999      Medium   \n",
       "1   87.3198            OUT017                       2007      Medium   \n",
       "2  241.7538            OUT010                       1998      Medium   \n",
       "3  155.0340            OUT017                       2007      Medium   \n",
       "4  234.2300            OUT027                       1985      Medium   \n",
       "\n",
       "  Outlet_Location_Type        Outlet_Type  Outlet_Years  \n",
       "0               Tier 1  Supermarket Type1            23  \n",
       "1               Tier 2  Supermarket Type1            13  \n",
       "2               Tier 3      Grocery Store            23  \n",
       "3               Tier 2  Supermarket Type1            24  \n",
       "4               Tier 3  Supermarket Type3            35  "
      ]
     },
     "execution_count": 73,
     "metadata": {},
     "output_type": "execute_result"
    }
   ],
   "source": [
    "test_df['Outlet_Years'] = 2022 - train_df['Outlet_Establishment_Year']\n",
    "test_df.head()"
   ]
  },
  {
   "cell_type": "code",
   "execution_count": 74,
   "id": "6752d919",
   "metadata": {
    "execution": {
     "iopub.execute_input": "2022-08-13T17:44:37.801277Z",
     "iopub.status.busy": "2022-08-13T17:44:37.800470Z",
     "iopub.status.idle": "2022-08-13T17:44:37.812534Z",
     "shell.execute_reply": "2022-08-13T17:44:37.811267Z"
    },
    "papermill": {
     "duration": 0.059886,
     "end_time": "2022-08-13T17:44:37.815029",
     "exception": false,
     "start_time": "2022-08-13T17:44:37.755143",
     "status": "completed"
    },
    "tags": []
   },
   "outputs": [
    {
     "data": {
      "text/plain": [
       "Outlet_Years\n",
       "37              1463\n",
       "35               932\n",
       "18               930\n",
       "23               930\n",
       "25               930\n",
       "20               929\n",
       "13               928\n",
       "15               926\n",
       "24               555\n",
       "dtype: int64"
      ]
     },
     "execution_count": 74,
     "metadata": {},
     "output_type": "execute_result"
    }
   ],
   "source": [
    "train_df[['Outlet_Years']].value_counts()"
   ]
  },
  {
   "cell_type": "code",
   "execution_count": 75,
   "id": "25013139",
   "metadata": {
    "execution": {
     "iopub.execute_input": "2022-08-13T17:44:37.905271Z",
     "iopub.status.busy": "2022-08-13T17:44:37.904849Z",
     "iopub.status.idle": "2022-08-13T17:44:37.917631Z",
     "shell.execute_reply": "2022-08-13T17:44:37.916468Z"
    },
    "papermill": {
     "duration": 0.061175,
     "end_time": "2022-08-13T17:44:37.919952",
     "exception": false,
     "start_time": "2022-08-13T17:44:37.858777",
     "status": "completed"
    },
    "tags": []
   },
   "outputs": [
    {
     "data": {
      "text/plain": [
       "Outlet_Years\n",
       "37              944\n",
       "20              649\n",
       "25              634\n",
       "18              633\n",
       "35              630\n",
       "15              616\n",
       "13              605\n",
       "23              603\n",
       "24              367\n",
       "dtype: int64"
      ]
     },
     "execution_count": 75,
     "metadata": {},
     "output_type": "execute_result"
    }
   ],
   "source": [
    "test_df[['Outlet_Years']].value_counts()"
   ]
  },
  {
   "cell_type": "markdown",
   "id": "7ea4f957",
   "metadata": {
    "papermill": {
     "duration": 0.0438,
     "end_time": "2022-08-13T17:44:38.008473",
     "exception": false,
     "start_time": "2022-08-13T17:44:37.964673",
     "status": "completed"
    },
    "tags": []
   },
   "source": [
    "### Categorical Values"
   ]
  },
  {
   "cell_type": "markdown",
   "id": "a808b0e5",
   "metadata": {
    "papermill": {
     "duration": 0.043753,
     "end_time": "2022-08-13T17:44:38.096126",
     "exception": false,
     "start_time": "2022-08-13T17:44:38.052373",
     "status": "completed"
    },
    "tags": []
   },
   "source": [
    "> Ordinal"
   ]
  },
  {
   "cell_type": "markdown",
   "id": "48ee70c8",
   "metadata": {
    "papermill": {
     "duration": 0.043128,
     "end_time": "2022-08-13T17:44:38.182916",
     "exception": false,
     "start_time": "2022-08-13T17:44:38.139788",
     "status": "completed"
    },
    "tags": []
   },
   "source": [
    "#### Item_Fat_Content"
   ]
  },
  {
   "cell_type": "markdown",
   "id": "03e3bfb4",
   "metadata": {
    "papermill": {
     "duration": 0.043792,
     "end_time": "2022-08-13T17:44:38.271040",
     "exception": false,
     "start_time": "2022-08-13T17:44:38.227248",
     "status": "completed"
    },
    "tags": []
   },
   "source": [
    "Creating Item_ID_Type_Combined from Item_Identifier using Item_Type to categorize"
   ]
  },
  {
   "cell_type": "code",
   "execution_count": 76,
   "id": "2d209905",
   "metadata": {
    "execution": {
     "iopub.execute_input": "2022-08-13T17:44:38.361022Z",
     "iopub.status.busy": "2022-08-13T17:44:38.360539Z",
     "iopub.status.idle": "2022-08-13T17:44:38.386455Z",
     "shell.execute_reply": "2022-08-13T17:44:38.385554Z"
    },
    "papermill": {
     "duration": 0.073223,
     "end_time": "2022-08-13T17:44:38.388648",
     "exception": false,
     "start_time": "2022-08-13T17:44:38.315425",
     "status": "completed"
    },
    "tags": []
   },
   "outputs": [
    {
     "data": {
      "text/html": [
       "<div>\n",
       "<style scoped>\n",
       "    .dataframe tbody tr th:only-of-type {\n",
       "        vertical-align: middle;\n",
       "    }\n",
       "\n",
       "    .dataframe tbody tr th {\n",
       "        vertical-align: top;\n",
       "    }\n",
       "\n",
       "    .dataframe thead th {\n",
       "        text-align: right;\n",
       "    }\n",
       "</style>\n",
       "<table border=\"1\" class=\"dataframe\">\n",
       "  <thead>\n",
       "    <tr style=\"text-align: right;\">\n",
       "      <th></th>\n",
       "      <th>Item_Identifier</th>\n",
       "      <th>Item_Weight</th>\n",
       "      <th>Item_Fat_Content</th>\n",
       "      <th>Item_Visibility</th>\n",
       "      <th>Item_Type</th>\n",
       "      <th>Item_MRP</th>\n",
       "      <th>Outlet_Identifier</th>\n",
       "      <th>Outlet_Establishment_Year</th>\n",
       "      <th>Outlet_Size</th>\n",
       "      <th>Outlet_Location_Type</th>\n",
       "      <th>Outlet_Type</th>\n",
       "      <th>Item_Outlet_Sales</th>\n",
       "      <th>Outlet_Years</th>\n",
       "      <th>Item_ID_Type_Combined</th>\n",
       "    </tr>\n",
       "  </thead>\n",
       "  <tbody>\n",
       "    <tr>\n",
       "      <th>0</th>\n",
       "      <td>FDA15</td>\n",
       "      <td>9.30</td>\n",
       "      <td>Low Fat</td>\n",
       "      <td>0.016047</td>\n",
       "      <td>Dairy</td>\n",
       "      <td>249.8092</td>\n",
       "      <td>OUT049</td>\n",
       "      <td>1999</td>\n",
       "      <td>Medium</td>\n",
       "      <td>Tier 1</td>\n",
       "      <td>Supermarket Type1</td>\n",
       "      <td>3735.1380</td>\n",
       "      <td>23</td>\n",
       "      <td>Food</td>\n",
       "    </tr>\n",
       "    <tr>\n",
       "      <th>1</th>\n",
       "      <td>DRC01</td>\n",
       "      <td>5.92</td>\n",
       "      <td>Regular</td>\n",
       "      <td>0.019278</td>\n",
       "      <td>Soft Drinks</td>\n",
       "      <td>48.2692</td>\n",
       "      <td>OUT018</td>\n",
       "      <td>2009</td>\n",
       "      <td>Medium</td>\n",
       "      <td>Tier 3</td>\n",
       "      <td>Supermarket Type2</td>\n",
       "      <td>443.4228</td>\n",
       "      <td>13</td>\n",
       "      <td>Drinks</td>\n",
       "    </tr>\n",
       "    <tr>\n",
       "      <th>2</th>\n",
       "      <td>FDN15</td>\n",
       "      <td>17.50</td>\n",
       "      <td>Low Fat</td>\n",
       "      <td>0.016760</td>\n",
       "      <td>Meat</td>\n",
       "      <td>141.6180</td>\n",
       "      <td>OUT049</td>\n",
       "      <td>1999</td>\n",
       "      <td>Medium</td>\n",
       "      <td>Tier 1</td>\n",
       "      <td>Supermarket Type1</td>\n",
       "      <td>2097.2700</td>\n",
       "      <td>23</td>\n",
       "      <td>Food</td>\n",
       "    </tr>\n",
       "    <tr>\n",
       "      <th>3</th>\n",
       "      <td>FDX07</td>\n",
       "      <td>19.20</td>\n",
       "      <td>Regular</td>\n",
       "      <td>0.000000</td>\n",
       "      <td>Fruits and Vegetables</td>\n",
       "      <td>182.0950</td>\n",
       "      <td>OUT010</td>\n",
       "      <td>1998</td>\n",
       "      <td>Medium</td>\n",
       "      <td>Tier 3</td>\n",
       "      <td>Grocery Store</td>\n",
       "      <td>732.3800</td>\n",
       "      <td>24</td>\n",
       "      <td>Food</td>\n",
       "    </tr>\n",
       "    <tr>\n",
       "      <th>4</th>\n",
       "      <td>NCD19</td>\n",
       "      <td>8.93</td>\n",
       "      <td>Low Fat</td>\n",
       "      <td>0.000000</td>\n",
       "      <td>Household</td>\n",
       "      <td>53.8614</td>\n",
       "      <td>OUT013</td>\n",
       "      <td>1987</td>\n",
       "      <td>High</td>\n",
       "      <td>Tier 3</td>\n",
       "      <td>Supermarket Type1</td>\n",
       "      <td>994.7052</td>\n",
       "      <td>35</td>\n",
       "      <td>Non-Consumable</td>\n",
       "    </tr>\n",
       "  </tbody>\n",
       "</table>\n",
       "</div>"
      ],
      "text/plain": [
       "  Item_Identifier  Item_Weight Item_Fat_Content  Item_Visibility  \\\n",
       "0           FDA15         9.30          Low Fat         0.016047   \n",
       "1           DRC01         5.92          Regular         0.019278   \n",
       "2           FDN15        17.50          Low Fat         0.016760   \n",
       "3           FDX07        19.20          Regular         0.000000   \n",
       "4           NCD19         8.93          Low Fat         0.000000   \n",
       "\n",
       "               Item_Type  Item_MRP Outlet_Identifier  \\\n",
       "0                  Dairy  249.8092            OUT049   \n",
       "1            Soft Drinks   48.2692            OUT018   \n",
       "2                   Meat  141.6180            OUT049   \n",
       "3  Fruits and Vegetables  182.0950            OUT010   \n",
       "4              Household   53.8614            OUT013   \n",
       "\n",
       "   Outlet_Establishment_Year Outlet_Size Outlet_Location_Type  \\\n",
       "0                       1999      Medium               Tier 1   \n",
       "1                       2009      Medium               Tier 3   \n",
       "2                       1999      Medium               Tier 1   \n",
       "3                       1998      Medium               Tier 3   \n",
       "4                       1987        High               Tier 3   \n",
       "\n",
       "         Outlet_Type  Item_Outlet_Sales  Outlet_Years Item_ID_Type_Combined  \n",
       "0  Supermarket Type1          3735.1380            23                  Food  \n",
       "1  Supermarket Type2           443.4228            13                Drinks  \n",
       "2  Supermarket Type1          2097.2700            23                  Food  \n",
       "3      Grocery Store           732.3800            24                  Food  \n",
       "4  Supermarket Type1           994.7052            35        Non-Consumable  "
      ]
     },
     "execution_count": 76,
     "metadata": {},
     "output_type": "execute_result"
    }
   ],
   "source": [
    "train_df['Item_ID_Type_Combined'] = train_df['Item_Identifier'].apply(lambda x:x[:2])\n",
    "train_df['Item_ID_Type_Combined'] = train_df['Item_ID_Type_Combined'].map({'FD':'Food', 'NC':'Non-Consumable', 'DR':'Drinks'})\n",
    "train_df.head()"
   ]
  },
  {
   "cell_type": "code",
   "execution_count": 77,
   "id": "b81b1d65",
   "metadata": {
    "execution": {
     "iopub.execute_input": "2022-08-13T17:44:38.481530Z",
     "iopub.status.busy": "2022-08-13T17:44:38.480626Z",
     "iopub.status.idle": "2022-08-13T17:44:38.502965Z",
     "shell.execute_reply": "2022-08-13T17:44:38.502012Z"
    },
    "papermill": {
     "duration": 0.071807,
     "end_time": "2022-08-13T17:44:38.505164",
     "exception": false,
     "start_time": "2022-08-13T17:44:38.433357",
     "status": "completed"
    },
    "tags": []
   },
   "outputs": [
    {
     "data": {
      "text/html": [
       "<div>\n",
       "<style scoped>\n",
       "    .dataframe tbody tr th:only-of-type {\n",
       "        vertical-align: middle;\n",
       "    }\n",
       "\n",
       "    .dataframe tbody tr th {\n",
       "        vertical-align: top;\n",
       "    }\n",
       "\n",
       "    .dataframe thead th {\n",
       "        text-align: right;\n",
       "    }\n",
       "</style>\n",
       "<table border=\"1\" class=\"dataframe\">\n",
       "  <thead>\n",
       "    <tr style=\"text-align: right;\">\n",
       "      <th></th>\n",
       "      <th>Item_Identifier</th>\n",
       "      <th>Item_Weight</th>\n",
       "      <th>Item_Fat_Content</th>\n",
       "      <th>Item_Visibility</th>\n",
       "      <th>Item_Type</th>\n",
       "      <th>Item_MRP</th>\n",
       "      <th>Outlet_Identifier</th>\n",
       "      <th>Outlet_Establishment_Year</th>\n",
       "      <th>Outlet_Size</th>\n",
       "      <th>Outlet_Location_Type</th>\n",
       "      <th>Outlet_Type</th>\n",
       "      <th>Outlet_Years</th>\n",
       "      <th>Item_ID_Type_Combined</th>\n",
       "    </tr>\n",
       "  </thead>\n",
       "  <tbody>\n",
       "    <tr>\n",
       "      <th>0</th>\n",
       "      <td>FDW58</td>\n",
       "      <td>20.750000</td>\n",
       "      <td>Low Fat</td>\n",
       "      <td>0.007565</td>\n",
       "      <td>Snack Foods</td>\n",
       "      <td>107.8622</td>\n",
       "      <td>OUT049</td>\n",
       "      <td>1999</td>\n",
       "      <td>Medium</td>\n",
       "      <td>Tier 1</td>\n",
       "      <td>Supermarket Type1</td>\n",
       "      <td>23</td>\n",
       "      <td>Food</td>\n",
       "    </tr>\n",
       "    <tr>\n",
       "      <th>1</th>\n",
       "      <td>FDW14</td>\n",
       "      <td>8.300000</td>\n",
       "      <td>Regular</td>\n",
       "      <td>0.038428</td>\n",
       "      <td>Dairy</td>\n",
       "      <td>87.3198</td>\n",
       "      <td>OUT017</td>\n",
       "      <td>2007</td>\n",
       "      <td>Medium</td>\n",
       "      <td>Tier 2</td>\n",
       "      <td>Supermarket Type1</td>\n",
       "      <td>13</td>\n",
       "      <td>Food</td>\n",
       "    </tr>\n",
       "    <tr>\n",
       "      <th>2</th>\n",
       "      <td>NCN55</td>\n",
       "      <td>14.600000</td>\n",
       "      <td>Low Fat</td>\n",
       "      <td>0.099575</td>\n",
       "      <td>Others</td>\n",
       "      <td>241.7538</td>\n",
       "      <td>OUT010</td>\n",
       "      <td>1998</td>\n",
       "      <td>Medium</td>\n",
       "      <td>Tier 3</td>\n",
       "      <td>Grocery Store</td>\n",
       "      <td>23</td>\n",
       "      <td>Non-Consumable</td>\n",
       "    </tr>\n",
       "    <tr>\n",
       "      <th>3</th>\n",
       "      <td>FDQ58</td>\n",
       "      <td>7.315000</td>\n",
       "      <td>Low Fat</td>\n",
       "      <td>0.015388</td>\n",
       "      <td>Snack Foods</td>\n",
       "      <td>155.0340</td>\n",
       "      <td>OUT017</td>\n",
       "      <td>2007</td>\n",
       "      <td>Medium</td>\n",
       "      <td>Tier 2</td>\n",
       "      <td>Supermarket Type1</td>\n",
       "      <td>24</td>\n",
       "      <td>Food</td>\n",
       "    </tr>\n",
       "    <tr>\n",
       "      <th>4</th>\n",
       "      <td>FDY38</td>\n",
       "      <td>12.695633</td>\n",
       "      <td>Regular</td>\n",
       "      <td>0.118599</td>\n",
       "      <td>Dairy</td>\n",
       "      <td>234.2300</td>\n",
       "      <td>OUT027</td>\n",
       "      <td>1985</td>\n",
       "      <td>Medium</td>\n",
       "      <td>Tier 3</td>\n",
       "      <td>Supermarket Type3</td>\n",
       "      <td>35</td>\n",
       "      <td>Food</td>\n",
       "    </tr>\n",
       "  </tbody>\n",
       "</table>\n",
       "</div>"
      ],
      "text/plain": [
       "  Item_Identifier  Item_Weight Item_Fat_Content  Item_Visibility    Item_Type  \\\n",
       "0           FDW58    20.750000          Low Fat         0.007565  Snack Foods   \n",
       "1           FDW14     8.300000          Regular         0.038428        Dairy   \n",
       "2           NCN55    14.600000          Low Fat         0.099575       Others   \n",
       "3           FDQ58     7.315000          Low Fat         0.015388  Snack Foods   \n",
       "4           FDY38    12.695633          Regular         0.118599        Dairy   \n",
       "\n",
       "   Item_MRP Outlet_Identifier  Outlet_Establishment_Year Outlet_Size  \\\n",
       "0  107.8622            OUT049                       1999      Medium   \n",
       "1   87.3198            OUT017                       2007      Medium   \n",
       "2  241.7538            OUT010                       1998      Medium   \n",
       "3  155.0340            OUT017                       2007      Medium   \n",
       "4  234.2300            OUT027                       1985      Medium   \n",
       "\n",
       "  Outlet_Location_Type        Outlet_Type  Outlet_Years Item_ID_Type_Combined  \n",
       "0               Tier 1  Supermarket Type1            23                  Food  \n",
       "1               Tier 2  Supermarket Type1            13                  Food  \n",
       "2               Tier 3      Grocery Store            23        Non-Consumable  \n",
       "3               Tier 2  Supermarket Type1            24                  Food  \n",
       "4               Tier 3  Supermarket Type3            35                  Food  "
      ]
     },
     "execution_count": 77,
     "metadata": {},
     "output_type": "execute_result"
    }
   ],
   "source": [
    "test_df['Item_ID_Type_Combined'] = test_df['Item_Identifier'].apply(lambda x:x[:2])\n",
    "test_df['Item_ID_Type_Combined'] = test_df['Item_ID_Type_Combined'].map({'FD':'Food', 'NC':'Non-Consumable', 'DR':'Drinks'})\n",
    "test_df.head()"
   ]
  },
  {
   "cell_type": "code",
   "execution_count": 78,
   "id": "85f44916",
   "metadata": {
    "execution": {
     "iopub.execute_input": "2022-08-13T17:44:38.596973Z",
     "iopub.status.busy": "2022-08-13T17:44:38.596348Z",
     "iopub.status.idle": "2022-08-13T17:44:38.604494Z",
     "shell.execute_reply": "2022-08-13T17:44:38.603310Z"
    },
    "papermill": {
     "duration": 0.056824,
     "end_time": "2022-08-13T17:44:38.606784",
     "exception": false,
     "start_time": "2022-08-13T17:44:38.549960",
     "status": "completed"
    },
    "tags": []
   },
   "outputs": [
    {
     "data": {
      "text/plain": [
       "Food              6125\n",
       "Non-Consumable    1599\n",
       "Drinks             799\n",
       "Name: Item_ID_Type_Combined, dtype: int64"
      ]
     },
     "execution_count": 78,
     "metadata": {},
     "output_type": "execute_result"
    }
   ],
   "source": [
    "train_df['Item_ID_Type_Combined'].value_counts()"
   ]
  },
  {
   "cell_type": "code",
   "execution_count": 79,
   "id": "7a3f529f",
   "metadata": {
    "execution": {
     "iopub.execute_input": "2022-08-13T17:44:38.790202Z",
     "iopub.status.busy": "2022-08-13T17:44:38.789814Z",
     "iopub.status.idle": "2022-08-13T17:44:38.798947Z",
     "shell.execute_reply": "2022-08-13T17:44:38.798017Z"
    },
    "papermill": {
     "duration": 0.061167,
     "end_time": "2022-08-13T17:44:38.801771",
     "exception": false,
     "start_time": "2022-08-13T17:44:38.740604",
     "status": "completed"
    },
    "tags": []
   },
   "outputs": [
    {
     "data": {
      "text/plain": [
       "Food              4076\n",
       "Non-Consumable    1087\n",
       "Drinks             518\n",
       "Name: Item_ID_Type_Combined, dtype: int64"
      ]
     },
     "execution_count": 79,
     "metadata": {},
     "output_type": "execute_result"
    }
   ],
   "source": [
    "test_df['Item_ID_Type_Combined'].value_counts()"
   ]
  },
  {
   "cell_type": "markdown",
   "id": "b8236975",
   "metadata": {
    "papermill": {
     "duration": 0.048289,
     "end_time": "2022-08-13T17:44:38.906901",
     "exception": false,
     "start_time": "2022-08-13T17:44:38.858612",
     "status": "completed"
    },
    "tags": []
   },
   "source": [
    "__Modify categories of Item_Fat_Content__"
   ]
  },
  {
   "cell_type": "code",
   "execution_count": 80,
   "id": "e804a138",
   "metadata": {
    "execution": {
     "iopub.execute_input": "2022-08-13T17:44:39.006926Z",
     "iopub.status.busy": "2022-08-13T17:44:39.006047Z",
     "iopub.status.idle": "2022-08-13T17:44:39.019929Z",
     "shell.execute_reply": "2022-08-13T17:44:39.018585Z"
    },
    "papermill": {
     "duration": 0.065249,
     "end_time": "2022-08-13T17:44:39.023489",
     "exception": false,
     "start_time": "2022-08-13T17:44:38.958240",
     "status": "completed"
    },
    "tags": []
   },
   "outputs": [
    {
     "data": {
      "text/plain": [
       "Low Fat       3918\n",
       "Regular       3006\n",
       "Non-Edible    1599\n",
       "Name: Item_Fat_Content, dtype: int64"
      ]
     },
     "execution_count": 80,
     "metadata": {},
     "output_type": "execute_result"
    }
   ],
   "source": [
    "train_df.loc[train_df['Item_ID_Type_Combined']==\"Non-Consumable\", \"Item_Fat_Content\"] = \"Non-Edible\"\n",
    "train_df['Item_Fat_Content'].value_counts()"
   ]
  },
  {
   "cell_type": "code",
   "execution_count": 81,
   "id": "5835d609",
   "metadata": {
    "execution": {
     "iopub.execute_input": "2022-08-13T17:44:39.135708Z",
     "iopub.status.busy": "2022-08-13T17:44:39.134206Z",
     "iopub.status.idle": "2022-08-13T17:44:39.150057Z",
     "shell.execute_reply": "2022-08-13T17:44:39.148585Z"
    },
    "papermill": {
     "duration": 0.070032,
     "end_time": "2022-08-13T17:44:39.153071",
     "exception": false,
     "start_time": "2022-08-13T17:44:39.083039",
     "status": "completed"
    },
    "tags": []
   },
   "outputs": [
    {
     "data": {
      "text/plain": [
       "Low Fat       2581\n",
       "Regular       2013\n",
       "Non-Edible    1087\n",
       "Name: Item_Fat_Content, dtype: int64"
      ]
     },
     "execution_count": 81,
     "metadata": {},
     "output_type": "execute_result"
    }
   ],
   "source": [
    "test_df.loc[test_df['Item_ID_Type_Combined']==\"Non-Consumable\", \"Item_Fat_Content\"] = \"Non-Edible\"\n",
    "test_df['Item_Fat_Content'].value_counts()"
   ]
  },
  {
   "cell_type": "markdown",
   "id": "3537b3a9",
   "metadata": {
    "papermill": {
     "duration": 0.045709,
     "end_time": "2022-08-13T17:44:39.246238",
     "exception": false,
     "start_time": "2022-08-13T17:44:39.200529",
     "status": "completed"
    },
    "tags": []
   },
   "source": [
    "### Numerical and One hot encoding of Categorical variables"
   ]
  },
  {
   "cell_type": "code",
   "execution_count": 82,
   "id": "dca5ca29",
   "metadata": {
    "execution": {
     "iopub.execute_input": "2022-08-13T17:44:39.340730Z",
     "iopub.status.busy": "2022-08-13T17:44:39.340301Z",
     "iopub.status.idle": "2022-08-13T17:44:39.355076Z",
     "shell.execute_reply": "2022-08-13T17:44:39.353767Z"
    },
    "papermill": {
     "duration": 0.065933,
     "end_time": "2022-08-13T17:44:39.357866",
     "exception": false,
     "start_time": "2022-08-13T17:44:39.291933",
     "status": "completed"
    },
    "tags": []
   },
   "outputs": [
    {
     "data": {
      "text/plain": [
       "Item_Identifier         1559\n",
       "Item_Fat_Content           5\n",
       "Item_Type                 16\n",
       "Outlet_Identifier         10\n",
       "Outlet_Size                3\n",
       "Outlet_Location_Type       3\n",
       "Outlet_Type                4\n",
       "dtype: int64"
      ]
     },
     "execution_count": 82,
     "metadata": {},
     "output_type": "execute_result"
    }
   ],
   "source": [
    "# Count the number of unique values\n",
    "categorical.apply(lambda x: x.nunique())"
   ]
  },
  {
   "cell_type": "code",
   "execution_count": 83,
   "id": "a10f95fc",
   "metadata": {
    "execution": {
     "iopub.execute_input": "2022-08-13T17:44:39.451802Z",
     "iopub.status.busy": "2022-08-13T17:44:39.451398Z",
     "iopub.status.idle": "2022-08-13T17:44:39.471340Z",
     "shell.execute_reply": "2022-08-13T17:44:39.470290Z"
    },
    "papermill": {
     "duration": 0.069526,
     "end_time": "2022-08-13T17:44:39.473616",
     "exception": false,
     "start_time": "2022-08-13T17:44:39.404090",
     "status": "completed"
    },
    "tags": []
   },
   "outputs": [
    {
     "data": {
      "text/html": [
       "<div>\n",
       "<style scoped>\n",
       "    .dataframe tbody tr th:only-of-type {\n",
       "        vertical-align: middle;\n",
       "    }\n",
       "\n",
       "    .dataframe tbody tr th {\n",
       "        vertical-align: top;\n",
       "    }\n",
       "\n",
       "    .dataframe thead th {\n",
       "        text-align: right;\n",
       "    }\n",
       "</style>\n",
       "<table border=\"1\" class=\"dataframe\">\n",
       "  <thead>\n",
       "    <tr style=\"text-align: right;\">\n",
       "      <th></th>\n",
       "      <th>Item_Identifier</th>\n",
       "      <th>Item_Weight</th>\n",
       "      <th>Item_Fat_Content</th>\n",
       "      <th>Item_Visibility</th>\n",
       "      <th>Item_Type</th>\n",
       "      <th>Item_MRP</th>\n",
       "      <th>Outlet_Identifier</th>\n",
       "      <th>Outlet_Establishment_Year</th>\n",
       "      <th>Outlet_Size</th>\n",
       "      <th>Outlet_Location_Type</th>\n",
       "      <th>Outlet_Type</th>\n",
       "      <th>Item_Outlet_Sales</th>\n",
       "      <th>Outlet_Years</th>\n",
       "      <th>Item_ID_Type_Combined</th>\n",
       "    </tr>\n",
       "  </thead>\n",
       "  <tbody>\n",
       "    <tr>\n",
       "      <th>0</th>\n",
       "      <td>FDA15</td>\n",
       "      <td>9.30</td>\n",
       "      <td>Low Fat</td>\n",
       "      <td>0.016047</td>\n",
       "      <td>Dairy</td>\n",
       "      <td>249.8092</td>\n",
       "      <td>OUT049</td>\n",
       "      <td>1999</td>\n",
       "      <td>Medium</td>\n",
       "      <td>Tier 1</td>\n",
       "      <td>Supermarket Type1</td>\n",
       "      <td>3735.1380</td>\n",
       "      <td>23</td>\n",
       "      <td>Food</td>\n",
       "    </tr>\n",
       "    <tr>\n",
       "      <th>1</th>\n",
       "      <td>DRC01</td>\n",
       "      <td>5.92</td>\n",
       "      <td>Regular</td>\n",
       "      <td>0.019278</td>\n",
       "      <td>Soft Drinks</td>\n",
       "      <td>48.2692</td>\n",
       "      <td>OUT018</td>\n",
       "      <td>2009</td>\n",
       "      <td>Medium</td>\n",
       "      <td>Tier 3</td>\n",
       "      <td>Supermarket Type2</td>\n",
       "      <td>443.4228</td>\n",
       "      <td>13</td>\n",
       "      <td>Drinks</td>\n",
       "    </tr>\n",
       "    <tr>\n",
       "      <th>2</th>\n",
       "      <td>FDN15</td>\n",
       "      <td>17.50</td>\n",
       "      <td>Low Fat</td>\n",
       "      <td>0.016760</td>\n",
       "      <td>Meat</td>\n",
       "      <td>141.6180</td>\n",
       "      <td>OUT049</td>\n",
       "      <td>1999</td>\n",
       "      <td>Medium</td>\n",
       "      <td>Tier 1</td>\n",
       "      <td>Supermarket Type1</td>\n",
       "      <td>2097.2700</td>\n",
       "      <td>23</td>\n",
       "      <td>Food</td>\n",
       "    </tr>\n",
       "    <tr>\n",
       "      <th>3</th>\n",
       "      <td>FDX07</td>\n",
       "      <td>19.20</td>\n",
       "      <td>Regular</td>\n",
       "      <td>0.000000</td>\n",
       "      <td>Fruits and Vegetables</td>\n",
       "      <td>182.0950</td>\n",
       "      <td>OUT010</td>\n",
       "      <td>1998</td>\n",
       "      <td>Medium</td>\n",
       "      <td>Tier 3</td>\n",
       "      <td>Grocery Store</td>\n",
       "      <td>732.3800</td>\n",
       "      <td>24</td>\n",
       "      <td>Food</td>\n",
       "    </tr>\n",
       "    <tr>\n",
       "      <th>4</th>\n",
       "      <td>NCD19</td>\n",
       "      <td>8.93</td>\n",
       "      <td>Non-Edible</td>\n",
       "      <td>0.000000</td>\n",
       "      <td>Household</td>\n",
       "      <td>53.8614</td>\n",
       "      <td>OUT013</td>\n",
       "      <td>1987</td>\n",
       "      <td>High</td>\n",
       "      <td>Tier 3</td>\n",
       "      <td>Supermarket Type1</td>\n",
       "      <td>994.7052</td>\n",
       "      <td>35</td>\n",
       "      <td>Non-Consumable</td>\n",
       "    </tr>\n",
       "  </tbody>\n",
       "</table>\n",
       "</div>"
      ],
      "text/plain": [
       "  Item_Identifier  Item_Weight Item_Fat_Content  Item_Visibility  \\\n",
       "0           FDA15         9.30          Low Fat         0.016047   \n",
       "1           DRC01         5.92          Regular         0.019278   \n",
       "2           FDN15        17.50          Low Fat         0.016760   \n",
       "3           FDX07        19.20          Regular         0.000000   \n",
       "4           NCD19         8.93       Non-Edible         0.000000   \n",
       "\n",
       "               Item_Type  Item_MRP Outlet_Identifier  \\\n",
       "0                  Dairy  249.8092            OUT049   \n",
       "1            Soft Drinks   48.2692            OUT018   \n",
       "2                   Meat  141.6180            OUT049   \n",
       "3  Fruits and Vegetables  182.0950            OUT010   \n",
       "4              Household   53.8614            OUT013   \n",
       "\n",
       "   Outlet_Establishment_Year Outlet_Size Outlet_Location_Type  \\\n",
       "0                       1999      Medium               Tier 1   \n",
       "1                       2009      Medium               Tier 3   \n",
       "2                       1999      Medium               Tier 1   \n",
       "3                       1998      Medium               Tier 3   \n",
       "4                       1987        High               Tier 3   \n",
       "\n",
       "         Outlet_Type  Item_Outlet_Sales  Outlet_Years Item_ID_Type_Combined  \n",
       "0  Supermarket Type1          3735.1380            23                  Food  \n",
       "1  Supermarket Type2           443.4228            13                Drinks  \n",
       "2  Supermarket Type1          2097.2700            23                  Food  \n",
       "3      Grocery Store           732.3800            24                  Food  \n",
       "4  Supermarket Type1           994.7052            35        Non-Consumable  "
      ]
     },
     "execution_count": 83,
     "metadata": {},
     "output_type": "execute_result"
    }
   ],
   "source": [
    "train_df.head()"
   ]
  },
  {
   "cell_type": "code",
   "execution_count": 84,
   "id": "63386f07",
   "metadata": {
    "execution": {
     "iopub.execute_input": "2022-08-13T17:44:39.566657Z",
     "iopub.status.busy": "2022-08-13T17:44:39.565775Z",
     "iopub.status.idle": "2022-08-13T17:44:39.588418Z",
     "shell.execute_reply": "2022-08-13T17:44:39.586971Z"
    },
    "papermill": {
     "duration": 0.072275,
     "end_time": "2022-08-13T17:44:39.591181",
     "exception": false,
     "start_time": "2022-08-13T17:44:39.518906",
     "status": "completed"
    },
    "tags": []
   },
   "outputs": [
    {
     "data": {
      "text/html": [
       "<div>\n",
       "<style scoped>\n",
       "    .dataframe tbody tr th:only-of-type {\n",
       "        vertical-align: middle;\n",
       "    }\n",
       "\n",
       "    .dataframe tbody tr th {\n",
       "        vertical-align: top;\n",
       "    }\n",
       "\n",
       "    .dataframe thead th {\n",
       "        text-align: right;\n",
       "    }\n",
       "</style>\n",
       "<table border=\"1\" class=\"dataframe\">\n",
       "  <thead>\n",
       "    <tr style=\"text-align: right;\">\n",
       "      <th></th>\n",
       "      <th>Item_Identifier</th>\n",
       "      <th>Item_Weight</th>\n",
       "      <th>Item_Fat_Content</th>\n",
       "      <th>Item_Visibility</th>\n",
       "      <th>Item_Type</th>\n",
       "      <th>Item_MRP</th>\n",
       "      <th>Outlet_Identifier</th>\n",
       "      <th>Outlet_Establishment_Year</th>\n",
       "      <th>Outlet_Size</th>\n",
       "      <th>Outlet_Location_Type</th>\n",
       "      <th>Outlet_Type</th>\n",
       "      <th>Outlet_Years</th>\n",
       "      <th>Item_ID_Type_Combined</th>\n",
       "    </tr>\n",
       "  </thead>\n",
       "  <tbody>\n",
       "    <tr>\n",
       "      <th>0</th>\n",
       "      <td>FDW58</td>\n",
       "      <td>20.750000</td>\n",
       "      <td>Low Fat</td>\n",
       "      <td>0.007565</td>\n",
       "      <td>Snack Foods</td>\n",
       "      <td>107.8622</td>\n",
       "      <td>OUT049</td>\n",
       "      <td>1999</td>\n",
       "      <td>Medium</td>\n",
       "      <td>Tier 1</td>\n",
       "      <td>Supermarket Type1</td>\n",
       "      <td>23</td>\n",
       "      <td>Food</td>\n",
       "    </tr>\n",
       "    <tr>\n",
       "      <th>1</th>\n",
       "      <td>FDW14</td>\n",
       "      <td>8.300000</td>\n",
       "      <td>Regular</td>\n",
       "      <td>0.038428</td>\n",
       "      <td>Dairy</td>\n",
       "      <td>87.3198</td>\n",
       "      <td>OUT017</td>\n",
       "      <td>2007</td>\n",
       "      <td>Medium</td>\n",
       "      <td>Tier 2</td>\n",
       "      <td>Supermarket Type1</td>\n",
       "      <td>13</td>\n",
       "      <td>Food</td>\n",
       "    </tr>\n",
       "    <tr>\n",
       "      <th>2</th>\n",
       "      <td>NCN55</td>\n",
       "      <td>14.600000</td>\n",
       "      <td>Non-Edible</td>\n",
       "      <td>0.099575</td>\n",
       "      <td>Others</td>\n",
       "      <td>241.7538</td>\n",
       "      <td>OUT010</td>\n",
       "      <td>1998</td>\n",
       "      <td>Medium</td>\n",
       "      <td>Tier 3</td>\n",
       "      <td>Grocery Store</td>\n",
       "      <td>23</td>\n",
       "      <td>Non-Consumable</td>\n",
       "    </tr>\n",
       "    <tr>\n",
       "      <th>3</th>\n",
       "      <td>FDQ58</td>\n",
       "      <td>7.315000</td>\n",
       "      <td>Low Fat</td>\n",
       "      <td>0.015388</td>\n",
       "      <td>Snack Foods</td>\n",
       "      <td>155.0340</td>\n",
       "      <td>OUT017</td>\n",
       "      <td>2007</td>\n",
       "      <td>Medium</td>\n",
       "      <td>Tier 2</td>\n",
       "      <td>Supermarket Type1</td>\n",
       "      <td>24</td>\n",
       "      <td>Food</td>\n",
       "    </tr>\n",
       "    <tr>\n",
       "      <th>4</th>\n",
       "      <td>FDY38</td>\n",
       "      <td>12.695633</td>\n",
       "      <td>Regular</td>\n",
       "      <td>0.118599</td>\n",
       "      <td>Dairy</td>\n",
       "      <td>234.2300</td>\n",
       "      <td>OUT027</td>\n",
       "      <td>1985</td>\n",
       "      <td>Medium</td>\n",
       "      <td>Tier 3</td>\n",
       "      <td>Supermarket Type3</td>\n",
       "      <td>35</td>\n",
       "      <td>Food</td>\n",
       "    </tr>\n",
       "  </tbody>\n",
       "</table>\n",
       "</div>"
      ],
      "text/plain": [
       "  Item_Identifier  Item_Weight Item_Fat_Content  Item_Visibility    Item_Type  \\\n",
       "0           FDW58    20.750000          Low Fat         0.007565  Snack Foods   \n",
       "1           FDW14     8.300000          Regular         0.038428        Dairy   \n",
       "2           NCN55    14.600000       Non-Edible         0.099575       Others   \n",
       "3           FDQ58     7.315000          Low Fat         0.015388  Snack Foods   \n",
       "4           FDY38    12.695633          Regular         0.118599        Dairy   \n",
       "\n",
       "   Item_MRP Outlet_Identifier  Outlet_Establishment_Year Outlet_Size  \\\n",
       "0  107.8622            OUT049                       1999      Medium   \n",
       "1   87.3198            OUT017                       2007      Medium   \n",
       "2  241.7538            OUT010                       1998      Medium   \n",
       "3  155.0340            OUT017                       2007      Medium   \n",
       "4  234.2300            OUT027                       1985      Medium   \n",
       "\n",
       "  Outlet_Location_Type        Outlet_Type  Outlet_Years Item_ID_Type_Combined  \n",
       "0               Tier 1  Supermarket Type1            23                  Food  \n",
       "1               Tier 2  Supermarket Type1            13                  Food  \n",
       "2               Tier 3      Grocery Store            23        Non-Consumable  \n",
       "3               Tier 2  Supermarket Type1            24                  Food  \n",
       "4               Tier 3  Supermarket Type3            35                  Food  "
      ]
     },
     "execution_count": 84,
     "metadata": {},
     "output_type": "execute_result"
    }
   ],
   "source": [
    "test_df.head()"
   ]
  },
  {
   "cell_type": "code",
   "execution_count": 85,
   "id": "dd88b137",
   "metadata": {
    "execution": {
     "iopub.execute_input": "2022-08-13T17:44:39.685582Z",
     "iopub.status.busy": "2022-08-13T17:44:39.684741Z",
     "iopub.status.idle": "2022-08-13T17:44:39.717753Z",
     "shell.execute_reply": "2022-08-13T17:44:39.716795Z"
    },
    "papermill": {
     "duration": 0.082697,
     "end_time": "2022-08-13T17:44:39.720370",
     "exception": false,
     "start_time": "2022-08-13T17:44:39.637673",
     "status": "completed"
    },
    "tags": []
   },
   "outputs": [],
   "source": [
    "le = LabelEncoder()\n",
    "\n",
    "var_mod = ['Item_Fat_Content','Outlet_Location_Type','Outlet_Size','Item_ID_Type_Combined','Outlet_Type','Outlet_Identifier']\n",
    "for i in var_mod:\n",
    "    train_df[i] = le.fit_transform(train_df[i])\n",
    "    test_df[i] = le.fit_transform(test_df[i])"
   ]
  },
  {
   "cell_type": "code",
   "execution_count": 86,
   "id": "03f475f6",
   "metadata": {
    "execution": {
     "iopub.execute_input": "2022-08-13T17:44:39.813719Z",
     "iopub.status.busy": "2022-08-13T17:44:39.812807Z",
     "iopub.status.idle": "2022-08-13T17:44:39.820320Z",
     "shell.execute_reply": "2022-08-13T17:44:39.819309Z"
    },
    "papermill": {
     "duration": 0.056577,
     "end_time": "2022-08-13T17:44:39.822517",
     "exception": false,
     "start_time": "2022-08-13T17:44:39.765940",
     "status": "completed"
    },
    "tags": []
   },
   "outputs": [
    {
     "data": {
      "text/plain": [
       "(8523, 14)"
      ]
     },
     "execution_count": 86,
     "metadata": {},
     "output_type": "execute_result"
    }
   ],
   "source": [
    "train_df.shape"
   ]
  },
  {
   "cell_type": "code",
   "execution_count": 87,
   "id": "6bae8d9b",
   "metadata": {
    "execution": {
     "iopub.execute_input": "2022-08-13T17:44:39.916053Z",
     "iopub.status.busy": "2022-08-13T17:44:39.915014Z",
     "iopub.status.idle": "2022-08-13T17:44:39.932919Z",
     "shell.execute_reply": "2022-08-13T17:44:39.931760Z"
    },
    "papermill": {
     "duration": 0.067233,
     "end_time": "2022-08-13T17:44:39.935195",
     "exception": false,
     "start_time": "2022-08-13T17:44:39.867962",
     "status": "completed"
    },
    "tags": []
   },
   "outputs": [
    {
     "data": {
      "text/html": [
       "<div>\n",
       "<style scoped>\n",
       "    .dataframe tbody tr th:only-of-type {\n",
       "        vertical-align: middle;\n",
       "    }\n",
       "\n",
       "    .dataframe tbody tr th {\n",
       "        vertical-align: top;\n",
       "    }\n",
       "\n",
       "    .dataframe thead th {\n",
       "        text-align: right;\n",
       "    }\n",
       "</style>\n",
       "<table border=\"1\" class=\"dataframe\">\n",
       "  <thead>\n",
       "    <tr style=\"text-align: right;\">\n",
       "      <th></th>\n",
       "      <th>Item_Identifier</th>\n",
       "      <th>Item_Weight</th>\n",
       "      <th>Item_Fat_Content</th>\n",
       "      <th>Item_Visibility</th>\n",
       "      <th>Item_Type</th>\n",
       "      <th>Item_MRP</th>\n",
       "      <th>Outlet_Identifier</th>\n",
       "      <th>Outlet_Establishment_Year</th>\n",
       "      <th>Outlet_Size</th>\n",
       "      <th>Outlet_Location_Type</th>\n",
       "      <th>Outlet_Type</th>\n",
       "      <th>Item_Outlet_Sales</th>\n",
       "      <th>Outlet_Years</th>\n",
       "      <th>Item_ID_Type_Combined</th>\n",
       "    </tr>\n",
       "  </thead>\n",
       "  <tbody>\n",
       "    <tr>\n",
       "      <th>0</th>\n",
       "      <td>FDA15</td>\n",
       "      <td>9.30</td>\n",
       "      <td>0</td>\n",
       "      <td>0.016047</td>\n",
       "      <td>Dairy</td>\n",
       "      <td>249.8092</td>\n",
       "      <td>9</td>\n",
       "      <td>1999</td>\n",
       "      <td>1</td>\n",
       "      <td>0</td>\n",
       "      <td>1</td>\n",
       "      <td>3735.1380</td>\n",
       "      <td>23</td>\n",
       "      <td>1</td>\n",
       "    </tr>\n",
       "    <tr>\n",
       "      <th>1</th>\n",
       "      <td>DRC01</td>\n",
       "      <td>5.92</td>\n",
       "      <td>2</td>\n",
       "      <td>0.019278</td>\n",
       "      <td>Soft Drinks</td>\n",
       "      <td>48.2692</td>\n",
       "      <td>3</td>\n",
       "      <td>2009</td>\n",
       "      <td>1</td>\n",
       "      <td>2</td>\n",
       "      <td>2</td>\n",
       "      <td>443.4228</td>\n",
       "      <td>13</td>\n",
       "      <td>0</td>\n",
       "    </tr>\n",
       "    <tr>\n",
       "      <th>2</th>\n",
       "      <td>FDN15</td>\n",
       "      <td>17.50</td>\n",
       "      <td>0</td>\n",
       "      <td>0.016760</td>\n",
       "      <td>Meat</td>\n",
       "      <td>141.6180</td>\n",
       "      <td>9</td>\n",
       "      <td>1999</td>\n",
       "      <td>1</td>\n",
       "      <td>0</td>\n",
       "      <td>1</td>\n",
       "      <td>2097.2700</td>\n",
       "      <td>23</td>\n",
       "      <td>1</td>\n",
       "    </tr>\n",
       "    <tr>\n",
       "      <th>3</th>\n",
       "      <td>FDX07</td>\n",
       "      <td>19.20</td>\n",
       "      <td>2</td>\n",
       "      <td>0.000000</td>\n",
       "      <td>Fruits and Vegetables</td>\n",
       "      <td>182.0950</td>\n",
       "      <td>0</td>\n",
       "      <td>1998</td>\n",
       "      <td>1</td>\n",
       "      <td>2</td>\n",
       "      <td>0</td>\n",
       "      <td>732.3800</td>\n",
       "      <td>24</td>\n",
       "      <td>1</td>\n",
       "    </tr>\n",
       "    <tr>\n",
       "      <th>4</th>\n",
       "      <td>NCD19</td>\n",
       "      <td>8.93</td>\n",
       "      <td>1</td>\n",
       "      <td>0.000000</td>\n",
       "      <td>Household</td>\n",
       "      <td>53.8614</td>\n",
       "      <td>1</td>\n",
       "      <td>1987</td>\n",
       "      <td>0</td>\n",
       "      <td>2</td>\n",
       "      <td>1</td>\n",
       "      <td>994.7052</td>\n",
       "      <td>35</td>\n",
       "      <td>2</td>\n",
       "    </tr>\n",
       "  </tbody>\n",
       "</table>\n",
       "</div>"
      ],
      "text/plain": [
       "  Item_Identifier  Item_Weight  Item_Fat_Content  Item_Visibility  \\\n",
       "0           FDA15         9.30                 0         0.016047   \n",
       "1           DRC01         5.92                 2         0.019278   \n",
       "2           FDN15        17.50                 0         0.016760   \n",
       "3           FDX07        19.20                 2         0.000000   \n",
       "4           NCD19         8.93                 1         0.000000   \n",
       "\n",
       "               Item_Type  Item_MRP  Outlet_Identifier  \\\n",
       "0                  Dairy  249.8092                  9   \n",
       "1            Soft Drinks   48.2692                  3   \n",
       "2                   Meat  141.6180                  9   \n",
       "3  Fruits and Vegetables  182.0950                  0   \n",
       "4              Household   53.8614                  1   \n",
       "\n",
       "   Outlet_Establishment_Year  Outlet_Size  Outlet_Location_Type  Outlet_Type  \\\n",
       "0                       1999            1                     0            1   \n",
       "1                       2009            1                     2            2   \n",
       "2                       1999            1                     0            1   \n",
       "3                       1998            1                     2            0   \n",
       "4                       1987            0                     2            1   \n",
       "\n",
       "   Item_Outlet_Sales  Outlet_Years  Item_ID_Type_Combined  \n",
       "0          3735.1380            23                      1  \n",
       "1           443.4228            13                      0  \n",
       "2          2097.2700            23                      1  \n",
       "3           732.3800            24                      1  \n",
       "4           994.7052            35                      2  "
      ]
     },
     "execution_count": 87,
     "metadata": {},
     "output_type": "execute_result"
    }
   ],
   "source": [
    "train_df.head()"
   ]
  },
  {
   "cell_type": "code",
   "execution_count": 88,
   "id": "6f78bbf6",
   "metadata": {
    "execution": {
     "iopub.execute_input": "2022-08-13T17:44:40.030116Z",
     "iopub.status.busy": "2022-08-13T17:44:40.029079Z",
     "iopub.status.idle": "2022-08-13T17:44:40.036430Z",
     "shell.execute_reply": "2022-08-13T17:44:40.035527Z"
    },
    "papermill": {
     "duration": 0.057701,
     "end_time": "2022-08-13T17:44:40.038678",
     "exception": false,
     "start_time": "2022-08-13T17:44:39.980977",
     "status": "completed"
    },
    "tags": []
   },
   "outputs": [
    {
     "data": {
      "text/plain": [
       "['Item_Identifier',\n",
       " 'Item_Fat_Content',\n",
       " 'Item_Type',\n",
       " 'Outlet_Identifier',\n",
       " 'Outlet_Size',\n",
       " 'Outlet_Location_Type',\n",
       " 'Outlet_Type']"
      ]
     },
     "execution_count": 88,
     "metadata": {},
     "output_type": "execute_result"
    }
   ],
   "source": [
    "categorical.columns.to_list()"
   ]
  },
  {
   "cell_type": "code",
   "execution_count": 89,
   "id": "bbf63514",
   "metadata": {
    "execution": {
     "iopub.execute_input": "2022-08-13T17:44:40.134305Z",
     "iopub.status.busy": "2022-08-13T17:44:40.133474Z",
     "iopub.status.idle": "2022-08-13T17:44:40.151644Z",
     "shell.execute_reply": "2022-08-13T17:44:40.150299Z"
    },
    "papermill": {
     "duration": 0.068776,
     "end_time": "2022-08-13T17:44:40.154188",
     "exception": false,
     "start_time": "2022-08-13T17:44:40.085412",
     "status": "completed"
    },
    "tags": []
   },
   "outputs": [],
   "source": [
    "# One Hot Encoding\n",
    "train_df = pd.get_dummies(train_df, columns=categorical.columns.to_list()[1:])"
   ]
  },
  {
   "cell_type": "code",
   "execution_count": 90,
   "id": "58abb18d",
   "metadata": {
    "execution": {
     "iopub.execute_input": "2022-08-13T17:44:40.251067Z",
     "iopub.status.busy": "2022-08-13T17:44:40.249774Z",
     "iopub.status.idle": "2022-08-13T17:44:40.255787Z",
     "shell.execute_reply": "2022-08-13T17:44:40.254698Z"
    },
    "papermill": {
     "duration": 0.057558,
     "end_time": "2022-08-13T17:44:40.258536",
     "exception": false,
     "start_time": "2022-08-13T17:44:40.200978",
     "status": "completed"
    },
    "tags": []
   },
   "outputs": [
    {
     "name": "stdout",
     "output_type": "stream",
     "text": [
      "(8523, 47)\n"
     ]
    }
   ],
   "source": [
    "print(train_df.shape)\n",
    "# print(train_df.columns)"
   ]
  },
  {
   "cell_type": "code",
   "execution_count": 91,
   "id": "63e4c958",
   "metadata": {
    "execution": {
     "iopub.execute_input": "2022-08-13T17:44:40.355552Z",
     "iopub.status.busy": "2022-08-13T17:44:40.354867Z",
     "iopub.status.idle": "2022-08-13T17:44:40.361424Z",
     "shell.execute_reply": "2022-08-13T17:44:40.360522Z"
    },
    "papermill": {
     "duration": 0.057915,
     "end_time": "2022-08-13T17:44:40.363359",
     "exception": false,
     "start_time": "2022-08-13T17:44:40.305444",
     "status": "completed"
    },
    "tags": []
   },
   "outputs": [
    {
     "data": {
      "text/plain": [
       "['Item_Identifier',\n",
       " 'Item_Fat_Content',\n",
       " 'Item_Type',\n",
       " 'Outlet_Identifier',\n",
       " 'Outlet_Size',\n",
       " 'Outlet_Location_Type',\n",
       " 'Outlet_Type']"
      ]
     },
     "execution_count": 91,
     "metadata": {},
     "output_type": "execute_result"
    }
   ],
   "source": [
    "cat_test.columns.to_list()"
   ]
  },
  {
   "cell_type": "code",
   "execution_count": 92,
   "id": "a9821a88",
   "metadata": {
    "execution": {
     "iopub.execute_input": "2022-08-13T17:44:40.458328Z",
     "iopub.status.busy": "2022-08-13T17:44:40.457574Z",
     "iopub.status.idle": "2022-08-13T17:44:40.471853Z",
     "shell.execute_reply": "2022-08-13T17:44:40.470562Z"
    },
    "papermill": {
     "duration": 0.06488,
     "end_time": "2022-08-13T17:44:40.474313",
     "exception": false,
     "start_time": "2022-08-13T17:44:40.409433",
     "status": "completed"
    },
    "tags": []
   },
   "outputs": [],
   "source": [
    "test_df = pd.get_dummies(test_df, columns=cat_test.columns.to_list()[1:])"
   ]
  },
  {
   "cell_type": "code",
   "execution_count": 93,
   "id": "2f535dad",
   "metadata": {
    "execution": {
     "iopub.execute_input": "2022-08-13T17:44:40.568668Z",
     "iopub.status.busy": "2022-08-13T17:44:40.567920Z",
     "iopub.status.idle": "2022-08-13T17:44:40.573559Z",
     "shell.execute_reply": "2022-08-13T17:44:40.572191Z"
    },
    "papermill": {
     "duration": 0.055609,
     "end_time": "2022-08-13T17:44:40.575764",
     "exception": false,
     "start_time": "2022-08-13T17:44:40.520155",
     "status": "completed"
    },
    "tags": []
   },
   "outputs": [
    {
     "name": "stdout",
     "output_type": "stream",
     "text": [
      "(5681, 46)\n"
     ]
    }
   ],
   "source": [
    "print(test_df.shape)\n",
    "# print(train_df.columns)"
   ]
  },
  {
   "cell_type": "markdown",
   "id": "fcffe489",
   "metadata": {
    "papermill": {
     "duration": 0.046655,
     "end_time": "2022-08-13T17:44:40.669598",
     "exception": false,
     "start_time": "2022-08-13T17:44:40.622943",
     "status": "completed"
    },
    "tags": []
   },
   "source": [
    "## 6. Machine Learning Model"
   ]
  },
  {
   "cell_type": "code",
   "execution_count": 94,
   "id": "b5dbbc83",
   "metadata": {
    "execution": {
     "iopub.execute_input": "2022-08-13T17:44:40.766544Z",
     "iopub.status.busy": "2022-08-13T17:44:40.765791Z",
     "iopub.status.idle": "2022-08-13T17:44:40.789719Z",
     "shell.execute_reply": "2022-08-13T17:44:40.788557Z"
    },
    "papermill": {
     "duration": 0.074811,
     "end_time": "2022-08-13T17:44:40.791995",
     "exception": false,
     "start_time": "2022-08-13T17:44:40.717184",
     "status": "completed"
    },
    "tags": []
   },
   "outputs": [
    {
     "data": {
      "text/html": [
       "<div>\n",
       "<style scoped>\n",
       "    .dataframe tbody tr th:only-of-type {\n",
       "        vertical-align: middle;\n",
       "    }\n",
       "\n",
       "    .dataframe tbody tr th {\n",
       "        vertical-align: top;\n",
       "    }\n",
       "\n",
       "    .dataframe thead th {\n",
       "        text-align: right;\n",
       "    }\n",
       "</style>\n",
       "<table border=\"1\" class=\"dataframe\">\n",
       "  <thead>\n",
       "    <tr style=\"text-align: right;\">\n",
       "      <th></th>\n",
       "      <th>Item_Weight</th>\n",
       "      <th>Item_Visibility</th>\n",
       "      <th>Item_MRP</th>\n",
       "      <th>Outlet_Establishment_Year</th>\n",
       "      <th>Item_Outlet_Sales</th>\n",
       "      <th>Outlet_Years</th>\n",
       "      <th>Item_ID_Type_Combined</th>\n",
       "      <th>Item_Fat_Content_0</th>\n",
       "      <th>Item_Fat_Content_1</th>\n",
       "      <th>Item_Fat_Content_2</th>\n",
       "      <th>...</th>\n",
       "      <th>Outlet_Size_0</th>\n",
       "      <th>Outlet_Size_1</th>\n",
       "      <th>Outlet_Size_2</th>\n",
       "      <th>Outlet_Location_Type_0</th>\n",
       "      <th>Outlet_Location_Type_1</th>\n",
       "      <th>Outlet_Location_Type_2</th>\n",
       "      <th>Outlet_Type_0</th>\n",
       "      <th>Outlet_Type_1</th>\n",
       "      <th>Outlet_Type_2</th>\n",
       "      <th>Outlet_Type_3</th>\n",
       "    </tr>\n",
       "  </thead>\n",
       "  <tbody>\n",
       "    <tr>\n",
       "      <th>0</th>\n",
       "      <td>9.30</td>\n",
       "      <td>0.016047</td>\n",
       "      <td>249.8092</td>\n",
       "      <td>1999</td>\n",
       "      <td>3735.1380</td>\n",
       "      <td>23</td>\n",
       "      <td>1</td>\n",
       "      <td>1</td>\n",
       "      <td>0</td>\n",
       "      <td>0</td>\n",
       "      <td>...</td>\n",
       "      <td>0</td>\n",
       "      <td>1</td>\n",
       "      <td>0</td>\n",
       "      <td>1</td>\n",
       "      <td>0</td>\n",
       "      <td>0</td>\n",
       "      <td>0</td>\n",
       "      <td>1</td>\n",
       "      <td>0</td>\n",
       "      <td>0</td>\n",
       "    </tr>\n",
       "    <tr>\n",
       "      <th>1</th>\n",
       "      <td>5.92</td>\n",
       "      <td>0.019278</td>\n",
       "      <td>48.2692</td>\n",
       "      <td>2009</td>\n",
       "      <td>443.4228</td>\n",
       "      <td>13</td>\n",
       "      <td>0</td>\n",
       "      <td>0</td>\n",
       "      <td>0</td>\n",
       "      <td>1</td>\n",
       "      <td>...</td>\n",
       "      <td>0</td>\n",
       "      <td>1</td>\n",
       "      <td>0</td>\n",
       "      <td>0</td>\n",
       "      <td>0</td>\n",
       "      <td>1</td>\n",
       "      <td>0</td>\n",
       "      <td>0</td>\n",
       "      <td>1</td>\n",
       "      <td>0</td>\n",
       "    </tr>\n",
       "    <tr>\n",
       "      <th>2</th>\n",
       "      <td>17.50</td>\n",
       "      <td>0.016760</td>\n",
       "      <td>141.6180</td>\n",
       "      <td>1999</td>\n",
       "      <td>2097.2700</td>\n",
       "      <td>23</td>\n",
       "      <td>1</td>\n",
       "      <td>1</td>\n",
       "      <td>0</td>\n",
       "      <td>0</td>\n",
       "      <td>...</td>\n",
       "      <td>0</td>\n",
       "      <td>1</td>\n",
       "      <td>0</td>\n",
       "      <td>1</td>\n",
       "      <td>0</td>\n",
       "      <td>0</td>\n",
       "      <td>0</td>\n",
       "      <td>1</td>\n",
       "      <td>0</td>\n",
       "      <td>0</td>\n",
       "    </tr>\n",
       "    <tr>\n",
       "      <th>3</th>\n",
       "      <td>19.20</td>\n",
       "      <td>0.000000</td>\n",
       "      <td>182.0950</td>\n",
       "      <td>1998</td>\n",
       "      <td>732.3800</td>\n",
       "      <td>24</td>\n",
       "      <td>1</td>\n",
       "      <td>0</td>\n",
       "      <td>0</td>\n",
       "      <td>1</td>\n",
       "      <td>...</td>\n",
       "      <td>0</td>\n",
       "      <td>1</td>\n",
       "      <td>0</td>\n",
       "      <td>0</td>\n",
       "      <td>0</td>\n",
       "      <td>1</td>\n",
       "      <td>1</td>\n",
       "      <td>0</td>\n",
       "      <td>0</td>\n",
       "      <td>0</td>\n",
       "    </tr>\n",
       "    <tr>\n",
       "      <th>4</th>\n",
       "      <td>8.93</td>\n",
       "      <td>0.000000</td>\n",
       "      <td>53.8614</td>\n",
       "      <td>1987</td>\n",
       "      <td>994.7052</td>\n",
       "      <td>35</td>\n",
       "      <td>2</td>\n",
       "      <td>0</td>\n",
       "      <td>1</td>\n",
       "      <td>0</td>\n",
       "      <td>...</td>\n",
       "      <td>1</td>\n",
       "      <td>0</td>\n",
       "      <td>0</td>\n",
       "      <td>0</td>\n",
       "      <td>0</td>\n",
       "      <td>1</td>\n",
       "      <td>0</td>\n",
       "      <td>1</td>\n",
       "      <td>0</td>\n",
       "      <td>0</td>\n",
       "    </tr>\n",
       "  </tbody>\n",
       "</table>\n",
       "<p>5 rows × 46 columns</p>\n",
       "</div>"
      ],
      "text/plain": [
       "   Item_Weight  Item_Visibility  Item_MRP  Outlet_Establishment_Year  \\\n",
       "0         9.30         0.016047  249.8092                       1999   \n",
       "1         5.92         0.019278   48.2692                       2009   \n",
       "2        17.50         0.016760  141.6180                       1999   \n",
       "3        19.20         0.000000  182.0950                       1998   \n",
       "4         8.93         0.000000   53.8614                       1987   \n",
       "\n",
       "   Item_Outlet_Sales  Outlet_Years  Item_ID_Type_Combined  Item_Fat_Content_0  \\\n",
       "0          3735.1380            23                      1                   1   \n",
       "1           443.4228            13                      0                   0   \n",
       "2          2097.2700            23                      1                   1   \n",
       "3           732.3800            24                      1                   0   \n",
       "4           994.7052            35                      2                   0   \n",
       "\n",
       "   Item_Fat_Content_1  Item_Fat_Content_2  ...  Outlet_Size_0  Outlet_Size_1  \\\n",
       "0                   0                   0  ...              0              1   \n",
       "1                   0                   1  ...              0              1   \n",
       "2                   0                   0  ...              0              1   \n",
       "3                   0                   1  ...              0              1   \n",
       "4                   1                   0  ...              1              0   \n",
       "\n",
       "   Outlet_Size_2  Outlet_Location_Type_0  Outlet_Location_Type_1  \\\n",
       "0              0                       1                       0   \n",
       "1              0                       0                       0   \n",
       "2              0                       1                       0   \n",
       "3              0                       0                       0   \n",
       "4              0                       0                       0   \n",
       "\n",
       "   Outlet_Location_Type_2  Outlet_Type_0  Outlet_Type_1  Outlet_Type_2  \\\n",
       "0                       0              0              1              0   \n",
       "1                       1              0              0              1   \n",
       "2                       0              0              1              0   \n",
       "3                       1              1              0              0   \n",
       "4                       1              0              1              0   \n",
       "\n",
       "   Outlet_Type_3  \n",
       "0              0  \n",
       "1              0  \n",
       "2              0  \n",
       "3              0  \n",
       "4              0  \n",
       "\n",
       "[5 rows x 46 columns]"
      ]
     },
     "execution_count": 94,
     "metadata": {},
     "output_type": "execute_result"
    }
   ],
   "source": [
    "train_df = train_df.select_dtypes(exclude='object')\n",
    "train_df.head()"
   ]
  },
  {
   "cell_type": "code",
   "execution_count": 95,
   "id": "7ac51ab2",
   "metadata": {
    "execution": {
     "iopub.execute_input": "2022-08-13T17:44:40.889404Z",
     "iopub.status.busy": "2022-08-13T17:44:40.888598Z",
     "iopub.status.idle": "2022-08-13T17:44:40.894978Z",
     "shell.execute_reply": "2022-08-13T17:44:40.893761Z"
    },
    "papermill": {
     "duration": 0.057596,
     "end_time": "2022-08-13T17:44:40.897455",
     "exception": false,
     "start_time": "2022-08-13T17:44:40.839859",
     "status": "completed"
    },
    "tags": []
   },
   "outputs": [
    {
     "data": {
      "text/plain": [
       "(8523, 46)"
      ]
     },
     "execution_count": 95,
     "metadata": {},
     "output_type": "execute_result"
    }
   ],
   "source": [
    "train_df.shape"
   ]
  },
  {
   "cell_type": "code",
   "execution_count": 96,
   "id": "d6bacaca",
   "metadata": {
    "execution": {
     "iopub.execute_input": "2022-08-13T17:44:40.994672Z",
     "iopub.status.busy": "2022-08-13T17:44:40.994281Z",
     "iopub.status.idle": "2022-08-13T17:44:41.015151Z",
     "shell.execute_reply": "2022-08-13T17:44:41.014387Z"
    },
    "papermill": {
     "duration": 0.072323,
     "end_time": "2022-08-13T17:44:41.017344",
     "exception": false,
     "start_time": "2022-08-13T17:44:40.945021",
     "status": "completed"
    },
    "tags": []
   },
   "outputs": [
    {
     "data": {
      "text/html": [
       "<div>\n",
       "<style scoped>\n",
       "    .dataframe tbody tr th:only-of-type {\n",
       "        vertical-align: middle;\n",
       "    }\n",
       "\n",
       "    .dataframe tbody tr th {\n",
       "        vertical-align: top;\n",
       "    }\n",
       "\n",
       "    .dataframe thead th {\n",
       "        text-align: right;\n",
       "    }\n",
       "</style>\n",
       "<table border=\"1\" class=\"dataframe\">\n",
       "  <thead>\n",
       "    <tr style=\"text-align: right;\">\n",
       "      <th></th>\n",
       "      <th>Item_Weight</th>\n",
       "      <th>Item_Visibility</th>\n",
       "      <th>Item_MRP</th>\n",
       "      <th>Outlet_Establishment_Year</th>\n",
       "      <th>Outlet_Years</th>\n",
       "      <th>Item_ID_Type_Combined</th>\n",
       "      <th>Item_Fat_Content_0</th>\n",
       "      <th>Item_Fat_Content_1</th>\n",
       "      <th>Item_Fat_Content_2</th>\n",
       "      <th>Item_Type_Baking Goods</th>\n",
       "      <th>...</th>\n",
       "      <th>Outlet_Size_0</th>\n",
       "      <th>Outlet_Size_1</th>\n",
       "      <th>Outlet_Size_2</th>\n",
       "      <th>Outlet_Location_Type_0</th>\n",
       "      <th>Outlet_Location_Type_1</th>\n",
       "      <th>Outlet_Location_Type_2</th>\n",
       "      <th>Outlet_Type_0</th>\n",
       "      <th>Outlet_Type_1</th>\n",
       "      <th>Outlet_Type_2</th>\n",
       "      <th>Outlet_Type_3</th>\n",
       "    </tr>\n",
       "  </thead>\n",
       "  <tbody>\n",
       "    <tr>\n",
       "      <th>0</th>\n",
       "      <td>20.750000</td>\n",
       "      <td>0.007565</td>\n",
       "      <td>107.8622</td>\n",
       "      <td>1999</td>\n",
       "      <td>23</td>\n",
       "      <td>1</td>\n",
       "      <td>1</td>\n",
       "      <td>0</td>\n",
       "      <td>0</td>\n",
       "      <td>0</td>\n",
       "      <td>...</td>\n",
       "      <td>0</td>\n",
       "      <td>1</td>\n",
       "      <td>0</td>\n",
       "      <td>1</td>\n",
       "      <td>0</td>\n",
       "      <td>0</td>\n",
       "      <td>0</td>\n",
       "      <td>1</td>\n",
       "      <td>0</td>\n",
       "      <td>0</td>\n",
       "    </tr>\n",
       "    <tr>\n",
       "      <th>1</th>\n",
       "      <td>8.300000</td>\n",
       "      <td>0.038428</td>\n",
       "      <td>87.3198</td>\n",
       "      <td>2007</td>\n",
       "      <td>13</td>\n",
       "      <td>1</td>\n",
       "      <td>0</td>\n",
       "      <td>0</td>\n",
       "      <td>1</td>\n",
       "      <td>0</td>\n",
       "      <td>...</td>\n",
       "      <td>0</td>\n",
       "      <td>1</td>\n",
       "      <td>0</td>\n",
       "      <td>0</td>\n",
       "      <td>1</td>\n",
       "      <td>0</td>\n",
       "      <td>0</td>\n",
       "      <td>1</td>\n",
       "      <td>0</td>\n",
       "      <td>0</td>\n",
       "    </tr>\n",
       "    <tr>\n",
       "      <th>2</th>\n",
       "      <td>14.600000</td>\n",
       "      <td>0.099575</td>\n",
       "      <td>241.7538</td>\n",
       "      <td>1998</td>\n",
       "      <td>23</td>\n",
       "      <td>2</td>\n",
       "      <td>0</td>\n",
       "      <td>1</td>\n",
       "      <td>0</td>\n",
       "      <td>0</td>\n",
       "      <td>...</td>\n",
       "      <td>0</td>\n",
       "      <td>1</td>\n",
       "      <td>0</td>\n",
       "      <td>0</td>\n",
       "      <td>0</td>\n",
       "      <td>1</td>\n",
       "      <td>1</td>\n",
       "      <td>0</td>\n",
       "      <td>0</td>\n",
       "      <td>0</td>\n",
       "    </tr>\n",
       "    <tr>\n",
       "      <th>3</th>\n",
       "      <td>7.315000</td>\n",
       "      <td>0.015388</td>\n",
       "      <td>155.0340</td>\n",
       "      <td>2007</td>\n",
       "      <td>24</td>\n",
       "      <td>1</td>\n",
       "      <td>1</td>\n",
       "      <td>0</td>\n",
       "      <td>0</td>\n",
       "      <td>0</td>\n",
       "      <td>...</td>\n",
       "      <td>0</td>\n",
       "      <td>1</td>\n",
       "      <td>0</td>\n",
       "      <td>0</td>\n",
       "      <td>1</td>\n",
       "      <td>0</td>\n",
       "      <td>0</td>\n",
       "      <td>1</td>\n",
       "      <td>0</td>\n",
       "      <td>0</td>\n",
       "    </tr>\n",
       "    <tr>\n",
       "      <th>4</th>\n",
       "      <td>12.695633</td>\n",
       "      <td>0.118599</td>\n",
       "      <td>234.2300</td>\n",
       "      <td>1985</td>\n",
       "      <td>35</td>\n",
       "      <td>1</td>\n",
       "      <td>0</td>\n",
       "      <td>0</td>\n",
       "      <td>1</td>\n",
       "      <td>0</td>\n",
       "      <td>...</td>\n",
       "      <td>0</td>\n",
       "      <td>1</td>\n",
       "      <td>0</td>\n",
       "      <td>0</td>\n",
       "      <td>0</td>\n",
       "      <td>1</td>\n",
       "      <td>0</td>\n",
       "      <td>0</td>\n",
       "      <td>0</td>\n",
       "      <td>1</td>\n",
       "    </tr>\n",
       "  </tbody>\n",
       "</table>\n",
       "<p>5 rows × 45 columns</p>\n",
       "</div>"
      ],
      "text/plain": [
       "   Item_Weight  Item_Visibility  Item_MRP  Outlet_Establishment_Year  \\\n",
       "0    20.750000         0.007565  107.8622                       1999   \n",
       "1     8.300000         0.038428   87.3198                       2007   \n",
       "2    14.600000         0.099575  241.7538                       1998   \n",
       "3     7.315000         0.015388  155.0340                       2007   \n",
       "4    12.695633         0.118599  234.2300                       1985   \n",
       "\n",
       "   Outlet_Years  Item_ID_Type_Combined  Item_Fat_Content_0  \\\n",
       "0            23                      1                   1   \n",
       "1            13                      1                   0   \n",
       "2            23                      2                   0   \n",
       "3            24                      1                   1   \n",
       "4            35                      1                   0   \n",
       "\n",
       "   Item_Fat_Content_1  Item_Fat_Content_2  Item_Type_Baking Goods  ...  \\\n",
       "0                   0                   0                       0  ...   \n",
       "1                   0                   1                       0  ...   \n",
       "2                   1                   0                       0  ...   \n",
       "3                   0                   0                       0  ...   \n",
       "4                   0                   1                       0  ...   \n",
       "\n",
       "   Outlet_Size_0  Outlet_Size_1  Outlet_Size_2  Outlet_Location_Type_0  \\\n",
       "0              0              1              0                       1   \n",
       "1              0              1              0                       0   \n",
       "2              0              1              0                       0   \n",
       "3              0              1              0                       0   \n",
       "4              0              1              0                       0   \n",
       "\n",
       "   Outlet_Location_Type_1  Outlet_Location_Type_2  Outlet_Type_0  \\\n",
       "0                       0                       0              0   \n",
       "1                       1                       0              0   \n",
       "2                       0                       1              1   \n",
       "3                       1                       0              0   \n",
       "4                       0                       1              0   \n",
       "\n",
       "   Outlet_Type_1  Outlet_Type_2  Outlet_Type_3  \n",
       "0              1              0              0  \n",
       "1              1              0              0  \n",
       "2              0              0              0  \n",
       "3              1              0              0  \n",
       "4              0              0              1  \n",
       "\n",
       "[5 rows x 45 columns]"
      ]
     },
     "execution_count": 96,
     "metadata": {},
     "output_type": "execute_result"
    }
   ],
   "source": [
    "test_df = test_df.select_dtypes(exclude='object')\n",
    "test_df.head()"
   ]
  },
  {
   "cell_type": "code",
   "execution_count": 97,
   "id": "c2dc0eeb",
   "metadata": {
    "execution": {
     "iopub.execute_input": "2022-08-13T17:44:41.115262Z",
     "iopub.status.busy": "2022-08-13T17:44:41.114320Z",
     "iopub.status.idle": "2022-08-13T17:44:41.120678Z",
     "shell.execute_reply": "2022-08-13T17:44:41.119820Z"
    },
    "papermill": {
     "duration": 0.058777,
     "end_time": "2022-08-13T17:44:41.123051",
     "exception": false,
     "start_time": "2022-08-13T17:44:41.064274",
     "status": "completed"
    },
    "tags": []
   },
   "outputs": [
    {
     "data": {
      "text/plain": [
       "(5681, 45)"
      ]
     },
     "execution_count": 97,
     "metadata": {},
     "output_type": "execute_result"
    }
   ],
   "source": [
    "test_df.shape"
   ]
  },
  {
   "cell_type": "code",
   "execution_count": 98,
   "id": "f7ba778e",
   "metadata": {
    "execution": {
     "iopub.execute_input": "2022-08-13T17:44:41.224711Z",
     "iopub.status.busy": "2022-08-13T17:44:41.223582Z",
     "iopub.status.idle": "2022-08-13T17:44:41.231623Z",
     "shell.execute_reply": "2022-08-13T17:44:41.230762Z"
    },
    "papermill": {
     "duration": 0.06414,
     "end_time": "2022-08-13T17:44:41.234514",
     "exception": false,
     "start_time": "2022-08-13T17:44:41.170374",
     "status": "completed"
    },
    "tags": []
   },
   "outputs": [],
   "source": [
    "# Features and Target\n",
    "X = train_df.drop(columns= ['Item_Outlet_Sales'], axis=1)\n",
    "y = train_df['Item_Outlet_Sales']"
   ]
  },
  {
   "cell_type": "code",
   "execution_count": 99,
   "id": "c413c45c",
   "metadata": {
    "execution": {
     "iopub.execute_input": "2022-08-13T17:44:41.354941Z",
     "iopub.status.busy": "2022-08-13T17:44:41.354490Z",
     "iopub.status.idle": "2022-08-13T17:44:41.364829Z",
     "shell.execute_reply": "2022-08-13T17:44:41.363898Z"
    },
    "papermill": {
     "duration": 0.071062,
     "end_time": "2022-08-13T17:44:41.367454",
     "exception": false,
     "start_time": "2022-08-13T17:44:41.296392",
     "status": "completed"
    },
    "tags": []
   },
   "outputs": [],
   "source": [
    "# 20% of data is set aside for validation\n",
    "X_train, X_test, y_train, y_test = train_test_split(X, y, test_size=0.2, random_state=22)"
   ]
  },
  {
   "cell_type": "code",
   "execution_count": 100,
   "id": "74e0400c",
   "metadata": {
    "execution": {
     "iopub.execute_input": "2022-08-13T17:44:41.465661Z",
     "iopub.status.busy": "2022-08-13T17:44:41.464802Z",
     "iopub.status.idle": "2022-08-13T17:44:41.473242Z",
     "shell.execute_reply": "2022-08-13T17:44:41.472089Z"
    },
    "papermill": {
     "duration": 0.059886,
     "end_time": "2022-08-13T17:44:41.475824",
     "exception": false,
     "start_time": "2022-08-13T17:44:41.415938",
     "status": "completed"
    },
    "tags": []
   },
   "outputs": [
    {
     "data": {
      "text/plain": [
       "((6818, 45), (1705, 45), (6818,), (1705,))"
      ]
     },
     "execution_count": 100,
     "metadata": {},
     "output_type": "execute_result"
    }
   ],
   "source": [
    "X_train.shape , X_test.shape, y_train.shape, y_test.shape"
   ]
  },
  {
   "cell_type": "code",
   "execution_count": 101,
   "id": "bf7cdca9",
   "metadata": {
    "execution": {
     "iopub.execute_input": "2022-08-13T17:44:41.597238Z",
     "iopub.status.busy": "2022-08-13T17:44:41.596441Z",
     "iopub.status.idle": "2022-08-13T17:44:41.618416Z",
     "shell.execute_reply": "2022-08-13T17:44:41.617000Z"
    },
    "papermill": {
     "duration": 0.075952,
     "end_time": "2022-08-13T17:44:41.621141",
     "exception": false,
     "start_time": "2022-08-13T17:44:41.545189",
     "status": "completed"
    },
    "tags": []
   },
   "outputs": [
    {
     "data": {
      "text/html": [
       "<div>\n",
       "<style scoped>\n",
       "    .dataframe tbody tr th:only-of-type {\n",
       "        vertical-align: middle;\n",
       "    }\n",
       "\n",
       "    .dataframe tbody tr th {\n",
       "        vertical-align: top;\n",
       "    }\n",
       "\n",
       "    .dataframe thead th {\n",
       "        text-align: right;\n",
       "    }\n",
       "</style>\n",
       "<table border=\"1\" class=\"dataframe\">\n",
       "  <thead>\n",
       "    <tr style=\"text-align: right;\">\n",
       "      <th></th>\n",
       "      <th>Item_Weight</th>\n",
       "      <th>Item_Visibility</th>\n",
       "      <th>Item_MRP</th>\n",
       "      <th>Outlet_Establishment_Year</th>\n",
       "      <th>Outlet_Years</th>\n",
       "      <th>Item_ID_Type_Combined</th>\n",
       "      <th>Item_Fat_Content_0</th>\n",
       "      <th>Item_Fat_Content_1</th>\n",
       "      <th>Item_Fat_Content_2</th>\n",
       "      <th>Item_Type_Baking Goods</th>\n",
       "      <th>...</th>\n",
       "      <th>Outlet_Size_0</th>\n",
       "      <th>Outlet_Size_1</th>\n",
       "      <th>Outlet_Size_2</th>\n",
       "      <th>Outlet_Location_Type_0</th>\n",
       "      <th>Outlet_Location_Type_1</th>\n",
       "      <th>Outlet_Location_Type_2</th>\n",
       "      <th>Outlet_Type_0</th>\n",
       "      <th>Outlet_Type_1</th>\n",
       "      <th>Outlet_Type_2</th>\n",
       "      <th>Outlet_Type_3</th>\n",
       "    </tr>\n",
       "  </thead>\n",
       "  <tbody>\n",
       "    <tr>\n",
       "      <th>6594</th>\n",
       "      <td>14.00</td>\n",
       "      <td>0.037581</td>\n",
       "      <td>162.6526</td>\n",
       "      <td>1999</td>\n",
       "      <td>23</td>\n",
       "      <td>1</td>\n",
       "      <td>0</td>\n",
       "      <td>0</td>\n",
       "      <td>1</td>\n",
       "      <td>0</td>\n",
       "      <td>...</td>\n",
       "      <td>0</td>\n",
       "      <td>1</td>\n",
       "      <td>0</td>\n",
       "      <td>1</td>\n",
       "      <td>0</td>\n",
       "      <td>0</td>\n",
       "      <td>0</td>\n",
       "      <td>1</td>\n",
       "      <td>0</td>\n",
       "      <td>0</td>\n",
       "    </tr>\n",
       "    <tr>\n",
       "      <th>4942</th>\n",
       "      <td>17.70</td>\n",
       "      <td>0.135306</td>\n",
       "      <td>183.7924</td>\n",
       "      <td>1999</td>\n",
       "      <td>23</td>\n",
       "      <td>1</td>\n",
       "      <td>0</td>\n",
       "      <td>0</td>\n",
       "      <td>1</td>\n",
       "      <td>0</td>\n",
       "      <td>...</td>\n",
       "      <td>0</td>\n",
       "      <td>1</td>\n",
       "      <td>0</td>\n",
       "      <td>1</td>\n",
       "      <td>0</td>\n",
       "      <td>0</td>\n",
       "      <td>0</td>\n",
       "      <td>1</td>\n",
       "      <td>0</td>\n",
       "      <td>0</td>\n",
       "    </tr>\n",
       "    <tr>\n",
       "      <th>4632</th>\n",
       "      <td>8.85</td>\n",
       "      <td>0.053822</td>\n",
       "      <td>183.8292</td>\n",
       "      <td>1987</td>\n",
       "      <td>35</td>\n",
       "      <td>1</td>\n",
       "      <td>1</td>\n",
       "      <td>0</td>\n",
       "      <td>0</td>\n",
       "      <td>0</td>\n",
       "      <td>...</td>\n",
       "      <td>1</td>\n",
       "      <td>0</td>\n",
       "      <td>0</td>\n",
       "      <td>0</td>\n",
       "      <td>0</td>\n",
       "      <td>1</td>\n",
       "      <td>0</td>\n",
       "      <td>1</td>\n",
       "      <td>0</td>\n",
       "      <td>0</td>\n",
       "    </tr>\n",
       "    <tr>\n",
       "      <th>5846</th>\n",
       "      <td>15.60</td>\n",
       "      <td>0.081563</td>\n",
       "      <td>112.7544</td>\n",
       "      <td>2007</td>\n",
       "      <td>15</td>\n",
       "      <td>1</td>\n",
       "      <td>1</td>\n",
       "      <td>0</td>\n",
       "      <td>0</td>\n",
       "      <td>1</td>\n",
       "      <td>...</td>\n",
       "      <td>0</td>\n",
       "      <td>1</td>\n",
       "      <td>0</td>\n",
       "      <td>0</td>\n",
       "      <td>1</td>\n",
       "      <td>0</td>\n",
       "      <td>0</td>\n",
       "      <td>1</td>\n",
       "      <td>0</td>\n",
       "      <td>0</td>\n",
       "    </tr>\n",
       "    <tr>\n",
       "      <th>6760</th>\n",
       "      <td>12.60</td>\n",
       "      <td>0.041727</td>\n",
       "      <td>122.0072</td>\n",
       "      <td>2009</td>\n",
       "      <td>13</td>\n",
       "      <td>1</td>\n",
       "      <td>0</td>\n",
       "      <td>0</td>\n",
       "      <td>1</td>\n",
       "      <td>0</td>\n",
       "      <td>...</td>\n",
       "      <td>0</td>\n",
       "      <td>1</td>\n",
       "      <td>0</td>\n",
       "      <td>0</td>\n",
       "      <td>0</td>\n",
       "      <td>1</td>\n",
       "      <td>0</td>\n",
       "      <td>0</td>\n",
       "      <td>1</td>\n",
       "      <td>0</td>\n",
       "    </tr>\n",
       "  </tbody>\n",
       "</table>\n",
       "<p>5 rows × 45 columns</p>\n",
       "</div>"
      ],
      "text/plain": [
       "      Item_Weight  Item_Visibility  Item_MRP  Outlet_Establishment_Year  \\\n",
       "6594        14.00         0.037581  162.6526                       1999   \n",
       "4942        17.70         0.135306  183.7924                       1999   \n",
       "4632         8.85         0.053822  183.8292                       1987   \n",
       "5846        15.60         0.081563  112.7544                       2007   \n",
       "6760        12.60         0.041727  122.0072                       2009   \n",
       "\n",
       "      Outlet_Years  Item_ID_Type_Combined  Item_Fat_Content_0  \\\n",
       "6594            23                      1                   0   \n",
       "4942            23                      1                   0   \n",
       "4632            35                      1                   1   \n",
       "5846            15                      1                   1   \n",
       "6760            13                      1                   0   \n",
       "\n",
       "      Item_Fat_Content_1  Item_Fat_Content_2  Item_Type_Baking Goods  ...  \\\n",
       "6594                   0                   1                       0  ...   \n",
       "4942                   0                   1                       0  ...   \n",
       "4632                   0                   0                       0  ...   \n",
       "5846                   0                   0                       1  ...   \n",
       "6760                   0                   1                       0  ...   \n",
       "\n",
       "      Outlet_Size_0  Outlet_Size_1  Outlet_Size_2  Outlet_Location_Type_0  \\\n",
       "6594              0              1              0                       1   \n",
       "4942              0              1              0                       1   \n",
       "4632              1              0              0                       0   \n",
       "5846              0              1              0                       0   \n",
       "6760              0              1              0                       0   \n",
       "\n",
       "      Outlet_Location_Type_1  Outlet_Location_Type_2  Outlet_Type_0  \\\n",
       "6594                       0                       0              0   \n",
       "4942                       0                       0              0   \n",
       "4632                       0                       1              0   \n",
       "5846                       1                       0              0   \n",
       "6760                       0                       1              0   \n",
       "\n",
       "      Outlet_Type_1  Outlet_Type_2  Outlet_Type_3  \n",
       "6594              1              0              0  \n",
       "4942              1              0              0  \n",
       "4632              1              0              0  \n",
       "5846              1              0              0  \n",
       "6760              0              1              0  \n",
       "\n",
       "[5 rows x 45 columns]"
      ]
     },
     "execution_count": 101,
     "metadata": {},
     "output_type": "execute_result"
    }
   ],
   "source": [
    "X_train.head()"
   ]
  },
  {
   "cell_type": "code",
   "execution_count": 102,
   "id": "17997036",
   "metadata": {
    "execution": {
     "iopub.execute_input": "2022-08-13T17:44:41.720957Z",
     "iopub.status.busy": "2022-08-13T17:44:41.720130Z",
     "iopub.status.idle": "2022-08-13T17:44:41.726654Z",
     "shell.execute_reply": "2022-08-13T17:44:41.725696Z"
    },
    "papermill": {
     "duration": 0.059096,
     "end_time": "2022-08-13T17:44:41.729350",
     "exception": false,
     "start_time": "2022-08-13T17:44:41.670254",
     "status": "completed"
    },
    "tags": []
   },
   "outputs": [],
   "source": [
    "def cross_val(model_name,model,X,y,cv):    \n",
    "    scores = CVS(model, X, y, cv=cv)\n",
    "    print(f'{model_name} Scores:')\n",
    "    for i in scores:\n",
    "        print(round(i,2))\n",
    "    print(f'Average {model_name} score: {round(scores.mean(),4)}')"
   ]
  },
  {
   "cell_type": "code",
   "execution_count": 103,
   "id": "499d0e99",
   "metadata": {
    "execution": {
     "iopub.execute_input": "2022-08-13T17:44:41.827156Z",
     "iopub.status.busy": "2022-08-13T17:44:41.826381Z",
     "iopub.status.idle": "2022-08-13T17:44:41.902689Z",
     "shell.execute_reply": "2022-08-13T17:44:41.900483Z"
    },
    "papermill": {
     "duration": 0.129669,
     "end_time": "2022-08-13T17:44:41.906978",
     "exception": false,
     "start_time": "2022-08-13T17:44:41.777309",
     "status": "completed"
    },
    "tags": []
   },
   "outputs": [
    {
     "name": "stdout",
     "output_type": "stream",
     "text": [
      "Train Score (R-Squared):  0.5693315126262525\n",
      "Test Score (R-Squared) 0.5406901704393552\n"
     ]
    },
    {
     "data": {
      "text/plain": [
       "Outlet_Type_1                  -1.663271e+15\n",
       "Outlet_Type_2                  -1.293111e+15\n",
       "Outlet_Size_1                  -1.225274e+15\n",
       "Item_Type_Household            -1.206997e+15\n",
       "Item_Type_Health and Hygiene   -1.206997e+15\n",
       "Item_Type_Others               -1.206997e+15\n",
       "Outlet_Identifier_4            -9.779908e+14\n",
       "Outlet_Type_0                  -6.907283e+14\n",
       "Outlet_Identifier_6            -6.423994e+14\n",
       "Outlet_Identifier_8            -3.863360e+14\n",
       "dtype: float64"
      ]
     },
     "execution_count": 103,
     "metadata": {},
     "output_type": "execute_result"
    }
   ],
   "source": [
    "# Model Building\n",
    "features = X_train.columns\n",
    "LinRegModel = LinearRegression(normalize=True, fit_intercept=True)\n",
    "LinRegModel.fit(X_train, y_train)\n",
    "\n",
    "train_score=LinRegModel.score(X_train,y_train)\n",
    "test_score=LinRegModel.score(X_test,y_test)\n",
    "\n",
    "print('Train Score (R-Squared): ',train_score)\n",
    "print('Test Score (R-Squared)',test_score)\n",
    "\n",
    "y_predict = LinRegModel.predict(X_test)\n",
    "coef = pd.Series(LinRegModel.coef_, features).sort_values()\n",
    "coef.head(10)"
   ]
  },
  {
   "cell_type": "code",
   "execution_count": 104,
   "id": "6224b2be",
   "metadata": {
    "execution": {
     "iopub.execute_input": "2022-08-13T17:44:42.083499Z",
     "iopub.status.busy": "2022-08-13T17:44:42.083077Z",
     "iopub.status.idle": "2022-08-13T17:44:42.659853Z",
     "shell.execute_reply": "2022-08-13T17:44:42.658013Z"
    },
    "papermill": {
     "duration": 0.630998,
     "end_time": "2022-08-13T17:44:42.663842",
     "exception": false,
     "start_time": "2022-08-13T17:44:42.032844",
     "status": "completed"
    },
    "tags": []
   },
   "outputs": [
    {
     "name": "stdout",
     "output_type": "stream",
     "text": [
      " Mean Absolute Error: 880.62\n",
      "\n",
      " Mean Squared Error: 1419416.14\n",
      "\n",
      " R^2 Score: 0.5407\n",
      "\n",
      "LinearRegression(normalize=True) Scores:\n",
      "0.57\n",
      "0.55\n",
      "0.55\n",
      "0.56\n",
      "0.56\n",
      "Average LinearRegression(normalize=True) score: 0.5587\n"
     ]
    }
   ],
   "source": [
    "#score variables\n",
    "LR_MAE = round(metrics.mean_absolute_error(y_test, y_predict),2)\n",
    "LR_MSE = round(metrics.mean_squared_error(y_test, y_predict),2)\n",
    "LR_R_2 = round(metrics.r2_score(y_test, y_predict),4)\n",
    "LR_CS  = round(CVS(LinRegModel, X, y, cv=5).mean(),4)\n",
    "\n",
    "print(f\" Mean Absolute Error: {LR_MAE}\\n\")\n",
    "print(f\" Mean Squared Error: {LR_MSE}\\n\")\n",
    "print(f\" R^2 Score: {LR_R_2}\\n\")\n",
    "cross_val(LinRegModel,LinearRegression(),X,y,5)"
   ]
  },
  {
   "cell_type": "code",
   "execution_count": 105,
   "id": "86271701",
   "metadata": {
    "execution": {
     "iopub.execute_input": "2022-08-13T17:44:42.841385Z",
     "iopub.status.busy": "2022-08-13T17:44:42.840948Z",
     "iopub.status.idle": "2022-08-13T17:44:43.538902Z",
     "shell.execute_reply": "2022-08-13T17:44:43.537898Z"
    },
    "papermill": {
     "duration": 0.75038,
     "end_time": "2022-08-13T17:44:43.541365",
     "exception": false,
     "start_time": "2022-08-13T17:44:42.790985",
     "status": "completed"
    },
    "tags": []
   },
   "outputs": [
    {
     "data": {
      "text/plain": [
       "<AxesSubplot:>"
      ]
     },
     "execution_count": 105,
     "metadata": {},
     "output_type": "execute_result"
    },
    {
     "data": {
      "image/png": "[encoded data removed]",
      "text/plain": [
       "<Figure size 1080x720 with 1 Axes>"
      ]
     },
     "metadata": {
      "needs_background": "light"
     },
     "output_type": "display_data"
    }
   ],
   "source": [
    "plt.figure(figsize=(15,10))\n",
    "sns.barplot(LinRegModel.coef_, features)"
   ]
  },
  {
   "cell_type": "code",
   "execution_count": 106,
   "id": "801e4983",
   "metadata": {
    "execution": {
     "iopub.execute_input": "2022-08-13T17:44:43.643519Z",
     "iopub.status.busy": "2022-08-13T17:44:43.643074Z",
     "iopub.status.idle": "2022-08-13T17:44:43.655758Z",
     "shell.execute_reply": "2022-08-13T17:44:43.654581Z"
    },
    "papermill": {
     "duration": 0.066462,
     "end_time": "2022-08-13T17:44:43.658489",
     "exception": false,
     "start_time": "2022-08-13T17:44:43.592027",
     "status": "completed"
    },
    "tags": []
   },
   "outputs": [],
   "source": [
    "LinearRegressionTrainOutput = pd.DataFrame({'y_test':y_test, 'prediction':y_predict})\n",
    "LinearRegressionTrainOutput.to_csv(\"Linear Regression Train.csv\")"
   ]
  },
  {
   "cell_type": "markdown",
   "id": "192bae53",
   "metadata": {
    "papermill": {
     "duration": 0.048987,
     "end_time": "2022-08-13T17:44:43.756584",
     "exception": false,
     "start_time": "2022-08-13T17:44:43.707597",
     "status": "completed"
    },
    "tags": []
   },
   "source": [
    "Predicting the values for the Test Data"
   ]
  },
  {
   "cell_type": "code",
   "execution_count": 107,
   "id": "ae8e7324",
   "metadata": {
    "execution": {
     "iopub.execute_input": "2022-08-13T17:44:43.857425Z",
     "iopub.status.busy": "2022-08-13T17:44:43.856528Z",
     "iopub.status.idle": "2022-08-13T17:44:43.864634Z",
     "shell.execute_reply": "2022-08-13T17:44:43.863368Z"
    },
    "papermill": {
     "duration": 0.061646,
     "end_time": "2022-08-13T17:44:43.866937",
     "exception": false,
     "start_time": "2022-08-13T17:44:43.805291",
     "status": "completed"
    },
    "tags": []
   },
   "outputs": [
    {
     "data": {
      "text/plain": [
       "(5681, 45)"
      ]
     },
     "execution_count": 107,
     "metadata": {},
     "output_type": "execute_result"
    }
   ],
   "source": [
    "test_df.shape"
   ]
  },
  {
   "cell_type": "code",
   "execution_count": 108,
   "id": "c0eca4aa",
   "metadata": {
    "execution": {
     "iopub.execute_input": "2022-08-13T17:44:43.969103Z",
     "iopub.status.busy": "2022-08-13T17:44:43.968662Z",
     "iopub.status.idle": "2022-08-13T17:44:43.987918Z",
     "shell.execute_reply": "2022-08-13T17:44:43.986980Z"
    },
    "papermill": {
     "duration": 0.072652,
     "end_time": "2022-08-13T17:44:43.990234",
     "exception": false,
     "start_time": "2022-08-13T17:44:43.917582",
     "status": "completed"
    },
    "tags": []
   },
   "outputs": [
    {
     "data": {
      "text/html": [
       "<div>\n",
       "<style scoped>\n",
       "    .dataframe tbody tr th:only-of-type {\n",
       "        vertical-align: middle;\n",
       "    }\n",
       "\n",
       "    .dataframe tbody tr th {\n",
       "        vertical-align: top;\n",
       "    }\n",
       "\n",
       "    .dataframe thead th {\n",
       "        text-align: right;\n",
       "    }\n",
       "</style>\n",
       "<table border=\"1\" class=\"dataframe\">\n",
       "  <thead>\n",
       "    <tr style=\"text-align: right;\">\n",
       "      <th></th>\n",
       "      <th>Item_Weight</th>\n",
       "      <th>Item_Visibility</th>\n",
       "      <th>Item_MRP</th>\n",
       "      <th>Outlet_Establishment_Year</th>\n",
       "      <th>Outlet_Years</th>\n",
       "      <th>Item_ID_Type_Combined</th>\n",
       "      <th>Item_Fat_Content_0</th>\n",
       "      <th>Item_Fat_Content_1</th>\n",
       "      <th>Item_Fat_Content_2</th>\n",
       "      <th>Item_Type_Baking Goods</th>\n",
       "      <th>...</th>\n",
       "      <th>Outlet_Size_0</th>\n",
       "      <th>Outlet_Size_1</th>\n",
       "      <th>Outlet_Size_2</th>\n",
       "      <th>Outlet_Location_Type_0</th>\n",
       "      <th>Outlet_Location_Type_1</th>\n",
       "      <th>Outlet_Location_Type_2</th>\n",
       "      <th>Outlet_Type_0</th>\n",
       "      <th>Outlet_Type_1</th>\n",
       "      <th>Outlet_Type_2</th>\n",
       "      <th>Outlet_Type_3</th>\n",
       "    </tr>\n",
       "  </thead>\n",
       "  <tbody>\n",
       "    <tr>\n",
       "      <th>0</th>\n",
       "      <td>20.750000</td>\n",
       "      <td>0.007565</td>\n",
       "      <td>107.8622</td>\n",
       "      <td>1999</td>\n",
       "      <td>23</td>\n",
       "      <td>1</td>\n",
       "      <td>1</td>\n",
       "      <td>0</td>\n",
       "      <td>0</td>\n",
       "      <td>0</td>\n",
       "      <td>...</td>\n",
       "      <td>0</td>\n",
       "      <td>1</td>\n",
       "      <td>0</td>\n",
       "      <td>1</td>\n",
       "      <td>0</td>\n",
       "      <td>0</td>\n",
       "      <td>0</td>\n",
       "      <td>1</td>\n",
       "      <td>0</td>\n",
       "      <td>0</td>\n",
       "    </tr>\n",
       "    <tr>\n",
       "      <th>1</th>\n",
       "      <td>8.300000</td>\n",
       "      <td>0.038428</td>\n",
       "      <td>87.3198</td>\n",
       "      <td>2007</td>\n",
       "      <td>13</td>\n",
       "      <td>1</td>\n",
       "      <td>0</td>\n",
       "      <td>0</td>\n",
       "      <td>1</td>\n",
       "      <td>0</td>\n",
       "      <td>...</td>\n",
       "      <td>0</td>\n",
       "      <td>1</td>\n",
       "      <td>0</td>\n",
       "      <td>0</td>\n",
       "      <td>1</td>\n",
       "      <td>0</td>\n",
       "      <td>0</td>\n",
       "      <td>1</td>\n",
       "      <td>0</td>\n",
       "      <td>0</td>\n",
       "    </tr>\n",
       "    <tr>\n",
       "      <th>2</th>\n",
       "      <td>14.600000</td>\n",
       "      <td>0.099575</td>\n",
       "      <td>241.7538</td>\n",
       "      <td>1998</td>\n",
       "      <td>23</td>\n",
       "      <td>2</td>\n",
       "      <td>0</td>\n",
       "      <td>1</td>\n",
       "      <td>0</td>\n",
       "      <td>0</td>\n",
       "      <td>...</td>\n",
       "      <td>0</td>\n",
       "      <td>1</td>\n",
       "      <td>0</td>\n",
       "      <td>0</td>\n",
       "      <td>0</td>\n",
       "      <td>1</td>\n",
       "      <td>1</td>\n",
       "      <td>0</td>\n",
       "      <td>0</td>\n",
       "      <td>0</td>\n",
       "    </tr>\n",
       "    <tr>\n",
       "      <th>3</th>\n",
       "      <td>7.315000</td>\n",
       "      <td>0.015388</td>\n",
       "      <td>155.0340</td>\n",
       "      <td>2007</td>\n",
       "      <td>24</td>\n",
       "      <td>1</td>\n",
       "      <td>1</td>\n",
       "      <td>0</td>\n",
       "      <td>0</td>\n",
       "      <td>0</td>\n",
       "      <td>...</td>\n",
       "      <td>0</td>\n",
       "      <td>1</td>\n",
       "      <td>0</td>\n",
       "      <td>0</td>\n",
       "      <td>1</td>\n",
       "      <td>0</td>\n",
       "      <td>0</td>\n",
       "      <td>1</td>\n",
       "      <td>0</td>\n",
       "      <td>0</td>\n",
       "    </tr>\n",
       "    <tr>\n",
       "      <th>4</th>\n",
       "      <td>12.695633</td>\n",
       "      <td>0.118599</td>\n",
       "      <td>234.2300</td>\n",
       "      <td>1985</td>\n",
       "      <td>35</td>\n",
       "      <td>1</td>\n",
       "      <td>0</td>\n",
       "      <td>0</td>\n",
       "      <td>1</td>\n",
       "      <td>0</td>\n",
       "      <td>...</td>\n",
       "      <td>0</td>\n",
       "      <td>1</td>\n",
       "      <td>0</td>\n",
       "      <td>0</td>\n",
       "      <td>0</td>\n",
       "      <td>1</td>\n",
       "      <td>0</td>\n",
       "      <td>0</td>\n",
       "      <td>0</td>\n",
       "      <td>1</td>\n",
       "    </tr>\n",
       "  </tbody>\n",
       "</table>\n",
       "<p>5 rows × 45 columns</p>\n",
       "</div>"
      ],
      "text/plain": [
       "   Item_Weight  Item_Visibility  Item_MRP  Outlet_Establishment_Year  \\\n",
       "0    20.750000         0.007565  107.8622                       1999   \n",
       "1     8.300000         0.038428   87.3198                       2007   \n",
       "2    14.600000         0.099575  241.7538                       1998   \n",
       "3     7.315000         0.015388  155.0340                       2007   \n",
       "4    12.695633         0.118599  234.2300                       1985   \n",
       "\n",
       "   Outlet_Years  Item_ID_Type_Combined  Item_Fat_Content_0  \\\n",
       "0            23                      1                   1   \n",
       "1            13                      1                   0   \n",
       "2            23                      2                   0   \n",
       "3            24                      1                   1   \n",
       "4            35                      1                   0   \n",
       "\n",
       "   Item_Fat_Content_1  Item_Fat_Content_2  Item_Type_Baking Goods  ...  \\\n",
       "0                   0                   0                       0  ...   \n",
       "1                   0                   1                       0  ...   \n",
       "2                   1                   0                       0  ...   \n",
       "3                   0                   0                       0  ...   \n",
       "4                   0                   1                       0  ...   \n",
       "\n",
       "   Outlet_Size_0  Outlet_Size_1  Outlet_Size_2  Outlet_Location_Type_0  \\\n",
       "0              0              1              0                       1   \n",
       "1              0              1              0                       0   \n",
       "2              0              1              0                       0   \n",
       "3              0              1              0                       0   \n",
       "4              0              1              0                       0   \n",
       "\n",
       "   Outlet_Location_Type_1  Outlet_Location_Type_2  Outlet_Type_0  \\\n",
       "0                       0                       0              0   \n",
       "1                       1                       0              0   \n",
       "2                       0                       1              1   \n",
       "3                       1                       0              0   \n",
       "4                       0                       1              0   \n",
       "\n",
       "   Outlet_Type_1  Outlet_Type_2  Outlet_Type_3  \n",
       "0              1              0              0  \n",
       "1              1              0              0  \n",
       "2              0              0              0  \n",
       "3              1              0              0  \n",
       "4              0              0              1  \n",
       "\n",
       "[5 rows x 45 columns]"
      ]
     },
     "execution_count": 108,
     "metadata": {},
     "output_type": "execute_result"
    }
   ],
   "source": [
    "test_df.head()"
   ]
  },
  {
   "cell_type": "code",
   "execution_count": 109,
   "id": "a9756c7f",
   "metadata": {
    "execution": {
     "iopub.execute_input": "2022-08-13T17:44:44.092150Z",
     "iopub.status.busy": "2022-08-13T17:44:44.091450Z",
     "iopub.status.idle": "2022-08-13T17:44:44.108740Z",
     "shell.execute_reply": "2022-08-13T17:44:44.107209Z"
    },
    "papermill": {
     "duration": 0.072602,
     "end_time": "2022-08-13T17:44:44.112691",
     "exception": false,
     "start_time": "2022-08-13T17:44:44.040089",
     "status": "completed"
    },
    "tags": []
   },
   "outputs": [
    {
     "data": {
      "text/plain": [
       "(5681,)"
      ]
     },
     "execution_count": 109,
     "metadata": {},
     "output_type": "execute_result"
    }
   ],
   "source": [
    "features_test = test_df.columns\n",
    "y_predict_test = LinRegModel.predict(test_df)\n",
    "y_predict_test.shape"
   ]
  },
  {
   "cell_type": "code",
   "execution_count": 110,
   "id": "f3aacd1c",
   "metadata": {
    "execution": {
     "iopub.execute_input": "2022-08-13T17:44:44.281441Z",
     "iopub.status.busy": "2022-08-13T17:44:44.281029Z",
     "iopub.status.idle": "2022-08-13T17:44:44.287123Z",
     "shell.execute_reply": "2022-08-13T17:44:44.285844Z"
    },
    "papermill": {
     "duration": 0.060392,
     "end_time": "2022-08-13T17:44:44.289566",
     "exception": false,
     "start_time": "2022-08-13T17:44:44.229174",
     "status": "completed"
    },
    "tags": []
   },
   "outputs": [],
   "source": [
    "test_df['Item_Outlet_Sales']=y_predict_test"
   ]
  },
  {
   "cell_type": "code",
   "execution_count": 111,
   "id": "7169746a",
   "metadata": {
    "execution": {
     "iopub.execute_input": "2022-08-13T17:44:44.394424Z",
     "iopub.status.busy": "2022-08-13T17:44:44.393991Z",
     "iopub.status.idle": "2022-08-13T17:44:44.399852Z",
     "shell.execute_reply": "2022-08-13T17:44:44.398985Z"
    },
    "papermill": {
     "duration": 0.061295,
     "end_time": "2022-08-13T17:44:44.401931",
     "exception": false,
     "start_time": "2022-08-13T17:44:44.340636",
     "status": "completed"
    },
    "tags": []
   },
   "outputs": [
    {
     "data": {
      "text/plain": [
       "(5681, 46)"
      ]
     },
     "execution_count": 111,
     "metadata": {},
     "output_type": "execute_result"
    }
   ],
   "source": [
    "test_df.shape"
   ]
  },
  {
   "cell_type": "code",
   "execution_count": 112,
   "id": "88b017ac",
   "metadata": {
    "execution": {
     "iopub.execute_input": "2022-08-13T17:44:44.504620Z",
     "iopub.status.busy": "2022-08-13T17:44:44.503832Z",
     "iopub.status.idle": "2022-08-13T17:44:44.579737Z",
     "shell.execute_reply": "2022-08-13T17:44:44.578335Z"
    },
    "papermill": {
     "duration": 0.129963,
     "end_time": "2022-08-13T17:44:44.582639",
     "exception": false,
     "start_time": "2022-08-13T17:44:44.452676",
     "status": "completed"
    },
    "tags": []
   },
   "outputs": [],
   "source": [
    "LinearRegressionTestOutput = test_df\n",
    "LinearRegressionTestOutput.to_csv(\"Linear Regression Test.csv\")"
   ]
  },
  {
   "cell_type": "code",
   "execution_count": null,
   "id": "90c524ee",
   "metadata": {
    "papermill": {
     "duration": 0.051311,
     "end_time": "2022-08-13T17:44:44.684317",
     "exception": false,
     "start_time": "2022-08-13T17:44:44.633006",
     "status": "completed"
    },
    "tags": []
   },
   "outputs": [],
   "source": []
  }
 ],
 "metadata": {
  "kernelspec": {
   "display_name": "Python 3 (ipykernel)",
   "language": "python",
   "name": "python3"
  },
  "language_info": {
   "codemirror_mode": {
    "name": "ipython",
    "version": 3
   },
   "file_extension": ".py",
   "mimetype": "text/x-python",
   "name": "python",
   "nbconvert_exporter": "python",
   "pygments_lexer": "ipython3",
   "version": "3.12.3"
  },
  "papermill": {
   "default_parameters": {},
   "duration": 35.683964,
   "end_time": "2022-08-13T17:44:45.659941",
   "environment_variables": {},
   "exception": null,
   "input_path": "__notebook__.ipynb",
   "output_path": "__notebook__.ipynb",
   "parameters": {},
   "start_time": "2022-08-13T17:44:09.975977",
   "version": "2.3.4"
  }
 },
 "nbformat": 4,
 "nbformat_minor": 5
}
